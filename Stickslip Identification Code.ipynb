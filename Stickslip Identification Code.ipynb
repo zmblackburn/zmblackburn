{
 "cells": [
  {
   "cell_type": "markdown",
   "metadata": {
    "id": "1c38_rY4Q8pp"
   },
   "source": [
    "On my honor as an Aggie, I have neither given nor received any unauthorized aid on this work - **(Type in your name here and run this cell)**"
   ]
  },
  {
   "cell_type": "markdown",
   "metadata": {
    "id": "qOFFUt-Po_QX"
   },
   "source": [
    "**Mount Google Drive**"
   ]
  },
  {
   "cell_type": "code",
   "execution_count": 1,
   "metadata": {
    "colab": {
     "base_uri": "https://localhost:8080/"
    },
    "executionInfo": {
     "elapsed": 46072,
     "status": "ok",
     "timestamp": 1605196286951,
     "user": {
      "displayName": "Narendra Vishnumolakala",
      "photoUrl": "",
      "userId": "05474597894283672694"
     },
     "user_tz": -330
    },
    "id": "VNVvqWYvRkwI",
    "outputId": "eb106ade-ac02-45d3-d85e-7f04159e084a"
   },
   "outputs": [
    {
     "ename": "ModuleNotFoundError",
     "evalue": "No module named 'google.colab'",
     "output_type": "error",
     "traceback": [
      "\u001b[0;31m---------------------------------------------------------------------------\u001b[0m",
      "\u001b[0;31mModuleNotFoundError\u001b[0m                       Traceback (most recent call last)",
      "\u001b[0;32m<ipython-input-1-4996ee3d8d09>\u001b[0m in \u001b[0;36m<module>\u001b[0;34m\u001b[0m\n\u001b[0;32m----> 1\u001b[0;31m \u001b[0;32mfrom\u001b[0m \u001b[0mgoogle\u001b[0m\u001b[0;34m.\u001b[0m\u001b[0mcolab\u001b[0m \u001b[0;32mimport\u001b[0m \u001b[0mdrive\u001b[0m\u001b[0;34m\u001b[0m\u001b[0;34m\u001b[0m\u001b[0m\n\u001b[0m\u001b[1;32m      2\u001b[0m \u001b[0mdrive\u001b[0m\u001b[0;34m.\u001b[0m\u001b[0mmount\u001b[0m\u001b[0;34m(\u001b[0m\u001b[0;34m'/content/gdrive'\u001b[0m\u001b[0;34m)\u001b[0m\u001b[0;34m\u001b[0m\u001b[0;34m\u001b[0m\u001b[0m\n",
      "\u001b[0;31mModuleNotFoundError\u001b[0m: No module named 'google.colab'"
     ]
    }
   ],
   "source": [
    "from google.colab import drive\n",
    "drive.mount('/content/gdrive')"
   ]
  },
  {
   "cell_type": "markdown",
   "metadata": {
    "id": "FU5OdEmApDtE"
   },
   "source": [
    "**Import Libraries**"
   ]
  },
  {
   "cell_type": "code",
   "execution_count": null,
   "metadata": {
    "id": "YgcJFtkoRmXk"
   },
   "outputs": [],
   "source": [
    "import pandas as pd\n",
    "import numpy as np\n",
    "import matplotlib.pyplot as plt\n",
    "import seaborn as sns\n",
    "%matplotlib inline"
   ]
  },
  {
   "cell_type": "markdown",
   "metadata": {
    "id": "ffSckn9mo6_5"
   },
   "source": [
    "**Import the Data (.csv file)**"
   ]
  },
  {
   "cell_type": "code",
   "execution_count": null,
   "metadata": {
    "id": "Mhq87yDvgCrw"
   },
   "outputs": [],
   "source": [
    "Vib = pd.read_csv('/content/gdrive/My Drive/Colab Notebooks/data.csv')"
   ]
  },
  {
   "cell_type": "markdown",
   "metadata": {
    "id": "x2hAcsTZpTde"
   },
   "source": [
    "# Exploratory Analysis"
   ]
  },
  {
   "cell_type": "markdown",
   "metadata": {
    "id": "YctUT0u8R-Rn"
   },
   "source": [
    "*The variable 'Vib' has all the data. Explore the data using the commands - head, info, describe, or any other commands you want to try out.*"
   ]
  },
  {
   "cell_type": "code",
   "execution_count": null,
   "metadata": {
    "id": "2ze9tsKcSTDJ"
   },
   "outputs": [],
   "source": []
  },
  {
   "cell_type": "code",
   "execution_count": null,
   "metadata": {
    "id": "m913XsZDSTF1"
   },
   "outputs": [],
   "source": []
  },
  {
   "cell_type": "code",
   "execution_count": null,
   "metadata": {
    "id": "xUs3eZ7DSTIS"
   },
   "outputs": [],
   "source": []
  },
  {
   "cell_type": "code",
   "execution_count": null,
   "metadata": {
    "id": "nVGzlo9sSTLD"
   },
   "outputs": [],
   "source": []
  },
  {
   "cell_type": "markdown",
   "metadata": {
    "id": "zC1ZBwivSdYv"
   },
   "source": [
    "*There is this cool command in seaborn library (imported as sns), which visually shows you the whole dataset if there are any missing values.*"
   ]
  },
  {
   "cell_type": "markdown",
   "metadata": {
    "id": "1yMOSOl4SyIb"
   },
   "source": [
    "*Try out this heatmap command on our dataset - sns.heatmap(Vib.isnull(),yticklabels=False,cbar=False,cmap='viridis')*"
   ]
  },
  {
   "cell_type": "code",
   "execution_count": null,
   "metadata": {
    "id": "5q2LxDU1S-_2"
   },
   "outputs": [],
   "source": []
  },
  {
   "cell_type": "markdown",
   "metadata": {
    "id": "Ivu9C3inTCyu"
   },
   "source": [
    "*There seems to be a lot of missing data points. But this is what we would expect from real-world data. So, let's get rid of all those rows with empty values*"
   ]
  },
  {
   "cell_type": "code",
   "execution_count": null,
   "metadata": {
    "id": "BJ98_9iAgCr9"
   },
   "outputs": [],
   "source": [
    "Vibration = Vib.dropna()"
   ]
  },
  {
   "cell_type": "markdown",
   "metadata": {
    "id": "BUQReI5OUKlv"
   },
   "source": [
    "*Now all our 'clean' data is in the variable 'Vibration'. Lets do the info, describe commands to see how many rows did we lose.*"
   ]
  },
  {
   "cell_type": "code",
   "execution_count": null,
   "metadata": {
    "id": "xVzAHHjkVB0Y"
   },
   "outputs": [],
   "source": []
  },
  {
   "cell_type": "code",
   "execution_count": null,
   "metadata": {
    "id": "SKBqN-fhVB3T"
   },
   "outputs": [],
   "source": []
  },
  {
   "cell_type": "markdown",
   "metadata": {
    "id": "-0lN0OvUVAVN"
   },
   "source": [
    "*Try out the heatmap command again on 'Vibration' data now, to visually see the dataset for empty values.*"
   ]
  },
  {
   "cell_type": "code",
   "execution_count": null,
   "metadata": {
    "id": "uzsFcJoqVN1-"
   },
   "outputs": [],
   "source": []
  },
  {
   "cell_type": "markdown",
   "metadata": {
    "id": "n4AjUydyVX8m"
   },
   "source": [
    "*Let's try a different plot now. I want to see WOB on X-axis and RPM on Y-axis, on a 'Scatter Plot'. here's the command - sns.scatterplot(x=\"column_name\", y=\"column_name\",data=Vibration)*"
   ]
  },
  {
   "cell_type": "code",
   "execution_count": null,
   "metadata": {
    "id": "NKniSHluWio3"
   },
   "outputs": [],
   "source": []
  },
  {
   "cell_type": "markdown",
   "metadata": {
    "id": "CuvOvVK9WkGt"
   },
   "source": [
    "*The above plot showed us distribution of WOB and RPM values; but was not very informational regarding dysfunctions.*"
   ]
  },
  {
   "cell_type": "markdown",
   "metadata": {
    "id": "ja9yJXmpWvJn"
   },
   "source": [
    "*So, let's add Stickslip data to the same plot. I want to be able to differentiate those data points where there was Stickslip. To the above command, there is a feature called 'hue' which we will assign it to 'Stickslip'.*"
   ]
  },
  {
   "cell_type": "code",
   "execution_count": null,
   "metadata": {
    "id": "sUQmrY-QXQMt"
   },
   "outputs": [],
   "source": [
    "sns.scatterplot(x=\"WOB\", y=\"RPM\", hue=\"StickSlip\",data=Vibration)"
   ]
  },
  {
   "cell_type": "markdown",
   "metadata": {
    "id": "hIAYUUJ0XRO-"
   },
   "source": [
    "*There is one more useful plot called 'pairplot'. I promise, this is the last type of plot. Well, data analytics is all about showing off with your beautiful charts and plots!*"
   ]
  },
  {
   "cell_type": "markdown",
   "metadata": {
    "id": "wqIjtdTNYLd1"
   },
   "source": [
    "*Tryout sns.pairplot(Vibration). This plots all the variables in the data, one against another showing us correlation between features. The command might take a while to run.*"
   ]
  },
  {
   "cell_type": "code",
   "execution_count": null,
   "metadata": {
    "id": "KQWJBY-0YKGV"
   },
   "outputs": [],
   "source": []
  },
  {
   "cell_type": "markdown",
   "metadata": {
    "id": "68oi43DsYckP"
   },
   "source": [
    "*Instead of looking at all variables, the drilling engineer brings his domain knowledge saying that Stickslip is most affected by Torque and Bending moment values. So separate only that data for the plot - Vibration[['DBMAX','TOR','StickSlip']].*"
   ]
  },
  {
   "cell_type": "markdown",
   "metadata": {
    "id": "JrsDRTdNY9rr"
   },
   "source": [
    "*And may be add some 'hue'*"
   ]
  },
  {
   "cell_type": "code",
   "execution_count": null,
   "metadata": {
    "id": "wXe5j8HRQGUr"
   },
   "outputs": [],
   "source": [
    "sns.pairplot(Vibration[['DBMAX','TOR','StickSlip']],hue='StickSlip')"
   ]
  },
  {
   "cell_type": "markdown",
   "metadata": {
    "id": "5P-wwxrHgCsX"
   },
   "source": [
    "# Implementing Model"
   ]
  },
  {
   "cell_type": "markdown",
   "metadata": {
    "id": "Uyelk6urZGv3"
   },
   "source": [
    "*The objective is to predict Stickslip. Or in other words, classify Stickslip as 1 or 0. Use all the other columns as your features and Stickslip as output.*"
   ]
  },
  {
   "cell_type": "markdown",
   "metadata": {
    "id": "LgFlV3fBpoP4"
   },
   "source": [
    "**Define Inputs (X) and Outputs (y)**"
   ]
  },
  {
   "cell_type": "code",
   "execution_count": null,
   "metadata": {
    "id": "2hflF-82pzYo"
   },
   "outputs": [],
   "source": [
    "X = Vibration[['Depth', 'RPM', 'WOB','MSE', 'TOR', 'DBMAX']]\n",
    "y = Vibration[['StickSlip']]"
   ]
  },
  {
   "cell_type": "markdown",
   "metadata": {
    "id": "XjnjUZg2p5D7"
   },
   "source": [
    "**Split the data into Training and Testing**"
   ]
  },
  {
   "cell_type": "code",
   "execution_count": null,
   "metadata": {
    "id": "f8xhCLWIZbCp"
   },
   "outputs": [],
   "source": [
    "from sklearn.model_selection import train_test_split\n",
    "X_train, X_test, y_train, y_test = train_test_split(X,y,test_size=0.30,random_state=101)\n"
   ]
  },
  {
   "cell_type": "code",
   "execution_count": null,
   "metadata": {
    "id": "ZwSi8eoXZbF6"
   },
   "outputs": [],
   "source": []
  },
  {
   "cell_type": "markdown",
   "metadata": {
    "id": "jucZlHjBqBH9"
   },
   "source": [
    "**Import KNN Model**"
   ]
  },
  {
   "cell_type": "code",
   "execution_count": null,
   "metadata": {
    "id": "YrPej0i9gCsf"
   },
   "outputs": [],
   "source": [
    "from sklearn.neighbors import KNeighborsClassifier\n",
    "my_model = KNeighborsClassifier(n_neighbors=3)"
   ]
  },
  {
   "cell_type": "code",
   "execution_count": null,
   "metadata": {
    "id": "e7H20bjoZd8M"
   },
   "outputs": [],
   "source": []
  },
  {
   "cell_type": "code",
   "execution_count": null,
   "metadata": {
    "id": "GT72qcxXgCsi"
   },
   "outputs": [],
   "source": []
  },
  {
   "cell_type": "markdown",
   "metadata": {
    "id": "sQR92M7WqJv_"
   },
   "source": [
    "**Fit the data (Train the data)**"
   ]
  },
  {
   "cell_type": "code",
   "execution_count": null,
   "metadata": {
    "id": "5I46P1B_gCsl"
   },
   "outputs": [],
   "source": [
    "my_model.fit(X_train,y_train)"
   ]
  },
  {
   "cell_type": "markdown",
   "metadata": {
    "id": "hgvuEKmXqSCm"
   },
   "source": [
    "**Make Predictions on Test data**"
   ]
  },
  {
   "cell_type": "code",
   "execution_count": null,
   "metadata": {
    "id": "7CaX96FigCsn"
   },
   "outputs": [],
   "source": [
    "y_pred = my_model.predict(X_test)"
   ]
  },
  {
   "cell_type": "markdown",
   "metadata": {
    "id": "D9uPV8vmqaRm"
   },
   "source": [
    "**Print Classification Report**"
   ]
  },
  {
   "cell_type": "code",
   "execution_count": null,
   "metadata": {
    "id": "A2hG3rR8gCsp"
   },
   "outputs": [],
   "source": [
    "from sklearn.metrics import classification_report"
   ]
  },
  {
   "cell_type": "code",
   "execution_count": null,
   "metadata": {
    "colab": {
     "base_uri": "https://localhost:8080/"
    },
    "executionInfo": {
     "elapsed": 976,
     "status": "ok",
     "timestamp": 1605196873807,
     "user": {
      "displayName": "Narendra Vishnumolakala",
      "photoUrl": "",
      "userId": "05474597894283672694"
     },
     "user_tz": -330
    },
    "id": "o-w4a6tagCsr",
    "outputId": "7f3609ea-5f6d-4008-c3b6-f95026cca02c"
   },
   "outputs": [
    {
     "name": "stdout",
     "output_type": "stream",
     "text": [
      "              precision    recall  f1-score   support\n",
      "\n",
      "           0       0.78      0.85      0.81      2453\n",
      "           1       0.30      0.22      0.25       742\n",
      "\n",
      "    accuracy                           0.70      3195\n",
      "   macro avg       0.54      0.53      0.53      3195\n",
      "weighted avg       0.67      0.70      0.68      3195\n",
      "\n"
     ]
    }
   ],
   "source": [
    "print(classification_report(y_test,y_pred))"
   ]
  },
  {
   "cell_type": "markdown",
   "metadata": {
    "id": "XRXcWnofa9T-"
   },
   "source": [
    "*There are several techniques to further improve the model accuracy, either by getting more data points, more variables or simply by using a more complex model.*"
   ]
  },
  {
   "cell_type": "markdown",
   "metadata": {
    "id": "-Wz9ZLXOCpRd"
   },
   "source": [
    "Repeat the modeling using \n",
    "\n",
    "\n",
    "1.   Logistic Regression\n",
    "2.   Random Forests\n",
    "3.   Artificial Neural Networks\n",
    "\n",
    "\n"
   ]
  },
  {
   "cell_type": "markdown",
   "metadata": {
    "id": "VX3prf0DaDY_"
   },
   "source": [
    "**Congratulations on completing the machine learning project !**"
   ]
  }
 ],
 "metadata": {
  "colab": {
   "collapsed_sections": [],
   "name": "Stickslip Identification Code.ipynb",
   "provenance": [
    {
     "file_id": "140V1-3WsGHen94DPFOmqc4DYEybPxU5x",
     "timestamp": 1585843398577
    }
   ]
  },
  "kernelspec": {
   "display_name": "Python 3",
   "language": "python",
   "name": "python3"
  },
  "language_info": {
   "codemirror_mode": {
    "name": "ipython",
    "version": 3
   },
   "file_extension": ".py",
   "mimetype": "text/x-python",
   "name": "python",
   "nbconvert_exporter": "python",
   "pygments_lexer": "ipython3",
   "version": "3.7.6"
  }
 },
 "nbformat": 4,
 "nbformat_minor": 1
}
