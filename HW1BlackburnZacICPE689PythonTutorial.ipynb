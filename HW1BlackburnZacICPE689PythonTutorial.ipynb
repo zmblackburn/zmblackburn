{
 "cells": [
  {
   "cell_type": "code",
   "execution_count": 1,
   "metadata": {},
   "outputs": [],
   "source": [
    "a = 23\n",
    "b = 9.513\n",
    "aux = 'my first string variable'\n",
    "aux2 = \"string with ' in the middle\""
   ]
  },
  {
   "cell_type": "code",
   "execution_count": 2,
   "metadata": {},
   "outputs": [],
   "source": [
    "odd_numbers = [2, 4, 6, 8]"
   ]
  },
  {
   "cell_type": "code",
   "execution_count": 3,
   "metadata": {},
   "outputs": [],
   "source": [
    "my_list = [2, 3.245,'here', 342]"
   ]
  },
  {
   "cell_type": "code",
   "execution_count": 4,
   "metadata": {},
   "outputs": [],
   "source": [
    "print(b)"
   ]
  },
  {
   "cell_type": "code",
   "execution_count": 5,
   "metadata": {},
   "outputs": [],
   "source": [
    "print(my_list)"
   ]
  },
  {
   "cell_type": "code",
   "execution_count": 6,
   "metadata": {},
   "outputs": [],
   "source": [
    "print(my_list[0])"
   ]
  },
  {
   "cell_type": "code",
   "execution_count": 7,
   "metadata": {},
   "outputs": [
    {
     "name": "stdout",
     "output_type": "stream",
     "text": [
      "The value of variable b is 9.51.\n",
      "The values of variable a and the second item of my_list are 23 and 3.245e+00, respectively.\n"
     ]
    }
   ],
   "source": [
    "print('The value of variable b is {:.2f}.'.format(b))\n",
    "print('The values of variable a and the second item of my_list are {:d} and {:.3e}, respectively.'.format(a, my_list[1]))"
   ]
  },
  {
   "cell_type": "code",
   "execution_count": 8,
   "metadata": {},
   "outputs": [
    {
     "name": "stdout",
     "output_type": "stream",
     "text": [
      "['PERMI', '0.0', '250.0', '150.0', 'END']\n",
      "This line has some white spaces to be removed!\n"
     ]
    }
   ],
   "source": [
    "file_line = 'PERMI   0.0   250.0   150.0  \\t END'\n",
    "print(file_line.split())\n",
    "\n",
    "file_line2 = '   This line has some white spaces to be removed!      '\n",
    "print(file_line2.strip())"
   ]
  },
  {
   "cell_type": "code",
   "execution_count": 9,
   "metadata": {},
   "outputs": [
    {
     "name": "stdout",
     "output_type": "stream",
     "text": [
      "False\n",
      "True\n",
      "True\n"
     ]
    }
   ],
   "source": [
    "print(a==b) \n",
    "print(a!=b)\n",
    "print(a>=b)"
   ]
  },
  {
   "cell_type": "code",
   "execution_count": 10,
   "metadata": {},
   "outputs": [
    {
     "name": "stdout",
     "output_type": "stream",
     "text": [
      "32.513\n",
      "529\n",
      "1\n",
      "10\n",
      "10.5\n"
     ]
    }
   ],
   "source": [
    "print(a+b)   \n",
    "print(a**2)  \n",
    "print(21%2)  \n",
    "print(21//2) \n",
    "print(21/2)  "
   ]
  },
  {
   "cell_type": "code",
   "execution_count": 11,
   "metadata": {},
   "outputs": [
    {
     "name": "stdout",
     "output_type": "stream",
     "text": [
      "2\n",
      "3.245\n",
      "here\n",
      "342\n"
     ]
    }
   ],
   "source": [
    "for i in my_list:  \n",
    "    print(i)    "
   ]
  },
  {
   "cell_type": "code",
   "execution_count": 12,
   "metadata": {},
   "outputs": [
    {
     "name": "stdout",
     "output_type": "stream",
     "text": [
      "2\n",
      "3.245\n",
      "here\n",
      "342\n",
      "\n",
      "0\n",
      "1\n",
      "2\n",
      "3\n",
      "4\n"
     ]
    }
   ],
   "source": [
    "for i in my_list:   \n",
    "    print(i)        \n",
    "\n",
    "print()             \n",
    "\n",
    "j = 0               \n",
    "while j < 5: \n",
    "    print(j) \n",
    "    j = j + 1  "
   ]
  },
  {
   "cell_type": "code",
   "execution_count": 13,
   "metadata": {},
   "outputs": [
    {
     "name": "stdout",
     "output_type": "stream",
     "text": [
      "a is not equal to 2\n"
     ]
    }
   ],
   "source": [
    "if (a==2):\n",
    "    print('a is equal to 2')\n",
    "else:\n",
    "    print('a is not equal to 2')"
   ]
  },
  {
   "cell_type": "code",
   "execution_count": 14,
   "metadata": {},
   "outputs": [
    {
     "name": "stdout",
     "output_type": "stream",
     "text": [
      "The value of j is 0\n",
      "The value of j is 1\n",
      "The value of j is 2\n",
      "The value of j is 3\n",
      "The value of j is 4\n",
      "The value of j is 5\n",
      "The value of j is 6\n",
      "The value of j is 8\n",
      "The value of j is 9\n",
      "The value of j is 10\n",
      "The value of j is 11\n",
      "The value of j is 12\n"
     ]
    }
   ],
   "source": [
    "for j in range(13):   \n",
    "    if (j == 7):      \n",
    "        continue      \n",
    "    \n",
    "    print('The value of j is {:d}'.format(j))  "
   ]
  },
  {
   "cell_type": "code",
   "execution_count": 15,
   "metadata": {},
   "outputs": [
    {
     "name": "stdout",
     "output_type": "stream",
     "text": [
      "y = 24\n",
      "y = 23\n",
      "y = 22\n"
     ]
    }
   ],
   "source": [
    "y = 25\n",
    "while y > 10:    \n",
    "    y = y - 1\n",
    "    if (y == 21):\n",
    "        break\n",
    "    print('y = {:d}'.format(y))"
   ]
  },
  {
   "cell_type": "code",
   "execution_count": 16,
   "metadata": {},
   "outputs": [
    {
     "name": "stdout",
     "output_type": "stream",
     "text": [
      "Adding 2 to 4.500000 gives 6.500000\n"
     ]
    }
   ],
   "source": [
    "def add_two(first_arg):\n",
    "    a = first_arg + 2\n",
    "    return a\n",
    "\n",
    "\n",
    "a = 4.5\n",
    "b = add_two(a)\n",
    "print('Adding 2 to {:f} gives {:f}'.format(a,b)) "
   ]
  },
  {
   "cell_type": "code",
   "execution_count": 17,
   "metadata": {},
   "outputs": [
    {
     "data": {
      "image/png": "[encoded data removed]",
      "text/plain": [
       "<Figure size 432x288 with 1 Axes>"
      ]
     },
     "metadata": {
      "needs_background": "light"
     },
     "output_type": "display_data"
    }
   ],
   "source": [
    "import matplotlib.pyplot as plt        \n",
    "import numpy as np                     \n",
    "\n",
    "x = np.linspace(0.1, 10.0, 20)         \n",
    "y = np.log(x)                          \n",
    "plt.plot(x,y)                          \n",
    "plt.show() "
   ]
  },
  {
   "cell_type": "code",
   "execution_count": 18,
   "metadata": {},
   "outputs": [
    {
     "data": {
      "image/png": "[encoded data removed]",
      "text/plain": [
       "<Figure size 432x288 with 1 Axes>"
      ]
     },
     "metadata": {
      "needs_background": "light"
     },
     "output_type": "display_data"
    }
   ],
   "source": [
    "z = np.log10(x)                                 \n",
    "\n",
    "plt.title('Example Graph', fontsize=20)               \n",
    "plt.plot(x,y, color='red', label='ln(x)')         \n",
    "plt.plot(x,z, color='blue', label='log(x)')        \n",
    "plt.xlabel('x', fontsize=16)                     \n",
    "plt.ylabel('ln(x) and log(x)', fontsize=16)      \n",
    "plt.tick_params(labelsize=12)                    \n",
    "plt.legend(fontsize=12)                          \n",
    "plt.show()   "
   ]
  },
  {
   "cell_type": "code",
   "execution_count": 19,
   "metadata": {},
   "outputs": [
    {
     "data": {
      "image/png": "[encoded data removed]",
      "text/plain": [
       "<Figure size 864x288 with 4 Axes>"
      ]
     },
     "metadata": {
      "needs_background": "light"
     },
     "output_type": "display_data"
    }
   ],
   "source": [
    "x = np.linspace(0.1, 10.0, 20)              \n",
    "y = np.log(x)                               \n",
    "z = np.exp(x)                               \n",
    "res_property = np.random.random((20, 20))  \n",
    "\n",
    "fig = plt.figure(figsize=plt.figaspect(1 / 3))\n",
    "\n",
    " \n",
    "ax1 = fig.add_subplot(1, 3, 1)                              \n",
    "ax1.plot(x, y, label=r'$\\ln(x)$', color='C0')               \n",
    "ax1.tick_params(axis='x', which='major', labelsize=12)      \n",
    "ax1.tick_params(axis='y', which='both', labelsize=12)       \n",
    "ax1.set_ylabel(r'$\\ln(x)$', fontsize=12)                    \n",
    "ax1.set_xlabel(r'$x$', fontsize=12)                         \n",
    "ax1.set_title(\"(a)\", y=0.90, x=0.05, fontsize=14, horizontalalignment=\"left\")    \n",
    "ax1.legend(loc='lower right')                              \n",
    "\n",
    "ax2 = fig.add_subplot(1, 3, 2)   \n",
    "ax2.plot(x, z, label=r'$\\exp(x)$', color='C4')\n",
    "ax2.tick_params(axis='x', which='major', labelsize=12)\n",
    "ax2.tick_params(axis='y', which='both', labelsize=12)\n",
    "ax2.set_ylabel(r'$\\exp(x)$', fontsize=12)\n",
    "ax2.set_xlabel(r'$x$', fontsize=12)\n",
    "ax2.set_title(\"(b)\", y=0.90, x=0.05, fontsize=14, horizontalalignment=\"left\")\n",
    "ax2.legend(loc='center left', bbox_to_anchor=(0.0, 0.8))\n",
    "\n",
    "ax3 = fig.add_subplot(1, 3, 3)                             \n",
    "im = ax3.imshow(res_property)                               \n",
    "fig.colorbar(im, ax=ax3)                                    \n",
    "ax3.set_title(\"A reservoir model\", fontsize=14)             \n",
    "\n",
    "plt.tight_layout()                                     \n",
    "\n",
    "plt.show()   "
   ]
  },
  {
   "cell_type": "code",
   "execution_count": 20,
   "metadata": {},
   "outputs": [
    {
     "name": "stdout",
     "output_type": "stream",
     "text": [
      "[[1, 2, 4], [7, 9, 3]]\n"
     ]
    }
   ],
   "source": [
    "a = [1, 2, 4]    \n",
    "b = [7, 9, 3]     \n",
    "\n",
    "W = [a , b]       \n",
    "print(W)"
   ]
  },
  {
   "cell_type": "code",
   "execution_count": 21,
   "metadata": {},
   "outputs": [
    {
     "name": "stdout",
     "output_type": "stream",
     "text": [
      "[[1 2 4]\n",
      " [7 9 3]]\n"
     ]
    }
   ],
   "source": [
    "import numpy as np          \n",
    "\n",
    "W_array = np.array(W)\n",
    "print(W_array)"
   ]
  },
  {
   "cell_type": "code",
   "execution_count": 22,
   "metadata": {},
   "outputs": [
    {
     "name": "stdout",
     "output_type": "stream",
     "text": [
      "[[ 2  4  8]\n",
      " [14 18  6]]\n"
     ]
    }
   ],
   "source": [
    "print(2 * W_array)"
   ]
  },
  {
   "cell_type": "code",
   "execution_count": 23,
   "metadata": {},
   "outputs": [
    {
     "name": "stdout",
     "output_type": "stream",
     "text": [
      "[[2.71828183e+00 7.38905610e+00 5.45981500e+01]\n",
      " [1.09663316e+03 8.10308393e+03 2.00855369e+01]]\n"
     ]
    }
   ],
   "source": [
    "print(np.exp(W_array))"
   ]
  },
  {
   "cell_type": "code",
   "execution_count": 24,
   "metadata": {},
   "outputs": [
    {
     "name": "stdout",
     "output_type": "stream",
     "text": [
      "[[4 7 9 5]]\n",
      "Shape of x: (1,4)\n"
     ]
    }
   ],
   "source": [
    "x = np.array([[4, 7, 9, 5]])                                       \n",
    "print(x)\n",
    "print(\"Shape of x: ({:d},{:d})\".format(x.shape[0],x.shape[1]))   "
   ]
  },
  {
   "cell_type": "code",
   "execution_count": 25,
   "metadata": {},
   "outputs": [
    {
     "name": "stdout",
     "output_type": "stream",
     "text": [
      "[[4]\n",
      " [7]\n",
      " [9]\n",
      " [5]]\n",
      "Shape of x_vector: (4,1)\n",
      "\n",
      "[[4]\n",
      " [7]\n",
      " [9]\n",
      " [5]]\n",
      "Shape of x_vector: (4,1)\n",
      "\n",
      "[[4]\n",
      " [7]\n",
      " [9]\n",
      " [5]]\n",
      "Shape of x_vector: (4,1)\n",
      "\n"
     ]
    }
   ],
   "source": [
    "x_vector = x.T                                                     \n",
    "print(x_vector)\n",
    "print(\"Shape of x_vector: ({:d},{:d})\".format(x_vector.shape[0],x_vector.shape[1]))\n",
    "print()\n",
    "\n",
    "x_vector = x.reshape((4,1))                                        \n",
    "print(x_vector)\n",
    "print(\"Shape of x_vector: ({:d},{:d})\".format(x_vector.shape[0],x_vector.shape[1]))\n",
    "print()\n",
    "\n",
    "x_vector = x.reshape((-1,1))                                      \n",
    "print(x_vector)\n",
    "print(\"Shape of x_vector: ({:d},{:d})\".format(x_vector.shape[0],x_vector.shape[1]))\n",
    "print()"
   ]
  },
  {
   "cell_type": "code",
   "execution_count": 26,
   "metadata": {},
   "outputs": [
    {
     "name": "stdout",
     "output_type": "stream",
     "text": [
      "[[4]\n",
      " [7]\n",
      " [9]\n",
      " [5]]\n",
      "Shape of y: (4, 1)\n"
     ]
    }
   ],
   "source": [
    "y = np.array([[4], [7], [9], [5]])\n",
    "print(y)\n",
    "print(\"Shape of y: {:}\".format(y.shape))"
   ]
  },
  {
   "cell_type": "code",
   "execution_count": 27,
   "metadata": {},
   "outputs": [
    {
     "name": "stdout",
     "output_type": "stream",
     "text": [
      "(4,)\n",
      "(4, 1)\n"
     ]
    }
   ],
   "source": [
    "z = np.array([4, 7, 9, 5])                                      \n",
    "print(z.shape)\n",
    "\n",
    "\n",
    "z_2d = np.reshape(z, (4,1))\n",
    "print(z_2d.shape)"
   ]
  },
  {
   "cell_type": "code",
   "execution_count": 28,
   "metadata": {},
   "outputs": [
    {
     "name": "stdout",
     "output_type": "stream",
     "text": [
      "Matrix A\n",
      "[[2 5 0]\n",
      " [3 9 1]\n",
      " [4 7 5]]\n",
      "\n",
      "Matrix I (identity 3x3)\n",
      "[[1. 0. 0.]\n",
      " [0. 1. 0.]\n",
      " [0. 0. 1.]]\n",
      "\n",
      "A + I = \n",
      "[[ 3.  5.  0.]\n",
      " [ 3. 10.  1.]\n",
      " [ 4.  7.  6.]]\n"
     ]
    }
   ],
   "source": [
    "A = np.array([[2, 5, 0], [3, 9, 1], [4, 7, 5]])\n",
    "print(\"Matrix A\")\n",
    "print(A)\n",
    "\n",
    "print()\n",
    "I = np.eye(3)\n",
    "print(\"Matrix I (identity 3x3)\")\n",
    "print(I)\n",
    "\n",
    "print()\n",
    "print(\"A + I = \")\n",
    "print(A + I)"
   ]
  },
  {
   "cell_type": "code",
   "execution_count": 29,
   "metadata": {},
   "outputs": [
    {
     "name": "stdout",
     "output_type": "stream",
     "text": [
      "Element-wise Multiplication:\n",
      "[[2. 0. 0.]\n",
      " [0. 9. 0.]\n",
      " [0. 0. 5.]]\n",
      "\n",
      "Matrix multiplication\n",
      "[[2. 5. 0.]\n",
      " [3. 9. 1.]\n",
      " [4. 7. 5.]]\n"
     ]
    }
   ],
   "source": [
    "print(\"Element-wise Multiplication:\")\n",
    "print(A * I)\n",
    "print()\n",
    "\n",
    "print(\"Matrix multiplication\")\n",
    "print(A @ I)"
   ]
  },
  {
   "cell_type": "code",
   "execution_count": 30,
   "metadata": {},
   "outputs": [
    {
     "name": "stdout",
     "output_type": "stream",
     "text": [
      "[[ 36 -12]\n",
      " [ -1   2]]\n"
     ]
    }
   ],
   "source": [
    "A = np.array([[3, 6, 7], [5, -3, 0]])\n",
    "B = np.array([[1, 1], [2, 1], [3, -3]])\n",
    "print(A @ B) "
   ]
  },
  {
   "cell_type": "code",
   "execution_count": 31,
   "metadata": {},
   "outputs": [
    {
     "name": "stdout",
     "output_type": "stream",
     "text": [
      "[[0. 0. 0. 0. 0.]\n",
      " [0. 0. 0. 0. 0.]\n",
      " [0. 0. 0. 0. 0.]\n",
      " [0. 0. 0. 0. 0.]\n",
      " [0. 0. 0. 0. 0.]]\n",
      "[[ 36. -12.   0.   0.   0.]\n",
      " [ -1.   2.   0.   0.   0.]\n",
      " [  0.   0.   0.   0.   0.]\n",
      " [  0.   0.   0.   0.   0.]\n",
      " [  0.   0.   0.   0.   0.]]\n"
     ]
    }
   ],
   "source": [
    "C = np.zeros((5, 5))     \n",
    "print(C)\n",
    "\n",
    "C[0:2, 0:2] = A @ B      \n",
    "print(C)"
   ]
  },
  {
   "cell_type": "code",
   "execution_count": 32,
   "metadata": {},
   "outputs": [
    {
     "name": "stdout",
     "output_type": "stream",
     "text": [
      "36.0\n"
     ]
    }
   ],
   "source": [
    "print(C[0,0])"
   ]
  },
  {
   "cell_type": "code",
   "execution_count": 33,
   "metadata": {},
   "outputs": [
    {
     "name": "stdout",
     "output_type": "stream",
     "text": [
      "[[ 36. -12.   0.]]\n"
     ]
    }
   ],
   "source": [
    "print(C[0:1, 0:3])"
   ]
  },
  {
   "cell_type": "code",
   "execution_count": 34,
   "metadata": {},
   "outputs": [
    {
     "name": "stdout",
     "output_type": "stream",
     "text": [
      "(1, 3)\n",
      "(3,)\n"
     ]
    }
   ],
   "source": [
    "print(C[0:1, 0:3].shape)  \n",
    "print(C[0, 0:3].shape)"
   ]
  },
  {
   "cell_type": "code",
   "execution_count": 35,
   "metadata": {},
   "outputs": [
    {
     "name": "stdout",
     "output_type": "stream",
     "text": [
      "[[-12.]\n",
      " [  2.]\n",
      " [  0.]\n",
      " [  0.]\n",
      " [  0.]]\n",
      "[[0. 0. 0. 0. 0.]]\n",
      "[[-1.  2.  0.  0.  0.]\n",
      " [ 0.  0.  0.  0.  0.]\n",
      " [ 0.  0.  0.  0.  0.]]\n",
      "[[-1.  2.  0.]\n",
      " [ 0.  0.  0.]\n",
      " [ 0.  0.  0.]]\n"
     ]
    }
   ],
   "source": [
    "print(C[:, 1:2])  \n",
    "print(C[3:4, :])         \n",
    "print(C[1:4, :])          \n",
    "print(C[1:4, 0:3]) "
   ]
  },
  {
   "cell_type": "code",
   "execution_count": 36,
   "metadata": {},
   "outputs": [
    {
     "name": "stdout",
     "output_type": "stream",
     "text": [
      "[298.165037067, 247.643495497, 138.912059411, 401.743243245, 195.614435351, 139.611018934, 91.7158114289, 209.748677824, 335.091890106, 251.188444334, 175.386904063, 223.221017835, 294.84027393, 330.999795084, 222.43837163, 237.459910132, 236.132670499, 326.872241686, 152.592999972, 164.157720692, 64.801017674, 218.749629841, 306.066235276, 187.542984271, 219.88211735, 224.131762701, 251.503836109, 278.986037941, 325.476332307, 157.624289609, 283.652859921, 242.727872869, 184.152132299, 79.9453314329, 92.5493207707, 173.800847783, 250.026468075, 198.408369838, 253.822951367, 120.656575134, 244.306861867, 354.037203979, 376.365810952, 285.283144003, 222.475177135, 212.395019331, 292.740495582, 92.2606980121, 89.8547210882, 106.230655218, 228.20965707, 259.588930871, 345.782891704, 172.834551939, 179.411567435, 336.316511837, 258.230254942, 350.92454106, 305.41032057, 199.582746336, 252.59718989, 106.967164268, 94.4357318653, 114.537553832, 209.802565191, 228.411297725, 285.93370264, 231.283905273, 137.430136042, 314.00357033, 370.877254034, 388.675488004, 289.503954347, 228.237470969, 84.3518700225, 168.648345831, 108.855864604, 139.598870883, 208.431743224, 176.231472388, 245.818596798, 219.331094794, 300.164544056, 173.123200461, 429.95351426, 451.79927939, 430.058270384, 283.895520672, 165.815972505, 84.9228491542, 173.124682807, 160.403480455, 327.664577064, 406.845790897, 407.975479394, 249.223637272, 292.055795522, 233.904449869, 571.279952536, 528.747203081, 288.102711854, 381.230136258, 101.519318908, 68.5593837958, 44.5687683929, 248.23362829, 620.67289074, 578.104816441, 370.752499011, 338.390589161, 378.033439903, 287.798856852, 577.689212933, 542.252059972, 297.124801983, 264.990555585, 141.531107665, 65.2516448281, 43.6678001851, 40.5620599475, 748.773571635, 452.752198776, 327.626709156, 568.406153844, 615.126729673, 318.252073894, 708.782554427, 650.63581796, 226.394389347, 368.255037893, 147.762523367, 81.8571457573, 45.1605487194, 41.8381696306, 31.7183679305, 733.643006975, 329.782802458, 554.38562593, 496.406617057, 374.643657552, 550.096613741, 655.518546752, 246.794459904, 265.058707711, 258.64994077, 63.0816768734, 59.091712922, 47.5206848876, 33.3441384347, 29.3301095179, 378.611267212, 567.218309522, 531.030680665, 627.260836871, 592.156227728, 561.755257844, 414.021440258, 375.364658528, 226.358081802, 65.0295622411, 71.9410208429, 59.3438536997, 40.2343931229, 23.5909004422, 33.949036566, 403.603547432, 440.378020583, 696.904271769, 519.231112287, 537.959730285, 532.205599777, 561.54711895, 211.996402524, 93.0679611836, 110.274693199, 53.9233990536, 52.8019246124, 31.6320151926, 37.7230238265, 42.0469313175, 290.88378499, 613.180700046, 400.494752201, 492.253837161, 551.875841368, 800.552156193, 331.517310708, 135.350852182, 82.4301083968, 53.7344956387, 45.4841976544, 66.9589341124, 30.9336313901, 41.0591159105, 87.0728649423, 422.917551878, 327.591640992, 292.310187583, 403.22685716, 503.592242658, 569.616946792, 156.936080331, 70.8198325062, 90.7368077978, 64.5949762875, 43.2085402531, 30.5054638212, 45.4276354857, 61.8360766591, 36.4011151963, 424.280182023, 340.811557118, 275.459616375, 519.794845054, 330.49710192, 142.546662433, 81.2314259379, 82.1941082526, 55.7133118964, 64.4906332618, 66.8798395038, 52.5137569879, 67.3331888278, 48.1575438181, 50.3173578705, 236.940795345, 270.648268772, 573.055577611, 356.594154789, 141.862254388, 137.935836795, 105.010565953, 82.1070222067, 60.8012238003, 75.2781110668, 60.3117445019, 50.6247067747, 67.8107200411, 40.419674882, 37.4047650614, 387.455785708, 490.679277248, 402.760377087, 305.367097169, 221.837584463, 183.703683619, 147.836764511, 60.5975838746, 44.2332499612, 41.5642188406, 38.76013195, 47.216192758, 37.0764727226, 38.4344583548, 19.1164443983, 468.866675733, 297.639619419, 326.704210274, 340.091832447, 221.347462084, 154.054878618, 89.8761241229, 75.0915290585, 46.4887392155, 34.2764420695, 32.626902791, 56.5246730438, 40.514249351, 35.2670621929, 42.0471383608, 444.097859009, 335.858570771, 350.587607166, 252.184643566, 157.554793396, 241.001408363, 141.347587111, 85.9023833077, 26.3284063533, 25.1145990367, 51.6848547402, 27.7786166345, 39.5972492664, 48.5570724266, 39.0976925092, 324.166383092, 237.263485657, 345.689504729, 153.183179512, 308.843329306, 111.100756388, 117.781041845, 49.9183558047, 19.3717173345, 36.5561977179, 40.7592849596, 38.1576128549, 34.9716914843, 27.6950496667, 41.2027707338, 190.045720005, 293.243538113, 315.954990926, 458.62184564, 136.926209709, 117.272032358, 45.193570179, 25.8519194554, 27.2294434947, 48.1138069139, 31.2402404133, 34.3838482643, 39.3105371255, 42.632253154, 51.286663203, 292.353310878, 371.989869885, 417.718883653, 175.158624654, 78.8199017838, 56.7089020491, 38.9830850593, 23.0950270767, 39.2660401874, 41.1478754284, 38.1804466655, 65.0511011679, 34.353785411, 42.187902599, 56.8477341431, 311.459220664, 350.046046789, 172.389195263, 77.5651800964, 70.0711404034, 64.2397258801, 28.644449244, 35.870616093, 43.9157963793, 59.183714162, 36.8100822336, 34.3013070981, 43.0601167998, 46.1059239079, 67.4373215959, 380.501861266, 189.893720319, 62.4808100727, 61.8767862161, 68.1305669699, 46.7505700898, 31.5041787355, 57.798550849, 67.7156848791, 48.3702475561, 31.7546475761, 57.3874544472, 28.1781388707, 47.605865416, 78.5762200168, 214.245712391, 172.283589579, 59.1587607281, 61.5947004268, 78.3276287585, 42.2340060519, 57.6560444297, 49.8426767197, 36.816575045, 39.8006173676, 41.3503757853, 26.7605293868, 31.997521129, 50.4682962838, 101.135792455, 204.861915706, 91.1767231045, 61.4778077675, 35.9031446023, 40.0241719224, 29.1751282552, 49.7493471974, 44.8692278624, 33.5841031137, 27.9375416967, 13.0393704463, 34.1504345342, 51.0703004846, 88.2924881318, 91.01580037, 153.561839915, 76.5912633644, 37.0385031522, 20.2969497485, 26.4723132063, 38.9114621727, 36.8516813281, 26.8576737018, 36.8340184458, 18.0338191501, 21.8058465657, 57.2284071984, 75.357720324, 93.042727368, 227.653676226, 92.2145605677, 50.8208795372, 25.467915309, 39.1930566173, 49.1380401917, 63.5899138621, 33.2768851406, 17.6570897049, 16.5654738055, 21.72486533, 43.8927737953, 56.8813556536, 63.5026976078, 179.996331728, 418.283841128, 68.4663959911, 24.8789421788, 24.2921854118, 43.5855713475, 60.1673448433, 30.7626153222, 16.6682505166, 10.837339386, 22.7872899909, 36.4282869147, 47.6111039581, 69.2385807425, 102.533953229, 195.866626733, 231.28048103, 39.4356082243, 29.2217959116, 36.9645190675, 56.636691126, 19.6067590911, 29.8433191995, 17.2012406631, 19.765601658, 22.8688523516, 49.6449965905, 48.7492727313, 62.3749949142, 150.127242268, 159.134321413, 139.422825784]\n"
     ]
    }
   ],
   "source": [
    "file1 = open(\"PERMI.inc\",\"r\")                                           # Open the text file\n",
    "\n",
    "list_perm = []\n",
    "for line in file1:                                                      # Loop in all lines of the file\n",
    "    if \"PERMX\" in line:                                                 # Look for the text PERMX in each line, if found do not execute the following commands\n",
    "        continue\n",
    "    \n",
    "    list_perm.append(float(line))                                       # Convert the value found to float\n",
    "\n",
    "file1.close()                                                           # Close the file to release memory\n",
    "\n",
    "print(list_perm)"
   ]
  },
  {
   "cell_type": "code",
   "execution_count": 37,
   "metadata": {},
   "outputs": [
    {
     "name": "stdout",
     "output_type": "stream",
     "text": [
      "Dense matrix shape:  (450, 450)\n",
      "Sparse matrix shape:  (450, 450)\n",
      "Dense matrix number of elements:  202500\n",
      "Memory used to store the dense matrix: 1620112 bytes\n",
      "Memory used to store the sparse matrix: 64 bytes\n",
      "Multiplication using Sparse and Dense matrices produces the same results!!\n"
     ]
    }
   ],
   "source": [
    "import numpy as np\n",
    "import sys\n",
    "from scipy import sparse\n",
    "\n",
    "dense_perm = np.diag(list_perm)                                                                  \n",
    "sparse_perm = sparse.diags(list_perm)                                                            \n",
    "\n",
    "print(\"Dense matrix shape: \", dense_perm.shape)\n",
    "print(\"Sparse matrix shape: \", sparse_perm.shape)\n",
    "print(\"Dense matrix number of elements: \", dense_perm.shape[0]*dense_perm.shape[1])\n",
    "print(\"Memory used to store the dense matrix: {} bytes\".format(sys.getsizeof(dense_perm)))        \n",
    "print(\"Memory used to store the sparse matrix: {} bytes\".format(sys.getsizeof(sparse_perm)))\n",
    "\n",
    "random_vector = np.random.rand(len(list_perm))\n",
    "\n",
    "dense_multiplication = dense_perm @ random_vector                                               \n",
    "sparse_multiplication = sparse_perm @ random_vector                                              \n",
    "\n",
    "if (dense_multiplication == sparse_multiplication).all():                                        \n",
    "    print(\"Multiplication using Sparse and Dense matrices produces the same results!!\")"
   ]
  },
  {
   "cell_type": "code",
   "execution_count": 38,
   "metadata": {},
   "outputs": [
    {
     "name": "stdout",
     "output_type": "stream",
     "text": [
      "Dimension of the collum vector:  (450, 1)\n"
     ]
    }
   ],
   "source": [
    "file2 = open(\"PERMI.inc\",\"r\")                                                                    \n",
    "\n",
    "list_perm2 = file2.readlines()                                                                   \n",
    "\n",
    "file2.close()                                                                                    \n",
    "\n",
    "for line in list_perm2:                                                                          \n",
    "    if \"PERM\" in line:                                                                          \n",
    "        list_perm2.remove(line)\n",
    "        break\n",
    "\n",
    "array_perm2 = np.array(list_perm2, dtype=np.dtype(float))                                        \n",
    "if len(array_perm2.shape) == 1:                                                                  \n",
    "    array_perm2 = np.reshape(array_perm2, (array_perm2.shape[0],1))\n",
    "\n",
    "print(\"Dimension of the collum vector: \", array_perm2.shape)"
   ]
  },
  {
   "cell_type": "code",
   "execution_count": 39,
   "metadata": {},
   "outputs": [],
   "source": [
    "file3 = open(\"file_to_write.txt\",\"w\")                                                           \n",
    "\n",
    "# writing files using the command write\n",
    "file3.write(\"permi all\\n\")                                                                      \n",
    "for value in array_perm2[:,0]:                                                                  \n",
    "    file3.write(\"{:.6f}\\n\".format(value))                                                       \n",
    "file3.close()                                                                                  \n",
    "\n",
    "# writing files using the NumPy command savetxt\n",
    "file4 = open(\"file_to_write2.txt\",\"w\")                                                          \n",
    "\n",
    "file4.write(\"permi all\\n\")                                                                      \n",
    "np.savetxt(file4, array_perm2)                                                                  \n",
    "file4.close()  "
   ]
  },
  {
   "cell_type": "code",
   "execution_count": 40,
   "metadata": {},
   "outputs": [],
   "source": [
    "import pandas as pd # data structures"
   ]
  },
  {
   "cell_type": "code",
   "execution_count": 41,
   "metadata": {},
   "outputs": [
    {
     "data": {
      "text/html": [
       "<div>\n",
       "<style scoped>\n",
       "    .dataframe tbody tr th:only-of-type {\n",
       "        vertical-align: middle;\n",
       "    }\n",
       "\n",
       "    .dataframe tbody tr th {\n",
       "        vertical-align: top;\n",
       "    }\n",
       "\n",
       "    .dataframe thead th {\n",
       "        text-align: right;\n",
       "    }\n",
       "</style>\n",
       "<table border=\"1\" class=\"dataframe\">\n",
       "  <thead>\n",
       "    <tr style=\"text-align: right;\">\n",
       "      <th></th>\n",
       "      <th>fl_date</th>\n",
       "      <th>unique_carrier</th>\n",
       "      <th>airline_id</th>\n",
       "      <th>tail_num</th>\n",
       "      <th>fl_num</th>\n",
       "      <th>origin</th>\n",
       "      <th>dest</th>\n",
       "      <th>dep_time</th>\n",
       "      <th>dep_delay</th>\n",
       "      <th>arr_time</th>\n",
       "      <th>arr_delay</th>\n",
       "      <th>cancelled</th>\n",
       "      <th>arr</th>\n",
       "      <th>dep</th>\n",
       "    </tr>\n",
       "  </thead>\n",
       "  <tbody>\n",
       "    <tr>\n",
       "      <th>0</th>\n",
       "      <td>2014-01-01 00:00:00</td>\n",
       "      <td>AA</td>\n",
       "      <td>19805</td>\n",
       "      <td>N338AA</td>\n",
       "      <td>1</td>\n",
       "      <td>JFK</td>\n",
       "      <td>LAX</td>\n",
       "      <td>914.0</td>\n",
       "      <td>14.0</td>\n",
       "      <td>1238.0</td>\n",
       "      <td>13.0</td>\n",
       "      <td>0.0</td>\n",
       "      <td>2014-01-01 12:38:00</td>\n",
       "      <td>2014-01-01 09:14:00</td>\n",
       "    </tr>\n",
       "    <tr>\n",
       "      <th>1</th>\n",
       "      <td>2014-01-01 00:00:00</td>\n",
       "      <td>AA</td>\n",
       "      <td>19805</td>\n",
       "      <td>N335AA</td>\n",
       "      <td>3</td>\n",
       "      <td>JFK</td>\n",
       "      <td>LAX</td>\n",
       "      <td>1157.0</td>\n",
       "      <td>-3.0</td>\n",
       "      <td>1523.0</td>\n",
       "      <td>13.0</td>\n",
       "      <td>0.0</td>\n",
       "      <td>2014-01-01 15:23:00</td>\n",
       "      <td>2014-01-01 11:57:00</td>\n",
       "    </tr>\n",
       "    <tr>\n",
       "      <th>2</th>\n",
       "      <td>2014-01-01 00:00:00</td>\n",
       "      <td>AA</td>\n",
       "      <td>19805</td>\n",
       "      <td>N327AA</td>\n",
       "      <td>21</td>\n",
       "      <td>JFK</td>\n",
       "      <td>LAX</td>\n",
       "      <td>1902.0</td>\n",
       "      <td>2.0</td>\n",
       "      <td>2224.0</td>\n",
       "      <td>9.0</td>\n",
       "      <td>0.0</td>\n",
       "      <td>2014-01-01 22:24:00</td>\n",
       "      <td>2014-01-01 19:02:00</td>\n",
       "    </tr>\n",
       "    <tr>\n",
       "      <th>3</th>\n",
       "      <td>2014-01-01 00:00:00</td>\n",
       "      <td>AA</td>\n",
       "      <td>19805</td>\n",
       "      <td>N3EHAA</td>\n",
       "      <td>29</td>\n",
       "      <td>LGA</td>\n",
       "      <td>PBI</td>\n",
       "      <td>722.0</td>\n",
       "      <td>-8.0</td>\n",
       "      <td>1014.0</td>\n",
       "      <td>-26.0</td>\n",
       "      <td>0.0</td>\n",
       "      <td>2014-01-01 10:14:00</td>\n",
       "      <td>2014-01-01 07:22:00</td>\n",
       "    </tr>\n",
       "    <tr>\n",
       "      <th>4</th>\n",
       "      <td>2014-01-01 00:00:00</td>\n",
       "      <td>AA</td>\n",
       "      <td>19805</td>\n",
       "      <td>N319AA</td>\n",
       "      <td>117</td>\n",
       "      <td>JFK</td>\n",
       "      <td>LAX</td>\n",
       "      <td>1347.0</td>\n",
       "      <td>2.0</td>\n",
       "      <td>1706.0</td>\n",
       "      <td>1.0</td>\n",
       "      <td>0.0</td>\n",
       "      <td>2014-01-01 17:06:00</td>\n",
       "      <td>2014-01-01 13:47:00</td>\n",
       "    </tr>\n",
       "  </tbody>\n",
       "</table>\n",
       "</div>"
      ],
      "text/plain": [
       "               fl_date unique_carrier  airline_id tail_num  fl_num origin  \\\n",
       "0  2014-01-01 00:00:00             AA       19805   N338AA       1    JFK   \n",
       "1  2014-01-01 00:00:00             AA       19805   N335AA       3    JFK   \n",
       "2  2014-01-01 00:00:00             AA       19805   N327AA      21    JFK   \n",
       "3  2014-01-01 00:00:00             AA       19805   N3EHAA      29    LGA   \n",
       "4  2014-01-01 00:00:00             AA       19805   N319AA     117    JFK   \n",
       "\n",
       "  dest  dep_time  dep_delay  arr_time  arr_delay  cancelled  \\\n",
       "0  LAX     914.0       14.0    1238.0       13.0        0.0   \n",
       "1  LAX    1157.0       -3.0    1523.0       13.0        0.0   \n",
       "2  LAX    1902.0        2.0    2224.0        9.0        0.0   \n",
       "3  PBI     722.0       -8.0    1014.0      -26.0        0.0   \n",
       "4  LAX    1347.0        2.0    1706.0        1.0        0.0   \n",
       "\n",
       "                   arr                  dep  \n",
       "0  2014-01-01 12:38:00  2014-01-01 09:14:00  \n",
       "1  2014-01-01 15:23:00  2014-01-01 11:57:00  \n",
       "2  2014-01-01 22:24:00  2014-01-01 19:02:00  \n",
       "3  2014-01-01 10:14:00  2014-01-01 07:22:00  \n",
       "4  2014-01-01 17:06:00  2014-01-01 13:47:00  "
      ]
     },
     "execution_count": 41,
     "metadata": {},
     "output_type": "execute_result"
    }
   ],
   "source": [
    "fdata1 = pd.read_csv(\"ny-flights.csv.gz\")\n",
    "fdata1.head()"
   ]
  },
  {
   "cell_type": "code",
   "execution_count": 42,
   "metadata": {},
   "outputs": [
    {
     "data": {
      "text/html": [
       "<div>\n",
       "<style scoped>\n",
       "    .dataframe tbody tr th:only-of-type {\n",
       "        vertical-align: middle;\n",
       "    }\n",
       "\n",
       "    .dataframe tbody tr th {\n",
       "        vertical-align: top;\n",
       "    }\n",
       "\n",
       "    .dataframe thead th {\n",
       "        text-align: right;\n",
       "    }\n",
       "</style>\n",
       "<table border=\"1\" class=\"dataframe\">\n",
       "  <thead>\n",
       "    <tr style=\"text-align: right;\">\n",
       "      <th></th>\n",
       "      <th>fl_date</th>\n",
       "      <th>unique_carrier</th>\n",
       "      <th>airline_id</th>\n",
       "      <th>tail_num</th>\n",
       "      <th>fl_num</th>\n",
       "      <th>origin</th>\n",
       "      <th>dest</th>\n",
       "      <th>dep_time</th>\n",
       "      <th>dep_delay</th>\n",
       "      <th>arr_time</th>\n",
       "      <th>arr_delay</th>\n",
       "      <th>cancelled</th>\n",
       "      <th>arr</th>\n",
       "      <th>dep</th>\n",
       "    </tr>\n",
       "  </thead>\n",
       "  <tbody>\n",
       "    <tr>\n",
       "      <th>0</th>\n",
       "      <td>2014-01-01</td>\n",
       "      <td>AA</td>\n",
       "      <td>19805</td>\n",
       "      <td>N338AA</td>\n",
       "      <td>1</td>\n",
       "      <td>JFK</td>\n",
       "      <td>LAX</td>\n",
       "      <td>914.0</td>\n",
       "      <td>14.0</td>\n",
       "      <td>1238.0</td>\n",
       "      <td>13.0</td>\n",
       "      <td>0.0</td>\n",
       "      <td>2014-01-01 12:38:00</td>\n",
       "      <td>2014-01-01 09:14:00</td>\n",
       "    </tr>\n",
       "    <tr>\n",
       "      <th>1</th>\n",
       "      <td>2014-01-01</td>\n",
       "      <td>AA</td>\n",
       "      <td>19805</td>\n",
       "      <td>N335AA</td>\n",
       "      <td>3</td>\n",
       "      <td>JFK</td>\n",
       "      <td>LAX</td>\n",
       "      <td>1157.0</td>\n",
       "      <td>-3.0</td>\n",
       "      <td>1523.0</td>\n",
       "      <td>13.0</td>\n",
       "      <td>0.0</td>\n",
       "      <td>2014-01-01 15:23:00</td>\n",
       "      <td>2014-01-01 11:57:00</td>\n",
       "    </tr>\n",
       "    <tr>\n",
       "      <th>2</th>\n",
       "      <td>2014-01-01</td>\n",
       "      <td>AA</td>\n",
       "      <td>19805</td>\n",
       "      <td>N327AA</td>\n",
       "      <td>21</td>\n",
       "      <td>JFK</td>\n",
       "      <td>LAX</td>\n",
       "      <td>1902.0</td>\n",
       "      <td>2.0</td>\n",
       "      <td>2224.0</td>\n",
       "      <td>9.0</td>\n",
       "      <td>0.0</td>\n",
       "      <td>2014-01-01 22:24:00</td>\n",
       "      <td>2014-01-01 19:02:00</td>\n",
       "    </tr>\n",
       "    <tr>\n",
       "      <th>3</th>\n",
       "      <td>2014-01-01</td>\n",
       "      <td>AA</td>\n",
       "      <td>19805</td>\n",
       "      <td>N3EHAA</td>\n",
       "      <td>29</td>\n",
       "      <td>LGA</td>\n",
       "      <td>PBI</td>\n",
       "      <td>722.0</td>\n",
       "      <td>-8.0</td>\n",
       "      <td>1014.0</td>\n",
       "      <td>-26.0</td>\n",
       "      <td>0.0</td>\n",
       "      <td>2014-01-01 10:14:00</td>\n",
       "      <td>2014-01-01 07:22:00</td>\n",
       "    </tr>\n",
       "    <tr>\n",
       "      <th>4</th>\n",
       "      <td>2014-01-01</td>\n",
       "      <td>AA</td>\n",
       "      <td>19805</td>\n",
       "      <td>N319AA</td>\n",
       "      <td>117</td>\n",
       "      <td>JFK</td>\n",
       "      <td>LAX</td>\n",
       "      <td>1347.0</td>\n",
       "      <td>2.0</td>\n",
       "      <td>1706.0</td>\n",
       "      <td>1.0</td>\n",
       "      <td>0.0</td>\n",
       "      <td>2014-01-01 17:06:00</td>\n",
       "      <td>2014-01-01 13:47:00</td>\n",
       "    </tr>\n",
       "  </tbody>\n",
       "</table>\n",
       "</div>"
      ],
      "text/plain": [
       "     fl_date unique_carrier  airline_id tail_num  fl_num origin dest  \\\n",
       "0 2014-01-01             AA       19805   N338AA       1    JFK  LAX   \n",
       "1 2014-01-01             AA       19805   N335AA       3    JFK  LAX   \n",
       "2 2014-01-01             AA       19805   N327AA      21    JFK  LAX   \n",
       "3 2014-01-01             AA       19805   N3EHAA      29    LGA  PBI   \n",
       "4 2014-01-01             AA       19805   N319AA     117    JFK  LAX   \n",
       "\n",
       "   dep_time  dep_delay  arr_time  arr_delay  cancelled                 arr  \\\n",
       "0     914.0       14.0    1238.0       13.0        0.0 2014-01-01 12:38:00   \n",
       "1    1157.0       -3.0    1523.0       13.0        0.0 2014-01-01 15:23:00   \n",
       "2    1902.0        2.0    2224.0        9.0        0.0 2014-01-01 22:24:00   \n",
       "3     722.0       -8.0    1014.0      -26.0        0.0 2014-01-01 10:14:00   \n",
       "4    1347.0        2.0    1706.0        1.0        0.0 2014-01-01 17:06:00   \n",
       "\n",
       "                  dep  \n",
       "0 2014-01-01 09:14:00  \n",
       "1 2014-01-01 11:57:00  \n",
       "2 2014-01-01 19:02:00  \n",
       "3 2014-01-01 07:22:00  \n",
       "4 2014-01-01 13:47:00  "
      ]
     },
     "execution_count": 42,
     "metadata": {},
     "output_type": "execute_result"
    }
   ],
   "source": [
    "fdata = pd.read_csv(\"ny-flights.csv.gz\",parse_dates=[\"fl_date\",'arr',\"dep\"])\n",
    "fdata.head()"
   ]
  },
  {
   "cell_type": "code",
   "execution_count": 43,
   "metadata": {},
   "outputs": [
    {
     "data": {
      "text/html": [
       "<div>\n",
       "<style scoped>\n",
       "    .dataframe tbody tr th:only-of-type {\n",
       "        vertical-align: middle;\n",
       "    }\n",
       "\n",
       "    .dataframe tbody tr th {\n",
       "        vertical-align: top;\n",
       "    }\n",
       "\n",
       "    .dataframe thead th {\n",
       "        text-align: right;\n",
       "    }\n",
       "</style>\n",
       "<table border=\"1\" class=\"dataframe\">\n",
       "  <thead>\n",
       "    <tr style=\"text-align: right;\">\n",
       "      <th></th>\n",
       "      <th>fl_date</th>\n",
       "      <th>unique_carrier</th>\n",
       "      <th>airline_id</th>\n",
       "      <th>tail_num</th>\n",
       "      <th>fl_num</th>\n",
       "      <th>origin</th>\n",
       "      <th>dest</th>\n",
       "      <th>dep_time</th>\n",
       "      <th>dep_delay</th>\n",
       "      <th>arr_time</th>\n",
       "      <th>arr_delay</th>\n",
       "      <th>cancelled</th>\n",
       "      <th>arr</th>\n",
       "      <th>dep</th>\n",
       "    </tr>\n",
       "  </thead>\n",
       "  <tbody>\n",
       "    <tr>\n",
       "      <th>20812</th>\n",
       "      <td>2014-01-31</td>\n",
       "      <td>UA</td>\n",
       "      <td>19977</td>\n",
       "      <td>N54711</td>\n",
       "      <td>1253</td>\n",
       "      <td>ROC</td>\n",
       "      <td>ORD</td>\n",
       "      <td>801.0</td>\n",
       "      <td>-4.0</td>\n",
       "      <td>908.0</td>\n",
       "      <td>4.0</td>\n",
       "      <td>0.0</td>\n",
       "      <td>2014-01-31 09:08:00</td>\n",
       "      <td>2014-01-31 08:01:00</td>\n",
       "    </tr>\n",
       "    <tr>\n",
       "      <th>20813</th>\n",
       "      <td>2014-01-31</td>\n",
       "      <td>UA</td>\n",
       "      <td>19977</td>\n",
       "      <td>N77525</td>\n",
       "      <td>1429</td>\n",
       "      <td>LGA</td>\n",
       "      <td>CLE</td>\n",
       "      <td>1522.0</td>\n",
       "      <td>-10.0</td>\n",
       "      <td>1649.0</td>\n",
       "      <td>-31.0</td>\n",
       "      <td>0.0</td>\n",
       "      <td>2014-01-31 16:49:00</td>\n",
       "      <td>2014-01-31 15:22:00</td>\n",
       "    </tr>\n",
       "    <tr>\n",
       "      <th>20814</th>\n",
       "      <td>2014-01-31</td>\n",
       "      <td>UA</td>\n",
       "      <td>19977</td>\n",
       "      <td>N37293</td>\n",
       "      <td>1456</td>\n",
       "      <td>LGA</td>\n",
       "      <td>IAH</td>\n",
       "      <td>719.0</td>\n",
       "      <td>-6.0</td>\n",
       "      <td>1006.0</td>\n",
       "      <td>-20.0</td>\n",
       "      <td>0.0</td>\n",
       "      <td>2014-01-31 10:06:00</td>\n",
       "      <td>2014-01-31 07:19:00</td>\n",
       "    </tr>\n",
       "    <tr>\n",
       "      <th>20815</th>\n",
       "      <td>2014-01-31</td>\n",
       "      <td>UA</td>\n",
       "      <td>19977</td>\n",
       "      <td>N24729</td>\n",
       "      <td>1457</td>\n",
       "      <td>LGA</td>\n",
       "      <td>IAH</td>\n",
       "      <td>852.0</td>\n",
       "      <td>7.0</td>\n",
       "      <td>1156.0</td>\n",
       "      <td>-6.0</td>\n",
       "      <td>0.0</td>\n",
       "      <td>2014-01-31 11:56:00</td>\n",
       "      <td>2014-01-31 08:52:00</td>\n",
       "    </tr>\n",
       "    <tr>\n",
       "      <th>20816</th>\n",
       "      <td>2014-01-31</td>\n",
       "      <td>MQ</td>\n",
       "      <td>20398</td>\n",
       "      <td>N609MQ</td>\n",
       "      <td>3699</td>\n",
       "      <td>BUF</td>\n",
       "      <td>ORD</td>\n",
       "      <td>1208.0</td>\n",
       "      <td>-12.0</td>\n",
       "      <td>1251.0</td>\n",
       "      <td>-19.0</td>\n",
       "      <td>0.0</td>\n",
       "      <td>2014-01-31 12:51:00</td>\n",
       "      <td>2014-01-31 12:08:00</td>\n",
       "    </tr>\n",
       "  </tbody>\n",
       "</table>\n",
       "</div>"
      ],
      "text/plain": [
       "         fl_date unique_carrier  airline_id tail_num  fl_num origin dest  \\\n",
       "20812 2014-01-31             UA       19977   N54711    1253    ROC  ORD   \n",
       "20813 2014-01-31             UA       19977   N77525    1429    LGA  CLE   \n",
       "20814 2014-01-31             UA       19977   N37293    1456    LGA  IAH   \n",
       "20815 2014-01-31             UA       19977   N24729    1457    LGA  IAH   \n",
       "20816 2014-01-31             MQ       20398   N609MQ    3699    BUF  ORD   \n",
       "\n",
       "       dep_time  dep_delay  arr_time  arr_delay  cancelled  \\\n",
       "20812     801.0       -4.0     908.0        4.0        0.0   \n",
       "20813    1522.0      -10.0    1649.0      -31.0        0.0   \n",
       "20814     719.0       -6.0    1006.0      -20.0        0.0   \n",
       "20815     852.0        7.0    1156.0       -6.0        0.0   \n",
       "20816    1208.0      -12.0    1251.0      -19.0        0.0   \n",
       "\n",
       "                      arr                 dep  \n",
       "20812 2014-01-31 09:08:00 2014-01-31 08:01:00  \n",
       "20813 2014-01-31 16:49:00 2014-01-31 15:22:00  \n",
       "20814 2014-01-31 10:06:00 2014-01-31 07:19:00  \n",
       "20815 2014-01-31 11:56:00 2014-01-31 08:52:00  \n",
       "20816 2014-01-31 12:51:00 2014-01-31 12:08:00  "
      ]
     },
     "execution_count": 43,
     "metadata": {},
     "output_type": "execute_result"
    }
   ],
   "source": [
    "fdata.tail()"
   ]
  },
  {
   "cell_type": "code",
   "execution_count": 44,
   "metadata": {},
   "outputs": [
    {
     "data": {
      "text/plain": [
       "0        19805\n",
       "1        19805\n",
       "2        19805\n",
       "3        19805\n",
       "4        19805\n",
       "         ...  \n",
       "20812    19977\n",
       "20813    19977\n",
       "20814    19977\n",
       "20815    19977\n",
       "20816    20398\n",
       "Name: airline_id, Length: 20817, dtype: int64"
      ]
     },
     "execution_count": 44,
     "metadata": {},
     "output_type": "execute_result"
    }
   ],
   "source": [
    "fdata['airline_id']"
   ]
  },
  {
   "cell_type": "code",
   "execution_count": 45,
   "metadata": {},
   "outputs": [],
   "source": [
    "fdata.set_index('airline_id',inplace=True)"
   ]
  },
  {
   "cell_type": "code",
   "execution_count": 46,
   "metadata": {},
   "outputs": [
    {
     "data": {
      "text/html": [
       "<div>\n",
       "<style scoped>\n",
       "    .dataframe tbody tr th:only-of-type {\n",
       "        vertical-align: middle;\n",
       "    }\n",
       "\n",
       "    .dataframe tbody tr th {\n",
       "        vertical-align: top;\n",
       "    }\n",
       "\n",
       "    .dataframe thead th {\n",
       "        text-align: right;\n",
       "    }\n",
       "</style>\n",
       "<table border=\"1\" class=\"dataframe\">\n",
       "  <thead>\n",
       "    <tr style=\"text-align: right;\">\n",
       "      <th></th>\n",
       "      <th>unique_carrier</th>\n",
       "      <th>tail_num</th>\n",
       "    </tr>\n",
       "    <tr>\n",
       "      <th>airline_id</th>\n",
       "      <th></th>\n",
       "      <th></th>\n",
       "    </tr>\n",
       "  </thead>\n",
       "  <tbody>\n",
       "    <tr>\n",
       "      <th>19805</th>\n",
       "      <td>AA</td>\n",
       "      <td>N327AA</td>\n",
       "    </tr>\n",
       "    <tr>\n",
       "      <th>19805</th>\n",
       "      <td>AA</td>\n",
       "      <td>N3EHAA</td>\n",
       "    </tr>\n",
       "  </tbody>\n",
       "</table>\n",
       "</div>"
      ],
      "text/plain": [
       "           unique_carrier tail_num\n",
       "airline_id                        \n",
       "19805                  AA   N327AA\n",
       "19805                  AA   N3EHAA"
      ]
     },
     "execution_count": 46,
     "metadata": {},
     "output_type": "execute_result"
    }
   ],
   "source": [
    "fdata.iloc[2:4,1:3]"
   ]
  },
  {
   "cell_type": "code",
   "execution_count": 47,
   "metadata": {},
   "outputs": [
    {
     "data": {
      "text/html": [
       "<div>\n",
       "<style scoped>\n",
       "    .dataframe tbody tr th:only-of-type {\n",
       "        vertical-align: middle;\n",
       "    }\n",
       "\n",
       "    .dataframe tbody tr th {\n",
       "        vertical-align: top;\n",
       "    }\n",
       "\n",
       "    .dataframe thead th {\n",
       "        text-align: right;\n",
       "    }\n",
       "</style>\n",
       "<table border=\"1\" class=\"dataframe\">\n",
       "  <thead>\n",
       "    <tr style=\"text-align: right;\">\n",
       "      <th></th>\n",
       "      <th>unique_carrier</th>\n",
       "      <th>tail_num</th>\n",
       "      <th>origin</th>\n",
       "    </tr>\n",
       "    <tr>\n",
       "      <th>airline_id</th>\n",
       "      <th></th>\n",
       "      <th></th>\n",
       "      <th></th>\n",
       "    </tr>\n",
       "  </thead>\n",
       "  <tbody>\n",
       "    <tr>\n",
       "      <th>19805</th>\n",
       "      <td>AA</td>\n",
       "      <td>N338AA</td>\n",
       "      <td>JFK</td>\n",
       "    </tr>\n",
       "    <tr>\n",
       "      <th>19805</th>\n",
       "      <td>AA</td>\n",
       "      <td>N335AA</td>\n",
       "      <td>JFK</td>\n",
       "    </tr>\n",
       "    <tr>\n",
       "      <th>19805</th>\n",
       "      <td>AA</td>\n",
       "      <td>N327AA</td>\n",
       "      <td>JFK</td>\n",
       "    </tr>\n",
       "    <tr>\n",
       "      <th>19805</th>\n",
       "      <td>AA</td>\n",
       "      <td>N3EHAA</td>\n",
       "      <td>LGA</td>\n",
       "    </tr>\n",
       "    <tr>\n",
       "      <th>19805</th>\n",
       "      <td>AA</td>\n",
       "      <td>N319AA</td>\n",
       "      <td>JFK</td>\n",
       "    </tr>\n",
       "    <tr>\n",
       "      <th>...</th>\n",
       "      <td>...</td>\n",
       "      <td>...</td>\n",
       "      <td>...</td>\n",
       "    </tr>\n",
       "    <tr>\n",
       "      <th>19805</th>\n",
       "      <td>AA</td>\n",
       "      <td>N3DEAA</td>\n",
       "      <td>JFK</td>\n",
       "    </tr>\n",
       "    <tr>\n",
       "      <th>19805</th>\n",
       "      <td>AA</td>\n",
       "      <td>N349AA</td>\n",
       "      <td>JFK</td>\n",
       "    </tr>\n",
       "    <tr>\n",
       "      <th>19805</th>\n",
       "      <td>AA</td>\n",
       "      <td>N5BYAA</td>\n",
       "      <td>JFK</td>\n",
       "    </tr>\n",
       "    <tr>\n",
       "      <th>19805</th>\n",
       "      <td>AA</td>\n",
       "      <td>N5DLAA</td>\n",
       "      <td>JFK</td>\n",
       "    </tr>\n",
       "    <tr>\n",
       "      <th>19805</th>\n",
       "      <td>AA</td>\n",
       "      <td>N3ENAA</td>\n",
       "      <td>LGA</td>\n",
       "    </tr>\n",
       "  </tbody>\n",
       "</table>\n",
       "<p>2427 rows × 3 columns</p>\n",
       "</div>"
      ],
      "text/plain": [
       "           unique_carrier tail_num origin\n",
       "airline_id                               \n",
       "19805                  AA   N338AA    JFK\n",
       "19805                  AA   N335AA    JFK\n",
       "19805                  AA   N327AA    JFK\n",
       "19805                  AA   N3EHAA    LGA\n",
       "19805                  AA   N319AA    JFK\n",
       "...                   ...      ...    ...\n",
       "19805                  AA   N3DEAA    JFK\n",
       "19805                  AA   N349AA    JFK\n",
       "19805                  AA   N5BYAA    JFK\n",
       "19805                  AA   N5DLAA    JFK\n",
       "19805                  AA   N3ENAA    LGA\n",
       "\n",
       "[2427 rows x 3 columns]"
      ]
     },
     "execution_count": 47,
     "metadata": {},
     "output_type": "execute_result"
    }
   ],
   "source": [
    "fdata.loc[19805,['unique_carrier','tail_num','origin']]"
   ]
  },
  {
   "cell_type": "code",
   "execution_count": 48,
   "metadata": {},
   "outputs": [
    {
     "data": {
      "text/html": [
       "<div>\n",
       "<style scoped>\n",
       "    .dataframe tbody tr th:only-of-type {\n",
       "        vertical-align: middle;\n",
       "    }\n",
       "\n",
       "    .dataframe tbody tr th {\n",
       "        vertical-align: top;\n",
       "    }\n",
       "\n",
       "    .dataframe thead th {\n",
       "        text-align: right;\n",
       "    }\n",
       "</style>\n",
       "<table border=\"1\" class=\"dataframe\">\n",
       "  <thead>\n",
       "    <tr style=\"text-align: right;\">\n",
       "      <th></th>\n",
       "      <th>unique_carrier</th>\n",
       "      <th>tail_num</th>\n",
       "      <th>origin</th>\n",
       "    </tr>\n",
       "    <tr>\n",
       "      <th>airline_id</th>\n",
       "      <th></th>\n",
       "      <th></th>\n",
       "      <th></th>\n",
       "    </tr>\n",
       "  </thead>\n",
       "  <tbody>\n",
       "    <tr>\n",
       "      <th>19805</th>\n",
       "      <td>AA</td>\n",
       "      <td>N3EHAA</td>\n",
       "      <td>LGA</td>\n",
       "    </tr>\n",
       "    <tr>\n",
       "      <th>19805</th>\n",
       "      <td>AA</td>\n",
       "      <td>N3KHAA</td>\n",
       "      <td>LGA</td>\n",
       "    </tr>\n",
       "    <tr>\n",
       "      <th>19805</th>\n",
       "      <td>AA</td>\n",
       "      <td>N3BSAA</td>\n",
       "      <td>LGA</td>\n",
       "    </tr>\n",
       "    <tr>\n",
       "      <th>19805</th>\n",
       "      <td>AA</td>\n",
       "      <td>N560AA</td>\n",
       "      <td>LGA</td>\n",
       "    </tr>\n",
       "    <tr>\n",
       "      <th>19805</th>\n",
       "      <td>AA</td>\n",
       "      <td>N3GMAA</td>\n",
       "      <td>LGA</td>\n",
       "    </tr>\n",
       "    <tr>\n",
       "      <th>...</th>\n",
       "      <td>...</td>\n",
       "      <td>...</td>\n",
       "      <td>...</td>\n",
       "    </tr>\n",
       "    <tr>\n",
       "      <th>19977</th>\n",
       "      <td>UA</td>\n",
       "      <td>N54711</td>\n",
       "      <td>ROC</td>\n",
       "    </tr>\n",
       "    <tr>\n",
       "      <th>19977</th>\n",
       "      <td>UA</td>\n",
       "      <td>N77525</td>\n",
       "      <td>LGA</td>\n",
       "    </tr>\n",
       "    <tr>\n",
       "      <th>19977</th>\n",
       "      <td>UA</td>\n",
       "      <td>N37293</td>\n",
       "      <td>LGA</td>\n",
       "    </tr>\n",
       "    <tr>\n",
       "      <th>19977</th>\n",
       "      <td>UA</td>\n",
       "      <td>N24729</td>\n",
       "      <td>LGA</td>\n",
       "    </tr>\n",
       "    <tr>\n",
       "      <th>20398</th>\n",
       "      <td>MQ</td>\n",
       "      <td>N609MQ</td>\n",
       "      <td>BUF</td>\n",
       "    </tr>\n",
       "  </tbody>\n",
       "</table>\n",
       "<p>12939 rows × 3 columns</p>\n",
       "</div>"
      ],
      "text/plain": [
       "           unique_carrier tail_num origin\n",
       "airline_id                               \n",
       "19805                  AA   N3EHAA    LGA\n",
       "19805                  AA   N3KHAA    LGA\n",
       "19805                  AA   N3BSAA    LGA\n",
       "19805                  AA   N560AA    LGA\n",
       "19805                  AA   N3GMAA    LGA\n",
       "...                   ...      ...    ...\n",
       "19977                  UA   N54711    ROC\n",
       "19977                  UA   N77525    LGA\n",
       "19977                  UA   N37293    LGA\n",
       "19977                  UA   N24729    LGA\n",
       "20398                  MQ   N609MQ    BUF\n",
       "\n",
       "[12939 rows x 3 columns]"
      ]
     },
     "execution_count": 48,
     "metadata": {},
     "output_type": "execute_result"
    }
   ],
   "source": [
    "fdata.loc[fdata['origin']!='JFK',['unique_carrier','tail_num','origin']]"
   ]
  },
  {
   "cell_type": "code",
   "execution_count": 49,
   "metadata": {},
   "outputs": [
    {
     "data": {
      "text/html": [
       "<div>\n",
       "<style scoped>\n",
       "    .dataframe tbody tr th:only-of-type {\n",
       "        vertical-align: middle;\n",
       "    }\n",
       "\n",
       "    .dataframe tbody tr th {\n",
       "        vertical-align: top;\n",
       "    }\n",
       "\n",
       "    .dataframe thead th {\n",
       "        text-align: right;\n",
       "    }\n",
       "</style>\n",
       "<table border=\"1\" class=\"dataframe\">\n",
       "  <thead>\n",
       "    <tr style=\"text-align: right;\">\n",
       "      <th></th>\n",
       "      <th>fl_date</th>\n",
       "      <th>unique_carrier</th>\n",
       "      <th>tail_num</th>\n",
       "      <th>fl_num</th>\n",
       "      <th>origin</th>\n",
       "      <th>dest</th>\n",
       "      <th>dep_time</th>\n",
       "      <th>dep_delay</th>\n",
       "      <th>arr_time</th>\n",
       "      <th>arr_delay</th>\n",
       "      <th>cancelled</th>\n",
       "      <th>arr</th>\n",
       "      <th>dep</th>\n",
       "    </tr>\n",
       "    <tr>\n",
       "      <th>airline_id</th>\n",
       "      <th></th>\n",
       "      <th></th>\n",
       "      <th></th>\n",
       "      <th></th>\n",
       "      <th></th>\n",
       "      <th></th>\n",
       "      <th></th>\n",
       "      <th></th>\n",
       "      <th></th>\n",
       "      <th></th>\n",
       "      <th></th>\n",
       "      <th></th>\n",
       "      <th></th>\n",
       "    </tr>\n",
       "  </thead>\n",
       "  <tbody>\n",
       "    <tr>\n",
       "      <th>19805</th>\n",
       "      <td>2014-01-01</td>\n",
       "      <td>AA</td>\n",
       "      <td>N338AA</td>\n",
       "      <td>1</td>\n",
       "      <td>JFK</td>\n",
       "      <td>LAX</td>\n",
       "      <td>914.0</td>\n",
       "      <td>14.0</td>\n",
       "      <td>1238.0</td>\n",
       "      <td>13.0</td>\n",
       "      <td>0.0</td>\n",
       "      <td>2014-01-01 12:38:00</td>\n",
       "      <td>2014-01-01 09:14:00</td>\n",
       "    </tr>\n",
       "    <tr>\n",
       "      <th>19805</th>\n",
       "      <td>2014-01-01</td>\n",
       "      <td>AA</td>\n",
       "      <td>N335AA</td>\n",
       "      <td>3</td>\n",
       "      <td>JFK</td>\n",
       "      <td>LAX</td>\n",
       "      <td>1157.0</td>\n",
       "      <td>-3.0</td>\n",
       "      <td>1523.0</td>\n",
       "      <td>13.0</td>\n",
       "      <td>0.0</td>\n",
       "      <td>2014-01-01 15:23:00</td>\n",
       "      <td>2014-01-01 11:57:00</td>\n",
       "    </tr>\n",
       "    <tr>\n",
       "      <th>19805</th>\n",
       "      <td>2014-01-01</td>\n",
       "      <td>AA</td>\n",
       "      <td>N327AA</td>\n",
       "      <td>21</td>\n",
       "      <td>JFK</td>\n",
       "      <td>LAX</td>\n",
       "      <td>1902.0</td>\n",
       "      <td>2.0</td>\n",
       "      <td>2224.0</td>\n",
       "      <td>9.0</td>\n",
       "      <td>0.0</td>\n",
       "      <td>2014-01-01 22:24:00</td>\n",
       "      <td>2014-01-01 19:02:00</td>\n",
       "    </tr>\n",
       "    <tr>\n",
       "      <th>19805</th>\n",
       "      <td>2014-01-01</td>\n",
       "      <td>AA</td>\n",
       "      <td>N319AA</td>\n",
       "      <td>117</td>\n",
       "      <td>JFK</td>\n",
       "      <td>LAX</td>\n",
       "      <td>1347.0</td>\n",
       "      <td>2.0</td>\n",
       "      <td>1706.0</td>\n",
       "      <td>1.0</td>\n",
       "      <td>0.0</td>\n",
       "      <td>2014-01-01 17:06:00</td>\n",
       "      <td>2014-01-01 13:47:00</td>\n",
       "    </tr>\n",
       "    <tr>\n",
       "      <th>19805</th>\n",
       "      <td>2014-01-01</td>\n",
       "      <td>AA</td>\n",
       "      <td>N323AA</td>\n",
       "      <td>185</td>\n",
       "      <td>JFK</td>\n",
       "      <td>LAX</td>\n",
       "      <td>2133.0</td>\n",
       "      <td>-2.0</td>\n",
       "      <td>37.0</td>\n",
       "      <td>-18.0</td>\n",
       "      <td>0.0</td>\n",
       "      <td>2014-01-01 00:37:00</td>\n",
       "      <td>2014-01-01 21:33:00</td>\n",
       "    </tr>\n",
       "  </tbody>\n",
       "</table>\n",
       "</div>"
      ],
      "text/plain": [
       "              fl_date unique_carrier tail_num  fl_num origin dest  dep_time  \\\n",
       "airline_id                                                                    \n",
       "19805      2014-01-01             AA   N338AA       1    JFK  LAX     914.0   \n",
       "19805      2014-01-01             AA   N335AA       3    JFK  LAX    1157.0   \n",
       "19805      2014-01-01             AA   N327AA      21    JFK  LAX    1902.0   \n",
       "19805      2014-01-01             AA   N319AA     117    JFK  LAX    1347.0   \n",
       "19805      2014-01-01             AA   N323AA     185    JFK  LAX    2133.0   \n",
       "\n",
       "            dep_delay  arr_time  arr_delay  cancelled                 arr  \\\n",
       "airline_id                                                                  \n",
       "19805            14.0    1238.0       13.0        0.0 2014-01-01 12:38:00   \n",
       "19805            -3.0    1523.0       13.0        0.0 2014-01-01 15:23:00   \n",
       "19805             2.0    2224.0        9.0        0.0 2014-01-01 22:24:00   \n",
       "19805             2.0    1706.0        1.0        0.0 2014-01-01 17:06:00   \n",
       "19805            -2.0      37.0      -18.0        0.0 2014-01-01 00:37:00   \n",
       "\n",
       "                           dep  \n",
       "airline_id                      \n",
       "19805      2014-01-01 09:14:00  \n",
       "19805      2014-01-01 11:57:00  \n",
       "19805      2014-01-01 19:02:00  \n",
       "19805      2014-01-01 13:47:00  \n",
       "19805      2014-01-01 21:33:00  "
      ]
     },
     "execution_count": 49,
     "metadata": {},
     "output_type": "execute_result"
    }
   ],
   "source": [
    "fdata.loc[fdata['origin']=='JFK'].head()"
   ]
  },
  {
   "cell_type": "code",
   "execution_count": 50,
   "metadata": {},
   "outputs": [
    {
     "data": {
      "text/plain": [
       "Index(['fl_date', 'unique_carrier', 'tail_num', 'fl_num', 'origin', 'dest',\n",
       "       'dep_time', 'dep_delay', 'arr_time', 'arr_delay', 'cancelled', 'arr',\n",
       "       'dep'],\n",
       "      dtype='object')"
      ]
     },
     "execution_count": 50,
     "metadata": {},
     "output_type": "execute_result"
    }
   ],
   "source": [
    "fdata.columns"
   ]
  },
  {
   "cell_type": "code",
   "execution_count": 51,
   "metadata": {},
   "outputs": [
    {
     "data": {
      "text/plain": [
       "Int64Index([19805, 19805, 19805, 19805, 19805, 19805, 19805, 19805, 19805,\n",
       "            19805,\n",
       "            ...\n",
       "            19977, 19977, 19977, 19977, 19977, 19977, 19977, 19977, 19977,\n",
       "            20398],\n",
       "           dtype='int64', name='airline_id', length=20817)"
      ]
     },
     "execution_count": 51,
     "metadata": {},
     "output_type": "execute_result"
    }
   ],
   "source": [
    "fdata.index"
   ]
  },
  {
   "cell_type": "code",
   "execution_count": 52,
   "metadata": {},
   "outputs": [
    {
     "data": {
      "text/plain": [
       "array([12939,  7878])"
      ]
     },
     "execution_count": 52,
     "metadata": {},
     "output_type": "execute_result"
    }
   ],
   "source": [
    "np.bincount(fdata['origin']=='JFK')"
   ]
  },
  {
   "cell_type": "code",
   "execution_count": 53,
   "metadata": {},
   "outputs": [
    {
     "data": {
      "text/plain": [
       "False    12939\n",
       "True      7878\n",
       "Name: origin, dtype: int64"
      ]
     },
     "execution_count": 53,
     "metadata": {},
     "output_type": "execute_result"
    }
   ],
   "source": [
    "(fdata['origin']=='JFK').value_counts()"
   ]
  },
  {
   "cell_type": "code",
   "execution_count": 54,
   "metadata": {},
   "outputs": [
    {
     "data": {
      "text/plain": [
       "7878"
      ]
     },
     "execution_count": 54,
     "metadata": {},
     "output_type": "execute_result"
    }
   ],
   "source": [
    "np.bincount(fdata['origin']=='JFK')[1]"
   ]
  },
  {
   "cell_type": "code",
   "execution_count": 55,
   "metadata": {},
   "outputs": [
    {
     "data": {
      "text/plain": [
       "True     12939\n",
       "False     7878\n",
       "Name: origin, dtype: int64"
      ]
     },
     "execution_count": 55,
     "metadata": {},
     "output_type": "execute_result"
    }
   ],
   "source": [
    "np.bincount(fdata['origin']!='JFK')\n",
    "(fdata['origin']!='JFK').value_counts()"
   ]
  },
  {
   "cell_type": "code",
   "execution_count": 56,
   "metadata": {},
   "outputs": [
    {
     "data": {
      "text/html": [
       "<div>\n",
       "<style scoped>\n",
       "    .dataframe tbody tr th:only-of-type {\n",
       "        vertical-align: middle;\n",
       "    }\n",
       "\n",
       "    .dataframe tbody tr th {\n",
       "        vertical-align: top;\n",
       "    }\n",
       "\n",
       "    .dataframe thead th {\n",
       "        text-align: right;\n",
       "    }\n",
       "</style>\n",
       "<table border=\"1\" class=\"dataframe\">\n",
       "  <thead>\n",
       "    <tr style=\"text-align: right;\">\n",
       "      <th></th>\n",
       "      <th>fl_date</th>\n",
       "      <th>unique_carrier</th>\n",
       "      <th>tail_num</th>\n",
       "      <th>fl_num</th>\n",
       "      <th>origin</th>\n",
       "      <th>dest</th>\n",
       "      <th>dep_time</th>\n",
       "      <th>dep_delay</th>\n",
       "      <th>arr_time</th>\n",
       "      <th>arr_delay</th>\n",
       "      <th>cancelled</th>\n",
       "      <th>arr</th>\n",
       "      <th>dep</th>\n",
       "    </tr>\n",
       "    <tr>\n",
       "      <th>airline_id</th>\n",
       "      <th></th>\n",
       "      <th></th>\n",
       "      <th></th>\n",
       "      <th></th>\n",
       "      <th></th>\n",
       "      <th></th>\n",
       "      <th></th>\n",
       "      <th></th>\n",
       "      <th></th>\n",
       "      <th></th>\n",
       "      <th></th>\n",
       "      <th></th>\n",
       "      <th></th>\n",
       "    </tr>\n",
       "  </thead>\n",
       "  <tbody>\n",
       "    <tr>\n",
       "      <th>19805</th>\n",
       "      <td>2014-01-01</td>\n",
       "      <td>AA</td>\n",
       "      <td>N338AA</td>\n",
       "      <td>1</td>\n",
       "      <td>JFK</td>\n",
       "      <td>LAX</td>\n",
       "      <td>914.0</td>\n",
       "      <td>14.0</td>\n",
       "      <td>1238.0</td>\n",
       "      <td>13.0</td>\n",
       "      <td>0.0</td>\n",
       "      <td>2014-01-01 12:38:00</td>\n",
       "      <td>2014-01-01 09:14:00</td>\n",
       "    </tr>\n",
       "    <tr>\n",
       "      <th>19805</th>\n",
       "      <td>2014-01-01</td>\n",
       "      <td>AA</td>\n",
       "      <td>N335AA</td>\n",
       "      <td>3</td>\n",
       "      <td>JFK</td>\n",
       "      <td>LAX</td>\n",
       "      <td>1157.0</td>\n",
       "      <td>-3.0</td>\n",
       "      <td>1523.0</td>\n",
       "      <td>13.0</td>\n",
       "      <td>0.0</td>\n",
       "      <td>2014-01-01 15:23:00</td>\n",
       "      <td>2014-01-01 11:57:00</td>\n",
       "    </tr>\n",
       "    <tr>\n",
       "      <th>19805</th>\n",
       "      <td>2014-01-01</td>\n",
       "      <td>AA</td>\n",
       "      <td>N327AA</td>\n",
       "      <td>21</td>\n",
       "      <td>JFK</td>\n",
       "      <td>LAX</td>\n",
       "      <td>1902.0</td>\n",
       "      <td>2.0</td>\n",
       "      <td>2224.0</td>\n",
       "      <td>9.0</td>\n",
       "      <td>0.0</td>\n",
       "      <td>2014-01-01 22:24:00</td>\n",
       "      <td>2014-01-01 19:02:00</td>\n",
       "    </tr>\n",
       "    <tr>\n",
       "      <th>19805</th>\n",
       "      <td>2014-01-01</td>\n",
       "      <td>AA</td>\n",
       "      <td>N3EHAA</td>\n",
       "      <td>29</td>\n",
       "      <td>LGA</td>\n",
       "      <td>PBI</td>\n",
       "      <td>722.0</td>\n",
       "      <td>-8.0</td>\n",
       "      <td>1014.0</td>\n",
       "      <td>-26.0</td>\n",
       "      <td>0.0</td>\n",
       "      <td>2014-01-01 10:14:00</td>\n",
       "      <td>2014-01-01 07:22:00</td>\n",
       "    </tr>\n",
       "    <tr>\n",
       "      <th>19805</th>\n",
       "      <td>2014-01-01</td>\n",
       "      <td>AA</td>\n",
       "      <td>N319AA</td>\n",
       "      <td>117</td>\n",
       "      <td>JFK</td>\n",
       "      <td>LAX</td>\n",
       "      <td>1347.0</td>\n",
       "      <td>2.0</td>\n",
       "      <td>1706.0</td>\n",
       "      <td>1.0</td>\n",
       "      <td>0.0</td>\n",
       "      <td>2014-01-01 17:06:00</td>\n",
       "      <td>2014-01-01 13:47:00</td>\n",
       "    </tr>\n",
       "  </tbody>\n",
       "</table>\n",
       "</div>"
      ],
      "text/plain": [
       "              fl_date unique_carrier tail_num  fl_num origin dest  dep_time  \\\n",
       "airline_id                                                                    \n",
       "19805      2014-01-01             AA   N338AA       1    JFK  LAX     914.0   \n",
       "19805      2014-01-01             AA   N335AA       3    JFK  LAX    1157.0   \n",
       "19805      2014-01-01             AA   N327AA      21    JFK  LAX    1902.0   \n",
       "19805      2014-01-01             AA   N3EHAA      29    LGA  PBI     722.0   \n",
       "19805      2014-01-01             AA   N319AA     117    JFK  LAX    1347.0   \n",
       "\n",
       "            dep_delay  arr_time  arr_delay  cancelled                 arr  \\\n",
       "airline_id                                                                  \n",
       "19805            14.0    1238.0       13.0        0.0 2014-01-01 12:38:00   \n",
       "19805            -3.0    1523.0       13.0        0.0 2014-01-01 15:23:00   \n",
       "19805             2.0    2224.0        9.0        0.0 2014-01-01 22:24:00   \n",
       "19805            -8.0    1014.0      -26.0        0.0 2014-01-01 10:14:00   \n",
       "19805             2.0    1706.0        1.0        0.0 2014-01-01 17:06:00   \n",
       "\n",
       "                           dep  \n",
       "airline_id                      \n",
       "19805      2014-01-01 09:14:00  \n",
       "19805      2014-01-01 11:57:00  \n",
       "19805      2014-01-01 19:02:00  \n",
       "19805      2014-01-01 07:22:00  \n",
       "19805      2014-01-01 13:47:00  "
      ]
     },
     "execution_count": 56,
     "metadata": {},
     "output_type": "execute_result"
    }
   ],
   "source": [
    "fdata.head()"
   ]
  },
  {
   "cell_type": "code",
   "execution_count": 57,
   "metadata": {},
   "outputs": [
    {
     "data": {
      "text/html": [
       "<div>\n",
       "<style scoped>\n",
       "    .dataframe tbody tr th:only-of-type {\n",
       "        vertical-align: middle;\n",
       "    }\n",
       "\n",
       "    .dataframe tbody tr th {\n",
       "        vertical-align: top;\n",
       "    }\n",
       "\n",
       "    .dataframe thead th {\n",
       "        text-align: right;\n",
       "    }\n",
       "</style>\n",
       "<table border=\"1\" class=\"dataframe\">\n",
       "  <thead>\n",
       "    <tr style=\"text-align: right;\">\n",
       "      <th></th>\n",
       "      <th>fl_date</th>\n",
       "      <th>unique_carrier</th>\n",
       "      <th>tail_num</th>\n",
       "      <th>fl_num</th>\n",
       "      <th>origin</th>\n",
       "      <th>dest</th>\n",
       "      <th>dep_time</th>\n",
       "      <th>dep_delay</th>\n",
       "      <th>arr_time</th>\n",
       "      <th>arr_delay</th>\n",
       "      <th>cancelled</th>\n",
       "      <th>arr</th>\n",
       "      <th>dep</th>\n",
       "    </tr>\n",
       "    <tr>\n",
       "      <th>airline_id</th>\n",
       "      <th></th>\n",
       "      <th></th>\n",
       "      <th></th>\n",
       "      <th></th>\n",
       "      <th></th>\n",
       "      <th></th>\n",
       "      <th></th>\n",
       "      <th></th>\n",
       "      <th></th>\n",
       "      <th></th>\n",
       "      <th></th>\n",
       "      <th></th>\n",
       "      <th></th>\n",
       "    </tr>\n",
       "  </thead>\n",
       "  <tbody>\n",
       "    <tr>\n",
       "      <th>19805</th>\n",
       "      <td>2014-01-01</td>\n",
       "      <td>AA</td>\n",
       "      <td>N3EAAA</td>\n",
       "      <td>359</td>\n",
       "      <td>LGA</td>\n",
       "      <td>ORD</td>\n",
       "      <td>NaN</td>\n",
       "      <td>NaN</td>\n",
       "      <td>NaN</td>\n",
       "      <td>NaN</td>\n",
       "      <td>1.0</td>\n",
       "      <td>NaT</td>\n",
       "      <td>NaT</td>\n",
       "    </tr>\n",
       "    <tr>\n",
       "      <th>19805</th>\n",
       "      <td>2014-01-01</td>\n",
       "      <td>AA</td>\n",
       "      <td>N542AA</td>\n",
       "      <td>371</td>\n",
       "      <td>LGA</td>\n",
       "      <td>ORD</td>\n",
       "      <td>NaN</td>\n",
       "      <td>NaN</td>\n",
       "      <td>NaN</td>\n",
       "      <td>NaN</td>\n",
       "      <td>1.0</td>\n",
       "      <td>NaT</td>\n",
       "      <td>NaT</td>\n",
       "    </tr>\n",
       "    <tr>\n",
       "      <th>20409</th>\n",
       "      <td>2014-01-01</td>\n",
       "      <td>B6</td>\n",
       "      <td>N913JB</td>\n",
       "      <td>1103</td>\n",
       "      <td>JFK</td>\n",
       "      <td>SJU</td>\n",
       "      <td>NaN</td>\n",
       "      <td>NaN</td>\n",
       "      <td>NaN</td>\n",
       "      <td>NaN</td>\n",
       "      <td>1.0</td>\n",
       "      <td>NaT</td>\n",
       "      <td>NaT</td>\n",
       "    </tr>\n",
       "    <tr>\n",
       "      <th>20409</th>\n",
       "      <td>2014-01-01</td>\n",
       "      <td>B6</td>\n",
       "      <td>N193JB</td>\n",
       "      <td>518</td>\n",
       "      <td>JFK</td>\n",
       "      <td>BOS</td>\n",
       "      <td>NaN</td>\n",
       "      <td>NaN</td>\n",
       "      <td>NaN</td>\n",
       "      <td>NaN</td>\n",
       "      <td>1.0</td>\n",
       "      <td>NaT</td>\n",
       "      <td>NaT</td>\n",
       "    </tr>\n",
       "    <tr>\n",
       "      <th>20366</th>\n",
       "      <td>2014-01-01</td>\n",
       "      <td>EV</td>\n",
       "      <td>N17159</td>\n",
       "      <td>4130</td>\n",
       "      <td>SYR</td>\n",
       "      <td>CLE</td>\n",
       "      <td>NaN</td>\n",
       "      <td>NaN</td>\n",
       "      <td>NaN</td>\n",
       "      <td>NaN</td>\n",
       "      <td>1.0</td>\n",
       "      <td>NaT</td>\n",
       "      <td>NaT</td>\n",
       "    </tr>\n",
       "    <tr>\n",
       "      <th>...</th>\n",
       "      <td>...</td>\n",
       "      <td>...</td>\n",
       "      <td>...</td>\n",
       "      <td>...</td>\n",
       "      <td>...</td>\n",
       "      <td>...</td>\n",
       "      <td>...</td>\n",
       "      <td>...</td>\n",
       "      <td>...</td>\n",
       "      <td>...</td>\n",
       "      <td>...</td>\n",
       "      <td>...</td>\n",
       "      <td>...</td>\n",
       "    </tr>\n",
       "    <tr>\n",
       "      <th>19790</th>\n",
       "      <td>2014-01-31</td>\n",
       "      <td>DL</td>\n",
       "      <td>N908DA</td>\n",
       "      <td>2129</td>\n",
       "      <td>ROC</td>\n",
       "      <td>ATL</td>\n",
       "      <td>NaN</td>\n",
       "      <td>NaN</td>\n",
       "      <td>NaN</td>\n",
       "      <td>NaN</td>\n",
       "      <td>1.0</td>\n",
       "      <td>NaT</td>\n",
       "      <td>NaT</td>\n",
       "    </tr>\n",
       "    <tr>\n",
       "      <th>19790</th>\n",
       "      <td>2014-01-31</td>\n",
       "      <td>DL</td>\n",
       "      <td>N965DL</td>\n",
       "      <td>2165</td>\n",
       "      <td>JFK</td>\n",
       "      <td>TPA</td>\n",
       "      <td>NaN</td>\n",
       "      <td>NaN</td>\n",
       "      <td>NaN</td>\n",
       "      <td>NaN</td>\n",
       "      <td>1.0</td>\n",
       "      <td>NaT</td>\n",
       "      <td>NaT</td>\n",
       "    </tr>\n",
       "    <tr>\n",
       "      <th>20398</th>\n",
       "      <td>2014-01-31</td>\n",
       "      <td>MQ</td>\n",
       "      <td>N672MQ</td>\n",
       "      <td>3075</td>\n",
       "      <td>SYR</td>\n",
       "      <td>ORD</td>\n",
       "      <td>NaN</td>\n",
       "      <td>NaN</td>\n",
       "      <td>NaN</td>\n",
       "      <td>NaN</td>\n",
       "      <td>1.0</td>\n",
       "      <td>NaT</td>\n",
       "      <td>NaT</td>\n",
       "    </tr>\n",
       "    <tr>\n",
       "      <th>20398</th>\n",
       "      <td>2014-01-31</td>\n",
       "      <td>MQ</td>\n",
       "      <td>N507MQ</td>\n",
       "      <td>3281</td>\n",
       "      <td>LGA</td>\n",
       "      <td>CMH</td>\n",
       "      <td>NaN</td>\n",
       "      <td>NaN</td>\n",
       "      <td>NaN</td>\n",
       "      <td>NaN</td>\n",
       "      <td>1.0</td>\n",
       "      <td>NaT</td>\n",
       "      <td>NaT</td>\n",
       "    </tr>\n",
       "    <tr>\n",
       "      <th>20398</th>\n",
       "      <td>2014-01-31</td>\n",
       "      <td>MQ</td>\n",
       "      <td>N502MQ</td>\n",
       "      <td>3531</td>\n",
       "      <td>LGA</td>\n",
       "      <td>RDU</td>\n",
       "      <td>NaN</td>\n",
       "      <td>NaN</td>\n",
       "      <td>NaN</td>\n",
       "      <td>NaN</td>\n",
       "      <td>1.0</td>\n",
       "      <td>NaT</td>\n",
       "      <td>NaT</td>\n",
       "    </tr>\n",
       "  </tbody>\n",
       "</table>\n",
       "<p>2395 rows × 13 columns</p>\n",
       "</div>"
      ],
      "text/plain": [
       "              fl_date unique_carrier tail_num  fl_num origin dest  dep_time  \\\n",
       "airline_id                                                                    \n",
       "19805      2014-01-01             AA   N3EAAA     359    LGA  ORD       NaN   \n",
       "19805      2014-01-01             AA   N542AA     371    LGA  ORD       NaN   \n",
       "20409      2014-01-01             B6   N913JB    1103    JFK  SJU       NaN   \n",
       "20409      2014-01-01             B6   N193JB     518    JFK  BOS       NaN   \n",
       "20366      2014-01-01             EV   N17159    4130    SYR  CLE       NaN   \n",
       "...               ...            ...      ...     ...    ...  ...       ...   \n",
       "19790      2014-01-31             DL   N908DA    2129    ROC  ATL       NaN   \n",
       "19790      2014-01-31             DL   N965DL    2165    JFK  TPA       NaN   \n",
       "20398      2014-01-31             MQ   N672MQ    3075    SYR  ORD       NaN   \n",
       "20398      2014-01-31             MQ   N507MQ    3281    LGA  CMH       NaN   \n",
       "20398      2014-01-31             MQ   N502MQ    3531    LGA  RDU       NaN   \n",
       "\n",
       "            dep_delay  arr_time  arr_delay  cancelled arr dep  \n",
       "airline_id                                                     \n",
       "19805             NaN       NaN        NaN        1.0 NaT NaT  \n",
       "19805             NaN       NaN        NaN        1.0 NaT NaT  \n",
       "20409             NaN       NaN        NaN        1.0 NaT NaT  \n",
       "20409             NaN       NaN        NaN        1.0 NaT NaT  \n",
       "20366             NaN       NaN        NaN        1.0 NaT NaT  \n",
       "...               ...       ...        ...        ...  ..  ..  \n",
       "19790             NaN       NaN        NaN        1.0 NaT NaT  \n",
       "19790             NaN       NaN        NaN        1.0 NaT NaT  \n",
       "20398             NaN       NaN        NaN        1.0 NaT NaT  \n",
       "20398             NaN       NaN        NaN        1.0 NaT NaT  \n",
       "20398             NaN       NaN        NaN        1.0 NaT NaT  \n",
       "\n",
       "[2395 rows x 13 columns]"
      ]
     },
     "execution_count": 57,
     "metadata": {},
     "output_type": "execute_result"
    }
   ],
   "source": [
    "fdata[fdata[\"cancelled\"]==1]"
   ]
  },
  {
   "cell_type": "code",
   "execution_count": 58,
   "metadata": {},
   "outputs": [
    {
     "data": {
      "text/plain": [
       "LGA    8530\n",
       "JFK    7878\n",
       "BUF    1348\n",
       "ROC     676\n",
       "HPN     615\n",
       "ALB     593\n",
       "SYR     554\n",
       "ISP     398\n",
       "ELM     105\n",
       "SWF      62\n",
       "ART      58\n",
       "Name: origin, dtype: int64"
      ]
     },
     "execution_count": 58,
     "metadata": {},
     "output_type": "execute_result"
    }
   ],
   "source": [
    "fdata['origin'].value_counts()"
   ]
  },
  {
   "cell_type": "code",
   "execution_count": 59,
   "metadata": {},
   "outputs": [
    {
     "data": {
      "text/plain": [
       "LGA    8530\n",
       "JFK    7878\n",
       "BUF    1348\n",
       "ROC     676\n",
       "HPN     615\n",
       "ALB     593\n",
       "SYR     554\n",
       "ISP     398\n",
       "ELM     105\n",
       "SWF      62\n",
       "ART      58\n",
       "Name: origin, dtype: int64"
      ]
     },
     "execution_count": 59,
     "metadata": {},
     "output_type": "execute_result"
    }
   ],
   "source": [
    "fdata.origin.value_counts()"
   ]
  },
  {
   "cell_type": "code",
   "execution_count": 60,
   "metadata": {},
   "outputs": [
    {
     "data": {
      "text/plain": [
       "B6    3337\n",
       "DL    1640\n",
       "AA    1138\n",
       "MQ     650\n",
       "UA     410\n",
       "VX     301\n",
       "US     270\n",
       "EV     103\n",
       "HA      29\n",
       "Name: unique_carrier, dtype: int64"
      ]
     },
     "execution_count": 60,
     "metadata": {},
     "output_type": "execute_result"
    }
   ],
   "source": [
    "fdata[fdata.origin=='JFK'].unique_carrier.value_counts()"
   ]
  },
  {
   "cell_type": "code",
   "execution_count": 61,
   "metadata": {},
   "outputs": [],
   "source": [
    "carcount=fdata[fdata.origin=='JFK'].unique_carrier.value_counts()"
   ]
  },
  {
   "cell_type": "code",
   "execution_count": 62,
   "metadata": {},
   "outputs": [
    {
     "data": {
      "text/plain": [
       "Index(['B6', 'DL', 'AA', 'MQ', 'UA'], dtype='object')"
      ]
     },
     "execution_count": 62,
     "metadata": {},
     "output_type": "execute_result"
    }
   ],
   "source": [
    "top5 = carcount[:5] \n",
    "top5.index"
   ]
  },
  {
   "cell_type": "code",
   "execution_count": 63,
   "metadata": {},
   "outputs": [
    {
     "data": {
      "text/plain": [
       "airline_id\n",
       "19805     True\n",
       "19805     True\n",
       "19805     True\n",
       "19805    False\n",
       "19805     True\n",
       "         ...  \n",
       "19977    False\n",
       "19977    False\n",
       "19977    False\n",
       "19977    False\n",
       "20398    False\n",
       "Length: 20817, dtype: bool"
      ]
     },
     "execution_count": 63,
     "metadata": {},
     "output_type": "execute_result"
    }
   ],
   "source": [
    "mask = (fdata.origin=='JFK') & (fdata[\"unique_carrier\"].isin(top5.index))\n",
    "mask"
   ]
  },
  {
   "cell_type": "code",
   "execution_count": 64,
   "metadata": {},
   "outputs": [
    {
     "data": {
      "text/plain": [
       "array([13642,  7175])"
      ]
     },
     "execution_count": 64,
     "metadata": {},
     "output_type": "execute_result"
    }
   ],
   "source": [
    "np.bincount(mask)"
   ]
  },
  {
   "cell_type": "code",
   "execution_count": 65,
   "metadata": {},
   "outputs": [
    {
     "data": {
      "text/html": [
       "<div>\n",
       "<style scoped>\n",
       "    .dataframe tbody tr th:only-of-type {\n",
       "        vertical-align: middle;\n",
       "    }\n",
       "\n",
       "    .dataframe tbody tr th {\n",
       "        vertical-align: top;\n",
       "    }\n",
       "\n",
       "    .dataframe thead th {\n",
       "        text-align: right;\n",
       "    }\n",
       "</style>\n",
       "<table border=\"1\" class=\"dataframe\">\n",
       "  <thead>\n",
       "    <tr style=\"text-align: right;\">\n",
       "      <th></th>\n",
       "      <th>fl_date</th>\n",
       "      <th>unique_carrier</th>\n",
       "      <th>tail_num</th>\n",
       "      <th>fl_num</th>\n",
       "      <th>origin</th>\n",
       "      <th>dest</th>\n",
       "      <th>dep_time</th>\n",
       "      <th>dep_delay</th>\n",
       "      <th>arr_time</th>\n",
       "      <th>arr_delay</th>\n",
       "      <th>cancelled</th>\n",
       "      <th>arr</th>\n",
       "      <th>dep</th>\n",
       "    </tr>\n",
       "    <tr>\n",
       "      <th>airline_id</th>\n",
       "      <th></th>\n",
       "      <th></th>\n",
       "      <th></th>\n",
       "      <th></th>\n",
       "      <th></th>\n",
       "      <th></th>\n",
       "      <th></th>\n",
       "      <th></th>\n",
       "      <th></th>\n",
       "      <th></th>\n",
       "      <th></th>\n",
       "      <th></th>\n",
       "      <th></th>\n",
       "    </tr>\n",
       "  </thead>\n",
       "  <tbody>\n",
       "    <tr>\n",
       "      <th>19805</th>\n",
       "      <td>2014-01-01</td>\n",
       "      <td>AA</td>\n",
       "      <td>N338AA</td>\n",
       "      <td>1</td>\n",
       "      <td>JFK</td>\n",
       "      <td>LAX</td>\n",
       "      <td>914.0</td>\n",
       "      <td>14.0</td>\n",
       "      <td>1238.0</td>\n",
       "      <td>13.0</td>\n",
       "      <td>0.0</td>\n",
       "      <td>2014-01-01 12:38:00</td>\n",
       "      <td>2014-01-01 09:14:00</td>\n",
       "    </tr>\n",
       "    <tr>\n",
       "      <th>19805</th>\n",
       "      <td>2014-01-01</td>\n",
       "      <td>AA</td>\n",
       "      <td>N335AA</td>\n",
       "      <td>3</td>\n",
       "      <td>JFK</td>\n",
       "      <td>LAX</td>\n",
       "      <td>1157.0</td>\n",
       "      <td>-3.0</td>\n",
       "      <td>1523.0</td>\n",
       "      <td>13.0</td>\n",
       "      <td>0.0</td>\n",
       "      <td>2014-01-01 15:23:00</td>\n",
       "      <td>2014-01-01 11:57:00</td>\n",
       "    </tr>\n",
       "    <tr>\n",
       "      <th>19805</th>\n",
       "      <td>2014-01-01</td>\n",
       "      <td>AA</td>\n",
       "      <td>N327AA</td>\n",
       "      <td>21</td>\n",
       "      <td>JFK</td>\n",
       "      <td>LAX</td>\n",
       "      <td>1902.0</td>\n",
       "      <td>2.0</td>\n",
       "      <td>2224.0</td>\n",
       "      <td>9.0</td>\n",
       "      <td>0.0</td>\n",
       "      <td>2014-01-01 22:24:00</td>\n",
       "      <td>2014-01-01 19:02:00</td>\n",
       "    </tr>\n",
       "    <tr>\n",
       "      <th>19805</th>\n",
       "      <td>2014-01-01</td>\n",
       "      <td>AA</td>\n",
       "      <td>N319AA</td>\n",
       "      <td>117</td>\n",
       "      <td>JFK</td>\n",
       "      <td>LAX</td>\n",
       "      <td>1347.0</td>\n",
       "      <td>2.0</td>\n",
       "      <td>1706.0</td>\n",
       "      <td>1.0</td>\n",
       "      <td>0.0</td>\n",
       "      <td>2014-01-01 17:06:00</td>\n",
       "      <td>2014-01-01 13:47:00</td>\n",
       "    </tr>\n",
       "    <tr>\n",
       "      <th>19805</th>\n",
       "      <td>2014-01-01</td>\n",
       "      <td>AA</td>\n",
       "      <td>N323AA</td>\n",
       "      <td>185</td>\n",
       "      <td>JFK</td>\n",
       "      <td>LAX</td>\n",
       "      <td>2133.0</td>\n",
       "      <td>-2.0</td>\n",
       "      <td>37.0</td>\n",
       "      <td>-18.0</td>\n",
       "      <td>0.0</td>\n",
       "      <td>2014-01-01 00:37:00</td>\n",
       "      <td>2014-01-01 21:33:00</td>\n",
       "    </tr>\n",
       "    <tr>\n",
       "      <th>...</th>\n",
       "      <td>...</td>\n",
       "      <td>...</td>\n",
       "      <td>...</td>\n",
       "      <td>...</td>\n",
       "      <td>...</td>\n",
       "      <td>...</td>\n",
       "      <td>...</td>\n",
       "      <td>...</td>\n",
       "      <td>...</td>\n",
       "      <td>...</td>\n",
       "      <td>...</td>\n",
       "      <td>...</td>\n",
       "      <td>...</td>\n",
       "    </tr>\n",
       "    <tr>\n",
       "      <th>19977</th>\n",
       "      <td>2014-01-31</td>\n",
       "      <td>UA</td>\n",
       "      <td>N595UA</td>\n",
       "      <td>535</td>\n",
       "      <td>JFK</td>\n",
       "      <td>LAX</td>\n",
       "      <td>1750.0</td>\n",
       "      <td>-4.0</td>\n",
       "      <td>2108.0</td>\n",
       "      <td>-9.0</td>\n",
       "      <td>0.0</td>\n",
       "      <td>2014-01-31 21:08:00</td>\n",
       "      <td>2014-01-31 17:50:00</td>\n",
       "    </tr>\n",
       "    <tr>\n",
       "      <th>19977</th>\n",
       "      <td>2014-01-31</td>\n",
       "      <td>UA</td>\n",
       "      <td>N546UA</td>\n",
       "      <td>642</td>\n",
       "      <td>JFK</td>\n",
       "      <td>SFO</td>\n",
       "      <td>1023.0</td>\n",
       "      <td>-2.0</td>\n",
       "      <td>1424.0</td>\n",
       "      <td>24.0</td>\n",
       "      <td>0.0</td>\n",
       "      <td>2014-01-31 14:24:00</td>\n",
       "      <td>2014-01-31 10:23:00</td>\n",
       "    </tr>\n",
       "    <tr>\n",
       "      <th>19977</th>\n",
       "      <td>2014-01-31</td>\n",
       "      <td>UA</td>\n",
       "      <td>N568UA</td>\n",
       "      <td>703</td>\n",
       "      <td>JFK</td>\n",
       "      <td>LAX</td>\n",
       "      <td>831.0</td>\n",
       "      <td>-4.0</td>\n",
       "      <td>1204.0</td>\n",
       "      <td>4.0</td>\n",
       "      <td>0.0</td>\n",
       "      <td>2014-01-31 12:04:00</td>\n",
       "      <td>2014-01-31 08:31:00</td>\n",
       "    </tr>\n",
       "    <tr>\n",
       "      <th>19977</th>\n",
       "      <td>2014-01-31</td>\n",
       "      <td>UA</td>\n",
       "      <td>N510UA</td>\n",
       "      <td>766</td>\n",
       "      <td>JFK</td>\n",
       "      <td>SFO</td>\n",
       "      <td>1152.0</td>\n",
       "      <td>-8.0</td>\n",
       "      <td>1523.0</td>\n",
       "      <td>-8.0</td>\n",
       "      <td>0.0</td>\n",
       "      <td>2014-01-31 15:23:00</td>\n",
       "      <td>2014-01-31 11:52:00</td>\n",
       "    </tr>\n",
       "    <tr>\n",
       "      <th>19977</th>\n",
       "      <td>2014-01-31</td>\n",
       "      <td>UA</td>\n",
       "      <td>N502UA</td>\n",
       "      <td>841</td>\n",
       "      <td>JFK</td>\n",
       "      <td>LAX</td>\n",
       "      <td>1443.0</td>\n",
       "      <td>-2.0</td>\n",
       "      <td>1813.0</td>\n",
       "      <td>9.0</td>\n",
       "      <td>0.0</td>\n",
       "      <td>2014-01-31 18:13:00</td>\n",
       "      <td>2014-01-31 14:43:00</td>\n",
       "    </tr>\n",
       "  </tbody>\n",
       "</table>\n",
       "<p>7175 rows × 13 columns</p>\n",
       "</div>"
      ],
      "text/plain": [
       "              fl_date unique_carrier tail_num  fl_num origin dest  dep_time  \\\n",
       "airline_id                                                                    \n",
       "19805      2014-01-01             AA   N338AA       1    JFK  LAX     914.0   \n",
       "19805      2014-01-01             AA   N335AA       3    JFK  LAX    1157.0   \n",
       "19805      2014-01-01             AA   N327AA      21    JFK  LAX    1902.0   \n",
       "19805      2014-01-01             AA   N319AA     117    JFK  LAX    1347.0   \n",
       "19805      2014-01-01             AA   N323AA     185    JFK  LAX    2133.0   \n",
       "...               ...            ...      ...     ...    ...  ...       ...   \n",
       "19977      2014-01-31             UA   N595UA     535    JFK  LAX    1750.0   \n",
       "19977      2014-01-31             UA   N546UA     642    JFK  SFO    1023.0   \n",
       "19977      2014-01-31             UA   N568UA     703    JFK  LAX     831.0   \n",
       "19977      2014-01-31             UA   N510UA     766    JFK  SFO    1152.0   \n",
       "19977      2014-01-31             UA   N502UA     841    JFK  LAX    1443.0   \n",
       "\n",
       "            dep_delay  arr_time  arr_delay  cancelled                 arr  \\\n",
       "airline_id                                                                  \n",
       "19805            14.0    1238.0       13.0        0.0 2014-01-01 12:38:00   \n",
       "19805            -3.0    1523.0       13.0        0.0 2014-01-01 15:23:00   \n",
       "19805             2.0    2224.0        9.0        0.0 2014-01-01 22:24:00   \n",
       "19805             2.0    1706.0        1.0        0.0 2014-01-01 17:06:00   \n",
       "19805            -2.0      37.0      -18.0        0.0 2014-01-01 00:37:00   \n",
       "...               ...       ...        ...        ...                 ...   \n",
       "19977            -4.0    2108.0       -9.0        0.0 2014-01-31 21:08:00   \n",
       "19977            -2.0    1424.0       24.0        0.0 2014-01-31 14:24:00   \n",
       "19977            -4.0    1204.0        4.0        0.0 2014-01-31 12:04:00   \n",
       "19977            -8.0    1523.0       -8.0        0.0 2014-01-31 15:23:00   \n",
       "19977            -2.0    1813.0        9.0        0.0 2014-01-31 18:13:00   \n",
       "\n",
       "                           dep  \n",
       "airline_id                      \n",
       "19805      2014-01-01 09:14:00  \n",
       "19805      2014-01-01 11:57:00  \n",
       "19805      2014-01-01 19:02:00  \n",
       "19805      2014-01-01 13:47:00  \n",
       "19805      2014-01-01 21:33:00  \n",
       "...                        ...  \n",
       "19977      2014-01-31 17:50:00  \n",
       "19977      2014-01-31 10:23:00  \n",
       "19977      2014-01-31 08:31:00  \n",
       "19977      2014-01-31 11:52:00  \n",
       "19977      2014-01-31 14:43:00  \n",
       "\n",
       "[7175 rows x 13 columns]"
      ]
     },
     "execution_count": 65,
     "metadata": {},
     "output_type": "execute_result"
    }
   ],
   "source": [
    "fdata.loc[mask]"
   ]
  },
  {
   "cell_type": "code",
   "execution_count": 66,
   "metadata": {},
   "outputs": [
    {
     "data": {
      "text/html": [
       "<div>\n",
       "<style scoped>\n",
       "    .dataframe tbody tr th:only-of-type {\n",
       "        vertical-align: middle;\n",
       "    }\n",
       "\n",
       "    .dataframe tbody tr th {\n",
       "        vertical-align: top;\n",
       "    }\n",
       "\n",
       "    .dataframe thead th {\n",
       "        text-align: right;\n",
       "    }\n",
       "</style>\n",
       "<table border=\"1\" class=\"dataframe\">\n",
       "  <thead>\n",
       "    <tr style=\"text-align: right;\">\n",
       "      <th></th>\n",
       "      <th>origin</th>\n",
       "      <th>dest</th>\n",
       "    </tr>\n",
       "    <tr>\n",
       "      <th>airline_id</th>\n",
       "      <th></th>\n",
       "      <th></th>\n",
       "    </tr>\n",
       "  </thead>\n",
       "  <tbody>\n",
       "    <tr>\n",
       "      <th>19805</th>\n",
       "      <td>JFK</td>\n",
       "      <td>LAX</td>\n",
       "    </tr>\n",
       "    <tr>\n",
       "      <th>19805</th>\n",
       "      <td>JFK</td>\n",
       "      <td>LAX</td>\n",
       "    </tr>\n",
       "    <tr>\n",
       "      <th>19805</th>\n",
       "      <td>JFK</td>\n",
       "      <td>LAX</td>\n",
       "    </tr>\n",
       "    <tr>\n",
       "      <th>19805</th>\n",
       "      <td>JFK</td>\n",
       "      <td>LAX</td>\n",
       "    </tr>\n",
       "    <tr>\n",
       "      <th>19805</th>\n",
       "      <td>JFK</td>\n",
       "      <td>LAX</td>\n",
       "    </tr>\n",
       "    <tr>\n",
       "      <th>...</th>\n",
       "      <td>...</td>\n",
       "      <td>...</td>\n",
       "    </tr>\n",
       "    <tr>\n",
       "      <th>19977</th>\n",
       "      <td>JFK</td>\n",
       "      <td>LAX</td>\n",
       "    </tr>\n",
       "    <tr>\n",
       "      <th>19977</th>\n",
       "      <td>JFK</td>\n",
       "      <td>SFO</td>\n",
       "    </tr>\n",
       "    <tr>\n",
       "      <th>19977</th>\n",
       "      <td>JFK</td>\n",
       "      <td>LAX</td>\n",
       "    </tr>\n",
       "    <tr>\n",
       "      <th>19977</th>\n",
       "      <td>JFK</td>\n",
       "      <td>SFO</td>\n",
       "    </tr>\n",
       "    <tr>\n",
       "      <th>19977</th>\n",
       "      <td>JFK</td>\n",
       "      <td>LAX</td>\n",
       "    </tr>\n",
       "  </tbody>\n",
       "</table>\n",
       "<p>7175 rows × 2 columns</p>\n",
       "</div>"
      ],
      "text/plain": [
       "           origin dest\n",
       "airline_id            \n",
       "19805         JFK  LAX\n",
       "19805         JFK  LAX\n",
       "19805         JFK  LAX\n",
       "19805         JFK  LAX\n",
       "19805         JFK  LAX\n",
       "...           ...  ...\n",
       "19977         JFK  LAX\n",
       "19977         JFK  SFO\n",
       "19977         JFK  LAX\n",
       "19977         JFK  SFO\n",
       "19977         JFK  LAX\n",
       "\n",
       "[7175 rows x 2 columns]"
      ]
     },
     "execution_count": 66,
     "metadata": {},
     "output_type": "execute_result"
    }
   ],
   "source": [
    "fdata.loc[mask,['origin','dest']]"
   ]
  },
  {
   "cell_type": "code",
   "execution_count": 67,
   "metadata": {},
   "outputs": [
    {
     "data": {
      "text/plain": [
       "2014-01-01 00:00:00     3\n",
       "2014-01-01 01:00:00     0\n",
       "2014-01-01 02:00:00     0\n",
       "2014-01-01 03:00:00     0\n",
       "2014-01-01 04:00:00     0\n",
       "                       ..\n",
       "2014-01-31 19:00:00    39\n",
       "2014-01-31 20:00:00    37\n",
       "2014-01-31 21:00:00     8\n",
       "2014-01-31 22:00:00     7\n",
       "2014-01-31 23:00:00     3\n",
       "Freq: H, Name: dep, Length: 744, dtype: int64"
      ]
     },
     "execution_count": 67,
     "metadata": {},
     "output_type": "execute_result"
    }
   ],
   "source": [
    "fdata['dep'].value_counts().resample('H').sum()"
   ]
  },
  {
   "cell_type": "code",
   "execution_count": 68,
   "metadata": {},
   "outputs": [
    {
     "data": {
      "text/plain": [
       "2014-01-01 00:00:00          NaN\n",
       "2014-01-01 01:00:00          NaN\n",
       "2014-01-01 02:00:00          NaN\n",
       "2014-01-01 03:00:00          NaN\n",
       "2014-01-01 04:00:00          NaN\n",
       "                         ...    \n",
       "2014-01-31 19:00:00    42.416667\n",
       "2014-01-31 20:00:00    40.833333\n",
       "2014-01-31 21:00:00    38.166667\n",
       "2014-01-31 22:00:00    35.500000\n",
       "2014-01-31 23:00:00    32.750000\n",
       "Freq: H, Name: dep, Length: 744, dtype: float64"
      ]
     },
     "execution_count": 68,
     "metadata": {},
     "output_type": "execute_result"
    }
   ],
   "source": [
    "fdata['dep'].value_counts().resample('H').sum().rolling(12).mean()"
   ]
  },
  {
   "cell_type": "code",
   "execution_count": 69,
   "metadata": {},
   "outputs": [
    {
     "data": {
      "text/plain": [
       "<AxesSubplot:title={'center':'Number of Flights from NY Every 12 H'}>"
      ]
     },
     "execution_count": 69,
     "metadata": {},
     "output_type": "execute_result"
    },
    {
     "data": {
      "image/png": "[encoded data removed]",
      "text/plain": [
       "<Figure size 864x432 with 1 Axes>"
      ]
     },
     "metadata": {
      "needs_background": "light"
     },
     "output_type": "display_data"
    }
   ],
   "source": [
    "fdata['dep'].value_counts().resample('H').sum().rolling(12).mean().plot(figsize=(12, 6),\n",
    "          title=\"Number of Flights from NY Every 12 H\")"
   ]
  },
  {
   "cell_type": "code",
   "execution_count": null,
   "metadata": {},
   "outputs": [],
   "source": []
  }
 ],
 "metadata": {
  "kernelspec": {
   "display_name": "Python 3",
   "language": "python",
   "name": "python3"
  },
  "language_info": {
   "codemirror_mode": {
    "name": "ipython",
    "version": 3
   },
   "file_extension": ".py",
   "mimetype": "text/x-python",
   "name": "python",
   "nbconvert_exporter": "python",
   "pygments_lexer": "ipython3",
   "version": "3.7.6"
  }
 },
 "nbformat": 4,
 "nbformat_minor": 4
}
