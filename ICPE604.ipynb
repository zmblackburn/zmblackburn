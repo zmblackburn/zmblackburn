{
 "cells": [
  {
   "cell_type": "code",
   "execution_count": 5,
   "metadata": {},
   "outputs": [],
   "source": [
    "from matplotlib import pyplot as plt\n",
    "from IPython.core.display import display\n",
    "from gurobipy import Model, GRB, quicksum\n",
    "from pandas import DataFrame\n",
    "from numpy import linspace"
   ]
  },
  {
   "cell_type": "code",
   "execution_count": 6,
   "metadata": {},
   "outputs": [],
   "source": [
    "Pa = [\"NG Boiler\",\"NG CHP\", \"B Boiler\", \"B CHP\", \"Solar PV\", \"Wind Turbine\"] #Process A\n",
    "Pb = [\"CAR, RwHR, RwoHR, FL, LED, Ba, Bb, Ha, Hb\"] #Process B\n",
    "E = [\"Natural Gas\", \"Biomass\",] #Primary Energy Sources\n",
    "D = [\"Space Heating, Ventilation, Refigeration, Lighting, Bakery\"] #Demands"
   ]
  },
  {
   "cell_type": "code",
   "execution_count": 7,
   "metadata": {},
   "outputs": [],
   "source": [
    "ppa = DataFrame({\"NG Boiler\": [0, 0.9, 100, 10**6, 7000, 200, 10], \n",
    "                 \"NG CHP\": [0.35, 0.55, 800, 10**6, 7000, 500, 15], \n",
    "                 \"B Boiler\": [0, 0.85, 100,10**6, 7000, 250, 15], \n",
    "                 \"B CHP\": [0.33, 0.5, 1000, 10**6, 7000, 2000, 30], \n",
    "                 \"Solar PV\": [0, 0, 10, 20, 800, 2000, 500], \n",
    "                 \"Wind Turbine\": [0, 0, 10, 30, 1750, 2000, 1200]}, \n",
    "                index=[\"Ne\", \"Nh\", \"CapL\", \"CapU\", \"T\", \"Inv\", \"OM\"]).transpose()\n",
    "\n",
    "get_ne = lambda j: ppa[\"Ne\"][j]\n",
    "get_Nh = lambda j: ppa[\"Nh\"][j]\n",
    "get_CapL = lambda j: ppa[\"CapL\"][j]\n",
    "get_CapU = lambda j: ppa[\"CapU\"][j]\n",
    "get_T = lambda j: ppa[\"T\"][j]\n",
    "get_Inv = lambda j: ppa[\"Inv\"][j]\n",
    "get_OM = lambda j: ppa [\"OM\"][j]"
   ]
  },
  {
   "cell_type": "code",
   "execution_count": 8,
   "metadata": {},
   "outputs": [],
   "source": [
    "ppb = DataFrame({\"CAR\": [6, 50, 3], \n",
    "                 \"RwHR\": [3, 100, 5],\n",
    "                 \"RwHR\": [2, 100, 5],\n",
    "                 \"RwoHR\": [3, 70, 4], \n",
    "                 \"FL\": [0.2, 5, 0.5], \n",
    "                 \"LED\": [0.8, 10, 1], \n",
    "                 \"Ba\": [0.7, 30, 3], \n",
    "                \"Bb\": [0.75, 40, 4],\n",
    "                \"Ha\": [0.85, 30, 3],\n",
    "                \"Hb\": [0.9, 40, 4]},\n",
    "                index=[\"Efficiency\", \"Inv\", \"OM\"]).transpose()\n",
    "\n",
    "get_efficiency = lambda j: ppb[\"Efficiency\"][j]\n",
    "get_inv = lambda j: ppb[\"Inv\"][j]\n",
    "get_om = lambda j: ppb[\"OM\"][j]"
   ]
  },
  {
   "cell_type": "code",
   "execution_count": 9,
   "metadata": {},
   "outputs": [],
   "source": [
    "mp = DataFrame({\"Natural Gas\": [8.89, 56342], \"Biomass\": [9.72, 100970]}, \n",
    "               index=[\"Price\", \"Co2\"]).transpose()\n",
    "\n",
    "get_price = lambda i: mp[\"Price\"][i]\n",
    "get_co2 = lambda i: mp[\"Co2\"][i]\n"
   ]
  },
  {
   "cell_type": "code",
   "execution_count": 10,
   "metadata": {},
   "outputs": [
    {
     "name": "stdout",
     "output_type": "stream",
     "text": [
      "Using license file /Users/zacblackburn/gurobi.lic\n"
     ]
    },
    {
     "ename": "GurobiError",
     "evalue": "License expired 2020-11-30",
     "output_type": "error",
     "traceback": [
      "\u001b[0;31m---------------------------------------------------------------------------\u001b[0m",
      "\u001b[0;31mGurobiError\u001b[0m                               Traceback (most recent call last)",
      "\u001b[0;32m<ipython-input-10-09b4e6a8a101>\u001b[0m in \u001b[0;36m<module>\u001b[0;34m\u001b[0m\n\u001b[0;32m----> 1\u001b[0;31m \u001b[0mm\u001b[0m \u001b[0;34m=\u001b[0m \u001b[0mModel\u001b[0m\u001b[0;34m(\u001b[0m\u001b[0;34m)\u001b[0m\u001b[0;34m\u001b[0m\u001b[0;34m\u001b[0m\u001b[0m\n\u001b[0m",
      "\u001b[0;32menv.pxi\u001b[0m in \u001b[0;36mgurobipy.Env.__init__\u001b[0;34m()\u001b[0m\n",
      "\u001b[0;32mgurobi.pxi\u001b[0m in \u001b[0;36mgurobipy.gurobi._getdefaultenv\u001b[0;34m()\u001b[0m\n",
      "\u001b[0;32menv.pxi\u001b[0m in \u001b[0;36mgurobipy.Env.__init__\u001b[0;34m()\u001b[0m\n",
      "\u001b[0;31mGurobiError\u001b[0m: License expired 2020-11-30"
     ]
    }
   ],
   "source": [
    "m = Model()"
   ]
  },
  {
   "cell_type": "code",
   "execution_count": null,
   "metadata": {},
   "outputs": [],
   "source": [
    "#variables\n",
    "NG=m.addVar(vtype=GRB.CONTINUOUS)\n",
    "NG_1=m.addVar(vtype=GRB.CONTINUOUS)\n",
    "NG_2=m.addVar(vtype=GRB.CONTINUOUS)\n",
    "B=m.addVar(vtype=GRB.CONTINUOUS)\n",
    "B_1=m.addVar(vtype=GRB.CONTINUOUS)\n",
    "B_2=m.addVar(vtype=GRB.CONTINUOUS)\n",
    "\n",
    "CNGB=m.addVar(vtype=GRB.CONTINUOUS)\n",
    "CBB=m.addVar(vtype=GRB.CONTINUOUS)\n",
    "\n",
    "CNGCHPH=m.addVar(vtype=GRB.CONTINUOUS)\n",
    "CBCHPH=m.addVar(vtype=GRB.CONTINUOUS)\n",
    "\n",
    "CNGCHPE=m.addVar(vtype=GRB.CONTINUOUS)\n",
    "CBCHPE=m.addVar(vtype=GRB.CONTINUOUS)\n",
    "\n",
    "W=m.addVar(vtype=GRB.CONTINUOUS)\n",
    "S=m.addVar(vtype=GRB.CONTINUOUS)\n",
    "CW=m.addVar(vtype=GRB.CONTINUOUS)\n",
    "CS=m.addVar(vtype=GRB.CONTINUOUS)\n",
    "\n",
    "GRID=m.addVar(vtype=GRB.CONTINUOUS)\n",
    "CGRID=m.addVar(vtype=GRB.CONTINUOUS)\n",
    "\n",
    "\n",
    "\n",
    "Ha=m.addVar(vtype=GRB.CONTINUOUS)\n",
    "Hb=m.addVar(vtype=GRB.CONTINUOUS)\n",
    "CAR=m.addVar(vtype=GRB.CONTINUOUS)\n",
    "RwHR=m.addVar(vtype=GRB.CONTINUOUS)\n",
    "RwoHR=m.addVar(vtype=GRB.CONTINUOUS)\n",
    "FL=m.addVar(vtype=GRB.CONTINUOUS)\n",
    "LED=m.addVar(vtype=GRB.CONTINUOUS)\n",
    "Ba=m.addVar(vtype=GRB.CONTINUOUS)\n",
    "Bb=m.addVar(vtype=GRB.CONTINUOUS)\n",
    "RwHRsh=m.addVar(vtype=GRB.CONTINUOUS)\n",
    "RwHRr=m.addVar(vtype=GRB.CONTINUOUS)\n",
    "\n",
    "SHT=m.addVar(vtype=GRB.CONTINUOUS)\n",
    "VT=m.addVar(vtype=GRB.CONTINUOUS)\n",
    "RT=m.addVar(vtype=GRB.CONTINUOUS)\n",
    "LT=m.addVar(vtype=GRB.CONTINUOUS)\n",
    "BT=m.addVar(vtype=GRB.CONTINUOUS)\n",
    "\n",
    "HT=m.addVar(vtype=GRB.CONTINUOUS)\n",
    "ET=m.addVar(vtype=GRB.CONTINUOUS)\n",
    "\n",
    "NGT=m.addVar(vtype=GRB.CONTINUOUS)\n",
    "BMT=m.addVar(vtype=GRB.CONTINUOUS)\n",
    "CNGCHP=m.addVar(vtype=GRB.CONTINUOUS)\n",
    "CBCHP=m.addVar(vtype=GRB.CONTINUOUS)"
   ]
  },
  {
   "cell_type": "code",
   "execution_count": null,
   "metadata": {},
   "outputs": [],
   "source": [
    "#Binary Var\n",
    "Y1=m.addVar(vtype=GRB.BINARY)\n",
    "Y2=m.addVar(vtype=GRB.BINARY)\n",
    "Y3=m.addVar(vtype=GRB.BINARY)\n",
    "Y4=m.addVar(vtype=GRB.BINARY)\n",
    "Y5=m.addVar(vtype=GRB.BINARY)\n",
    "Y6=m.addVar(vtype=GRB.BINARY)\n",
    "Y7=m.addVar(vtype=GRB.BINARY)\n",
    "Y8=m.addVar(vtype=GRB.BINARY)\n",
    "Y9=m.addVar(vtype=GRB.BINARY)\n",
    "Y10=m.addVar(vtype=GRB.BINARY)\n",
    "Y11=m.addVar(vtype=GRB.BINARY)\n",
    "Y12=m.addVar(vtype=GRB.BINARY)\n",
    "Y13=m.addVar(vtype=GRB.BINARY)\n",
    "Y14=m.addVar(vtype=GRB.BINARY)\n",
    "Y15=m.addVar(vtype=GRB.BINARY)"
   ]
  },
  {
   "cell_type": "code",
   "execution_count": null,
   "metadata": {},
   "outputs": [],
   "source": [
    "#CONSTRAINTS \n",
    "\n",
    "m.addConstr(SHT >= 100),\n",
    "m.addConstr(VT >= 100),\n",
    "m.addConstr(RT >=200),\n",
    "m.addConstr(LT >= 100),\n",
    "m.addConstr(BT >= 100),\n",
    "\n",
    "\n",
    "m.addConstr(HT == 0.9*NG_1 + 0.85*B_1 + 0.55*NG_2 + 0.5*B_2),\n",
    "m.addConstr(HT == Ha + Hb),\n",
    "m.addConstr(0 <= 0.9*NG_1 + 0.85*B_1 + 0.55*NG_2 + 0.5*B_2 - Ha - Hb),\n",
    "m.addConstr(ET == GRID + S + 0.35*NG_2 + 0.33*B_2),\n",
    "m.addConstr(ET == CAR + RT + LT + BT),\n",
    "m.addConstr(0 <= GRID + S + 0.35*NG_2 + 0.33*B_2 - CAR + RT + LT + BT),\n",
    "m.addConstr(NGT == NG_1 + NG_2),\n",
    "m.addConstr(BMT == B_1 + B_2),\n",
    "m.addConstr(CNGCHP == CNGCHPE + CNGCHPH),\n",
    "m.addConstr(CBCHP == CBCHPH + CBCHPE),\n",
    "\n",
    "m.addConstr(0.9*NG_1 == CNGB * 7000 * (1/8760))\n",
    "m.addConstr(0.85*B_1 == CBB * 7000 * (1/8760))\n",
    "m.addConstr(0.55*NG_2 == CNGCHPH * 7000 * (1/8760))\n",
    "m.addConstr(0.5*B_2 == CBCHPH * 7000 * (1/8760))\n",
    "m.addConstr(0.35*NG_2 == CNGCHPE * 7000 * (1/8760))\n",
    "m.addConstr(0.33*B_2 == CBCHPE * 7000 * (1/8760))\n",
    "\n",
    "\n",
    "m.addConstr(3*RwHRr + 3*RwoHR >= 200)\n",
    "m.addConstr(6*CAR >= 100)\n",
    "m.addConstr(0.2*FL + 0.8*LED >= 100)\n",
    "m.addConstr(2*RwHRsh + 0.85*Ha + 0.9*Hb >= 100)\n",
    "m.addConstr(0.7*Ba + 0.75*Bb >= 100)\n"
   ]
  },
  {
   "cell_type": "code",
   "execution_count": null,
   "metadata": {},
   "outputs": [],
   "source": [
    "m.addConstr(GRID <= 10**9*Y1)\n",
    "\n",
    "m.addConstr(Y2 * 10 <= W)\n",
    "m.addConstr(W <= 30 * Y2)\n",
    "\n",
    "m.addConstr(Y3 * 10 <= S)\n",
    "m.addConstr(S <= 20 * Y3)\n",
    "\n",
    "m.addConstr(Y4 * 100 <= CNGB)\n",
    "m.addConstr(CNGB <= 10**6 * Y4)\n",
    "\n",
    "m.addConstr(Y5 * 100 <= CBB)\n",
    "m.addConstr(CBB <= 10**6 * Y5)\n",
    "\n",
    "m.addConstr(Y6 * 800 <= CNGCHP)\n",
    "m.addConstr(CNGCHP <= 10**6 * Y6)\n",
    "\n",
    "m.addConstr(Y7 * 1000 <= CBCHP)\n",
    "m.addConstr(CBCHP <= 10**6 *Y7)\n",
    "\n",
    "m.addConstr(Y1 + Y2 + Y3 + Y4 + Y5 + Y6 + Y7 <= 7)\n",
    "\n",
    "m.addConstr(RwHR <= 10**9 * Y8)\n",
    "m.addConstr(RwoHR <= 10**9 * Y9)\n",
    "m.addConstr(FL <= 10**9 * Y10)\n",
    "m.addConstr(LED <= 10**9 * Y11)\n",
    "m.addConstr(Ha <= 10**9 * Y12)\n",
    "m.addConstr(Hb <= 10**9 * Y13)\n",
    "m.addConstr(Ba <= 10**9 * Y14) \n",
    "m.addConstr(Bb <= 10**9 * Y15)"
   ]
  },
  {
   "cell_type": "code",
   "execution_count": null,
   "metadata": {},
   "outputs": [],
   "source": [
    "m.setObjective((0.203*8760*20*NGT+0.363*8760*20*BMT+0.322*8760*20*GRID),GRB.MINIMIZE)"
   ]
  },
  {
   "cell_type": "code",
   "execution_count": null,
   "metadata": {},
   "outputs": [],
   "source": [
    "m.optimize()"
   ]
  },
  {
   "cell_type": "code",
   "execution_count": null,
   "metadata": {},
   "outputs": [],
   "source": [
    "Y1, Y2, Y3, Y4, Y5, Y6, Y7, Y8, Y9, Y10, Y11, Y12, Y13, Y14, Y15"
   ]
  },
  {
   "cell_type": "code",
   "execution_count": null,
   "metadata": {},
   "outputs": [],
   "source": []
  },
  {
   "cell_type": "code",
   "execution_count": null,
   "metadata": {},
   "outputs": [],
   "source": [
    "GRID, CAR, Hb, Ha, Bb, Ba, LED, FL, RwoHR, CBCHP, CNGCHP, CBB, CNGB, RwHRsh, RwHRr"
   ]
  },
  {
   "cell_type": "code",
   "execution_count": null,
   "metadata": {},
   "outputs": [],
   "source": []
  },
  {
   "cell_type": "code",
   "execution_count": null,
   "metadata": {},
   "outputs": [],
   "source": []
  },
  {
   "cell_type": "code",
   "execution_count": null,
   "metadata": {},
   "outputs": [],
   "source": []
  }
 ],
 "metadata": {
  "kernelspec": {
   "display_name": "Python 3",
   "language": "python",
   "name": "python3"
  },
  "language_info": {
   "codemirror_mode": {
    "name": "ipython",
    "version": 3
   },
   "file_extension": ".py",
   "mimetype": "text/x-python",
   "name": "python",
   "nbconvert_exporter": "python",
   "pygments_lexer": "ipython3",
   "version": "3.7.6"
  }
 },
 "nbformat": 4,
 "nbformat_minor": 4
}
