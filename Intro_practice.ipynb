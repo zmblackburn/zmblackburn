{
 "cells": [
  {
   "cell_type": "markdown",
   "metadata": {
    "colab_type": "text",
    "id": "wn86rNTpUj7R"
   },
   "source": [
    "<center><h1>First steps in Python 3</h1><center>\n",
    "\n",
    "<center>\n",
    "<h2>ICPE 689– Data Science for Intelligent Oil Filed Operations – Spring 2021</h2>    \n",
    "<h3>Texas A&amp;M University<br>\n",
    "Harold Vance Department of Petroleum Engineering<br><br>\n",
    "Dr. Eduardo Gildin<br>\n",
    "Emilio Coutinho<br>\n",
    "Marcelo Dall'Aqua<br><br>\n",
    "Spring 2021<br>    \n",
    "</h3>\n",
    "</center>"
   ]
  },
  {
   "cell_type": "markdown",
   "metadata": {
    "colab_type": "text",
    "id": "uLuvbQVpUj7T"
   },
   "source": [
    "# Introduction\n",
    "\n",
    "The goal of this notebook is to provide a quick introduction to Python 3 with a look in solving engineering problems related to Petroleum. Here we will present the data types most used in Python, the control statement syntax, how to define functions, how to read and write ascii files and how to generate plots. We also will introduce the use of NumPy, the numerical library where we will find some useful functions already implemented.  \n",
    "\n",
    "After some practice in Python, you will find out that usually there are several ways to code your solution and get the same result. What we are presenting here can be considered the simplest and didactic way to implement the code, in the authors point of view and experience. The intent here is not to provide the most efficient and fastest way to implement a solution, we are looking for here to present the simplest and readable way to do it.\n",
    "\n",
    "We hope that after some practice in Python, you will be able to look for more advanced and efficient ways of implementation. You will find lots of options after a search in websites like StackOverFlow (https://stackoverflow.com/).\n",
    "\n",
    "We are using here Python 3."
   ]
  },
  {
   "cell_type": "markdown",
   "metadata": {
    "colab_type": "text",
    "id": "C24KWrIuUj7U"
   },
   "source": [
    "# Data types and variable\n",
    "\n",
    "In order to define a numerical variable you should just set the numerical value to the variable name:"
   ]
  },
  {
   "cell_type": "code",
   "execution_count": 2,
   "metadata": {
    "colab": {},
    "colab_type": "code",
    "id": "l-EfxxzmUj7V",
    "pycharm": {
     "is_executing": false
    }
   },
   "outputs": [],
   "source": [
    "# Defining an integer variable a\n",
    "a = 23\n",
    "\n",
    "# Defining a float variable b\n",
    "b = 9.513\n",
    "\n",
    "# Defining a string variable aux\n",
    "aux = 'my first string variable'\n",
    "aux2 = \"string with ' in the middle\""
   ]
  },
  {
   "cell_type": "markdown",
   "metadata": {
    "colab_type": "text",
    "id": "6VxRb3HoUj7Z"
   },
   "source": [
    "Now we can define other types of structures, like lists. We can use List to store any type of data. Here we will define our first list with the odd numbers:"
   ]
  },
  {
   "cell_type": "code",
   "execution_count": 3,
   "metadata": {
    "colab": {},
    "colab_type": "code",
    "id": "12gcXAXrUj7a",
    "pycharm": {
     "is_executing": false
    }
   },
   "outputs": [],
   "source": [
    "# Defining a list with the odd numbers between 1 and 9 \n",
    "odd_numbers = [2, 4, 6, 8]"
   ]
  },
  {
   "cell_type": "markdown",
   "metadata": {
    "colab_type": "text",
    "id": "G_ia8bXhUj7c"
   },
   "source": [
    "Lists are very flexible. You can have a list with different types of items:"
   ]
  },
  {
   "cell_type": "code",
   "execution_count": 4,
   "metadata": {
    "colab": {},
    "colab_type": "code",
    "id": "Wmeb02DFUj7d",
    "pycharm": {
     "is_executing": false
    }
   },
   "outputs": [],
   "source": [
    "# Defining a list with integers, floats and strings\n",
    "my_list = [2, 3.245,'here', 342]"
   ]
  },
  {
   "cell_type": "markdown",
   "metadata": {
    "colab_type": "text",
    "id": "Tl_JTfJzUj7g"
   },
   "source": [
    "We are defining all these variables but we did not use them yet. Let's try to print the content of this variable."
   ]
  },
  {
   "cell_type": "code",
   "execution_count": 5,
   "metadata": {
    "colab": {
     "base_uri": "https://localhost:8080/",
     "height": 34
    },
    "colab_type": "code",
    "id": "q0gWwSOuUj7h",
    "outputId": "7fe09d41-2fc0-4e30-996b-a86bec45e10c",
    "pycharm": {
     "is_executing": false
    }
   },
   "outputs": [
    {
     "name": "stdout",
     "output_type": "stream",
     "text": [
      "9.513\n"
     ]
    }
   ],
   "source": [
    "# Printing variable b\n",
    "print(b)"
   ]
  },
  {
   "cell_type": "markdown",
   "metadata": {
    "colab_type": "text",
    "id": "nZkxsuinUj7k"
   },
   "source": [
    "You can print a full list, or you can choose some items of the list to print."
   ]
  },
  {
   "cell_type": "code",
   "execution_count": 6,
   "metadata": {
    "colab": {
     "base_uri": "https://localhost:8080/",
     "height": 51
    },
    "colab_type": "code",
    "id": "ub_8HMghUj7l",
    "outputId": "542ec00d-e9dc-4038-ee75-2ac2fa7281b3",
    "pycharm": {
     "is_executing": false
    }
   },
   "outputs": [
    {
     "name": "stdout",
     "output_type": "stream",
     "text": [
      "[2, 3.245, 'here', 342]\n"
     ]
    }
   ],
   "source": [
    "# Printing list my_list\n",
    "print(my_list)"
   ]
  },
  {
   "cell_type": "code",
   "execution_count": 7,
   "metadata": {},
   "outputs": [
    {
     "name": "stdout",
     "output_type": "stream",
     "text": [
      "2\n"
     ]
    }
   ],
   "source": [
    "# Printing second element of list odd_number\n",
    "print(my_list[0])"
   ]
  },
  {
   "cell_type": "markdown",
   "metadata": {
    "colab_type": "text",
    "id": "RHEVbp7YUj7o"
   },
   "source": [
    "Here is important to note that when we tried to get the second element of a list, we choose the element with index 1. In Python the index starts with zero. So, if we would like to get the first element of a list we should use my_list[0].\n",
    "\n",
    "In order to create more complex output we should be a little deeper on formating string procedures. If I would like to compose a string with several variable to output, it is necessary to use a syntax like this:"
   ]
  },
  {
   "cell_type": "code",
   "execution_count": 8,
   "metadata": {
    "colab": {
     "base_uri": "https://localhost:8080/",
     "height": 51
    },
    "colab_type": "code",
    "id": "pKblMuU3Uj7o",
    "outputId": "75673d85-3b3b-4442-f885-5b6b24136048",
    "pycharm": {
     "is_executing": false
    }
   },
   "outputs": [
    {
     "name": "stdout",
     "output_type": "stream",
     "text": [
      "The value of variable b is 9.51.\n",
      "The values of variable a and the second item of my_list are 23 and 3.245e+00, respectively.\n"
     ]
    }
   ],
   "source": [
    "# Building a little more complicated string to print\n",
    "print('The value of variable b is {:.2f}.'.format(b))\n",
    "print('The values of variable a and the second item of my_list are {:d} and {:.3e}, respectively.'.format(a, my_list[1]))"
   ]
  },
  {
   "cell_type": "markdown",
   "metadata": {
    "colab_type": "text",
    "id": "pYED8KsWUj7r"
   },
   "source": [
    "The codes {:.2f}, {:d} and {:.3e} are used in the above code representing a way to format a variable to print. {:.2f} is a float with 2 decimal digits, {:d} is a integer and {:.3e} is a scientific notation with 3 decimal digits. You can found more options for this formating in searching on the web. Here is a web site that seems interesting: https://mkaz.blog/code/python-string-format-cookbook/"
   ]
  },
  {
   "cell_type": "markdown",
   "metadata": {},
   "source": [
    "When working with strings, two useful functions are strip() and split(). strip() returns a copy of the string with both leading and trailing characters removed. By default, white spaces will be removed. The function split() will split the string using as default separator any space, tab or newline and will return a list of strings. These two functions can be very useful while reading text files."
   ]
  },
  {
   "cell_type": "code",
   "execution_count": 9,
   "metadata": {},
   "outputs": [
    {
     "name": "stdout",
     "output_type": "stream",
     "text": [
      "['PERMI', '0.0', '250.0', '150.0', 'END']\n",
      "This line has some white spaces to be removed!\n"
     ]
    }
   ],
   "source": [
    "file_line = 'PERMI   0.0   250.0   150.0  \\t END'\n",
    "print(file_line.split())\n",
    "\n",
    "file_line2 = '   This line has some white spaces to be removed!      '\n",
    "print(file_line2.strip())"
   ]
  },
  {
   "cell_type": "markdown",
   "metadata": {
    "colab_type": "text",
    "id": "PtkOysqdUj7s"
   },
   "source": [
    "# Flow Control\n",
    "\n",
    "Now, let's see how can we use if, for and while statements in Python. But first we should know how to make comparisons. "
   ]
  },
  {
   "cell_type": "code",
   "execution_count": 10,
   "metadata": {
    "colab": {
     "base_uri": "https://localhost:8080/"
    },
    "colab_type": "code",
    "id": "fXEKSBOqUj7t",
    "outputId": "f91ad4f8-73fd-435f-ae44-c42524901455",
    "pycharm": {
     "is_executing": false
    }
   },
   "outputs": [
    {
     "name": "stdout",
     "output_type": "stream",
     "text": [
      "False\n",
      "True\n",
      "True\n"
     ]
    }
   ],
   "source": [
    "print(a==b) # checking if a is equal to b\n",
    "print(a!=b) # checking if a is not equal to b (<> can also be used)\n",
    "print(a>=b) # checking if a is greater than or equal to b "
   ]
  },
  {
   "cell_type": "markdown",
   "metadata": {
    "colab_type": "text",
    "id": "q25gm-lyUj7v"
   },
   "source": [
    "You can find more information about this in https://www.tutorialspoint.com/python/python_basic_operators.htm. Now, about arithmetic operations, we show here some of the basic concepts."
   ]
  },
  {
   "cell_type": "code",
   "execution_count": 11,
   "metadata": {
    "colab": {
     "base_uri": "https://localhost:8080/"
    },
    "colab_type": "code",
    "id": "ghNNbZG-Uj7w",
    "outputId": "9a6f0ad6-7f23-4829-dc9f-8f43ce7127f8",
    "pycharm": {
     "is_executing": false
    }
   },
   "outputs": [
    {
     "name": "stdout",
     "output_type": "stream",
     "text": [
      "32.513\n",
      "529\n",
      "1\n",
      "10\n",
      "10.5\n"
     ]
    }
   ],
   "source": [
    "print(a+b)   # Addition\n",
    "print(a**2)  # Power\n",
    "print(21%2)  # Modulus\n",
    "print(21//2) # Floor Division\n",
    "print(21/2)  # Modulus"
   ]
  },
  {
   "cell_type": "markdown",
   "metadata": {
    "colab_type": "text",
    "id": "K_5G2f16Uj7z"
   },
   "source": [
    "Now, let's take a look how can we define a for loop:"
   ]
  },
  {
   "cell_type": "code",
   "execution_count": 12,
   "metadata": {
    "colab": {
     "base_uri": "https://localhost:8080/"
    },
    "colab_type": "code",
    "id": "Bq5rLw-LUj70",
    "outputId": "df5d163b-5d5e-474c-da54-e27a6f95f519",
    "pycharm": {
     "is_executing": false
    }
   },
   "outputs": [
    {
     "name": "stdout",
     "output_type": "stream",
     "text": [
      "2\n",
      "3.245\n",
      "here\n",
      "342\n"
     ]
    }
   ],
   "source": [
    "for i in my_list:   # run this loop for each element of my_list    \n",
    "    print(i)        # print each element of my_list\n"
   ]
  },
  {
   "cell_type": "markdown",
   "metadata": {
    "colab_type": "text",
    "id": "0WJ9Sq_zUj72"
   },
   "source": [
    "It is important to note that we do not have any element defining the beginning or end of the code inside the for loop. In Python, this is defined by the indentation. Now, let's have another example that can clarify the use of indentation to define the scope of the flow control elements. Here we will use the command while."
   ]
  },
  {
   "cell_type": "code",
   "execution_count": 13,
   "metadata": {
    "colab": {
     "base_uri": "https://localhost:8080/"
    },
    "colab_type": "code",
    "id": "7eITFPL0Uj73",
    "outputId": "25c531e8-749e-4106-ded9-eeab7be22d8f",
    "pycharm": {
     "is_executing": false
    }
   },
   "outputs": [
    {
     "name": "stdout",
     "output_type": "stream",
     "text": [
      "2\n",
      "3.245\n",
      "here\n",
      "342\n",
      "\n",
      "0\n",
      "1\n",
      "2\n",
      "3\n",
      "4\n"
     ]
    }
   ],
   "source": [
    "for i in my_list:   # run this loop for each element of my_list\n",
    "    print(i)        # print each element of my_list\n",
    "\n",
    "print()             # print an empty line\n",
    "\n",
    "j = 0               # defining j\n",
    "while j < 5:        # run this loop while j < 5\n",
    "    print(j)        # print the current value of j    \n",
    "    j = j + 1       # increment j value by 1"
   ]
  },
  {
   "cell_type": "markdown",
   "metadata": {
    "colab_type": "text",
    "id": "hjCSOQz3Uj76"
   },
   "source": [
    "The if statement is used like:"
   ]
  },
  {
   "cell_type": "code",
   "execution_count": 14,
   "metadata": {
    "colab": {
     "base_uri": "https://localhost:8080/"
    },
    "colab_type": "code",
    "id": "CMdZJfdLUj76",
    "outputId": "995169d4-d329-488c-d2ff-3d36f1443daa",
    "pycharm": {
     "is_executing": false
    }
   },
   "outputs": [
    {
     "name": "stdout",
     "output_type": "stream",
     "text": [
      "a is not equal to 2\n"
     ]
    }
   ],
   "source": [
    "if (a==2):\n",
    "    print('a is equal to 2')\n",
    "else:\n",
    "    print('a is not equal to 2')"
   ]
  },
  {
   "cell_type": "markdown",
   "metadata": {
    "colab_type": "text",
    "id": "FeP4awUJUj79"
   },
   "source": [
    "It is possible to use break and continue to control the loops if needed. Here we introduce a very useful function, range."
   ]
  },
  {
   "cell_type": "code",
   "execution_count": 15,
   "metadata": {
    "colab": {
     "base_uri": "https://localhost:8080/"
    },
    "colab_type": "code",
    "id": "h6m4Yaq-Uj7-",
    "outputId": "4f47f5bb-9511-4b92-9ed9-6077ebe7333a",
    "pycharm": {
     "is_executing": false
    }
   },
   "outputs": [
    {
     "name": "stdout",
     "output_type": "stream",
     "text": [
      "The value of j is 0\n",
      "The value of j is 1\n",
      "The value of j is 2\n",
      "The value of j is 3\n",
      "The value of j is 4\n",
      "The value of j is 5\n",
      "The value of j is 6\n",
      "The value of j is 8\n",
      "The value of j is 9\n",
      "The value of j is 10\n",
      "The value of j is 11\n",
      "The value of j is 12\n"
     ]
    }
   ],
   "source": [
    "for j in range(13):   # Run this loop setting j from 0 to 12.\n",
    "    if (j == 7):      # If j is equal to 7 the command 'continue' is executed and the code... \n",
    "        continue      # below 'continue' will not be executed in this loop iteration\n",
    "    \n",
    "    print('The value of j is {:d}'.format(j))    "
   ]
  },
  {
   "cell_type": "code",
   "execution_count": 16,
   "metadata": {},
   "outputs": [
    {
     "name": "stdout",
     "output_type": "stream",
     "text": [
      "y = 24\n",
      "y = 23\n",
      "y = 22\n"
     ]
    }
   ],
   "source": [
    "y = 25\n",
    "while y > 10:    \n",
    "    y = y - 1\n",
    "    if (y == 21):\n",
    "        break\n",
    "    print('y = {:d}'.format(y))"
   ]
  },
  {
   "cell_type": "markdown",
   "metadata": {
    "colab_type": "text",
    "id": "pRad9V_2Uj8A"
   },
   "source": [
    "A good documentation about these flow controls can be found in https://docs.python.org/3/tutorial/controlflow.html. Another interesting source for all this basic python syntax presented until this point can be found in https://dev.to/macmacky/reviewing-python-fundamentals-29ge."
   ]
  },
  {
   "cell_type": "markdown",
   "metadata": {
    "colab_type": "text",
    "id": "cQ_atV6BUj8B"
   },
   "source": [
    "# Defining Functions\n",
    "\n",
    "In order to define a function we should use the keyword def followed by the function name and in brackets, the arguments of this function. Here we have an example of a function named add_two. This function receives one argument (first_arg) and return the argument plus 2. In the same code, we use this function to add 2 to 4.5 and then, we print the results."
   ]
  },
  {
   "cell_type": "code",
   "execution_count": 17,
   "metadata": {
    "colab": {
     "base_uri": "https://localhost:8080/"
    },
    "colab_type": "code",
    "id": "OT_3CQFRUj8C",
    "outputId": "a74b8b85-4a71-4a38-8646-e3bf53781b77",
    "pycharm": {
     "is_executing": false
    }
   },
   "outputs": [
    {
     "name": "stdout",
     "output_type": "stream",
     "text": [
      "Adding 2 to 4.500000 gives 6.500000\n"
     ]
    }
   ],
   "source": [
    "def add_two(first_arg):\n",
    "    a = first_arg + 2\n",
    "    return a\n",
    "\n",
    "# Using my function\n",
    "a = 4.5\n",
    "b = add_two(a)\n",
    "print('Adding 2 to {:f} gives {:f}'.format(a,b)) "
   ]
  },
  {
   "cell_type": "markdown",
   "metadata": {
    "colab_type": "text",
    "id": "WJuN7RAjUj8F"
   },
   "source": [
    "# Plotting\n",
    "\n",
    "In order to plot our data, we are going to use the library MatPlotLib, which is the most popular library for plotting in Python. For those who are familiar with MatLab, MatPlotLib has an interface called pyplot that use commands similar to MatLab to build simple plots. If you need to build personalized plot, you will need to go beyond pyplot and dig in the MatPlotLib it self.\n",
    "\n",
    "Here we will start with PyPlot and after that we will try to build not so simple plots. Lets start importing the matplotlib library and build a simple line cartesian plot. "
   ]
  },
  {
   "cell_type": "code",
   "execution_count": 18,
   "metadata": {
    "colab": {
     "base_uri": "https://localhost:8080/"
    },
    "colab_type": "code",
    "id": "X-xViTMvUj8F",
    "outputId": "0f8ec440-f942-4b40-bbc3-8aa20abdc142",
    "pycharm": {
     "is_executing": false
    }
   },
   "outputs": [
    {
     "data": {
      "image/png": "[encoded data removed]",
      "text/plain": [
       "<Figure size 432x288 with 1 Axes>"
      ]
     },
     "metadata": {
      "needs_background": "light"
     },
     "output_type": "display_data"
    }
   ],
   "source": [
    "import matplotlib.pyplot as plt        # Import MatPlotLib\n",
    "import numpy as np                     # Import NumPy\n",
    "\n",
    "x = np.linspace(0.1, 10.0, 20)         # Create a list with 20 equally spaced values, between 0.1 and 10.0\n",
    "y = np.log(x)                          # Create a list with the natural log of the values of list x\n",
    "plt.plot(x,y)                          # Make a line plot with y versus x\n",
    "plt.show()                             # Showing the plot"
   ]
  },
  {
   "cell_type": "markdown",
   "metadata": {
    "colab_type": "text",
    "id": "_PgloTb4Uj8I"
   },
   "source": [
    "As you can see, this is a very simple plot. Let's make some modifications like adding one more data set, change font sizes, adding axes titles, legend, and more..."
   ]
  },
  {
   "cell_type": "code",
   "execution_count": 19,
   "metadata": {
    "colab": {
     "base_uri": "https://localhost:8080/"
    },
    "colab_type": "code",
    "id": "DPPxu1LjUj8J",
    "outputId": "a0bf69de-4124-4a7e-9dc7-4f57bd3a6b70",
    "pycharm": {
     "is_executing": false
    }
   },
   "outputs": [
    {
     "data": {
      "image/png": "[encoded data removed]",
      "text/plain": [
       "<Figure size 432x288 with 1 Axes>"
      ]
     },
     "metadata": {
      "needs_background": "light"
     },
     "output_type": "display_data"
    }
   ],
   "source": [
    "z = np.log10(x)                                  # Calculate Log10(x)\n",
    "\n",
    "plt.title('My title', fontsize=20)               # Adding a title and changing the font size\n",
    "plt.plot(x,y, color='red', label='ln(x)')         # Adding a line defining collor and a label\n",
    "plt.plot(x,z, color='blue', label='log(x)')        # Adding another line defining collor and a label\n",
    "plt.xlabel('x', fontsize=16)                     # Defining x label and fontsize\n",
    "plt.ylabel('ln(x) and log(x)', fontsize=16)      # Defining y label and fontsize\n",
    "plt.tick_params(labelsize=12)                    # Defining the fontsize of the tick numbers on axes\n",
    "plt.legend(fontsize=12)                          # Creating a legend and defining font size\n",
    "plt.show()                                       # Showing the plot"
   ]
  },
  {
   "cell_type": "markdown",
   "metadata": {
    "colab_type": "text",
    "id": "X-kljSd-Uj8O"
   },
   "source": [
    "In all examples here, we are plotting the figures in screen. In case we would like to save the figure we can use a command like plt.savefig('figure_name.png').\n",
    "\n",
    "We can now build a combination of plots in only one figure. Here one figure with 3 plots will be done by using the command subfigure. We are not using the pyplot interface to build the plots, so you can see that the commands are different from that used before. Doing this way, is a little more complex, but gives us more flexibility on personalizing the plots. When search on the internet for examples of plots, the best initial source is the Matplotlib official gallery (https://matplotlib.org/3.1.1/gallery/index.html)."
   ]
  },
  {
   "cell_type": "code",
   "execution_count": 20,
   "metadata": {
    "colab": {
     "base_uri": "https://localhost:8080/"
    },
    "colab_type": "code",
    "id": "0kneRzyWUj8P",
    "outputId": "2d0a3951-ff24-4d5b-b668-2197584c2ca2",
    "pycharm": {
     "is_executing": false
    }
   },
   "outputs": [
    {
     "name": "stderr",
     "output_type": "stream",
     "text": [
      "/Users/zacblackburn/opt/anaconda3/lib/python3.7/site-packages/ipykernel_launcher.py:34: MatplotlibDeprecationWarning: Passing the pad parameter of tight_layout() positionally is deprecated since Matplotlib 3.3; the parameter will become keyword-only two minor releases later.\n"
     ]
    },
    {
     "data": {
      "image/png": "[encoded data removed]",
      "text/plain": [
       "<Figure size 864x288 with 4 Axes>"
      ]
     },
     "metadata": {
      "needs_background": "light"
     },
     "output_type": "display_data"
    }
   ],
   "source": [
    "x = np.linspace(0.1, 10.0, 20)              # Create a list with 20 equally spaced values, between 0.1 and 10.0\n",
    "y = np.log(x)                               # Calculate the log of x and store on y\n",
    "z = np.exp(x)                               # Calculate the exp of x and store on z\n",
    "res_property = np.random.random((20, 20))   # Generate a random field number of 20 x 20 values\n",
    "\n",
    "# Here we will generate 3 plots on the same figure. Because of this, we first create the figure and \n",
    "# define its aspect ratio. 1/3 is the aspect ratio for this case.\n",
    "fig = plt.figure(figsize=plt.figaspect(1 / 3))\n",
    "\n",
    "# Creating the first plot of the figure. \n",
    "ax1 = fig.add_subplot(1, 3, 1)                              # We are going to built a figure with 1 row and 3 collumns and ax1 will be the first element of this figure\n",
    "ax1.plot(x, y, label=r'$\\ln(x)$', color='C0')               # Ploting x and y\n",
    "ax1.tick_params(axis='x', which='major', labelsize=12)      # Defining the font size of the numbers in x\n",
    "ax1.tick_params(axis='y', which='both', labelsize=12)       # Defining the font size of the numbers in y\n",
    "ax1.set_ylabel(r'$\\ln(x)$', fontsize=12)                    # Defining the font size of the label of y\n",
    "ax1.set_xlabel(r'$x$', fontsize=12)                         # Defining the font size of the label of x\n",
    "ax1.set_title(\"(a)\", y=0.90, x=0.05, fontsize=14, horizontalalignment=\"left\")    # Creating a title and locating it in a specific position\n",
    "ax1.legend(loc='lower right')                               # Creating a legend and defining its location\n",
    "\n",
    "ax2 = fig.add_subplot(1, 3, 2)                              # ax2 is the second element of the figure\n",
    "ax2.plot(x, z, label=r'$\\exp(x)$', color='C4')\n",
    "ax2.tick_params(axis='x', which='major', labelsize=12)\n",
    "ax2.tick_params(axis='y', which='both', labelsize=12)\n",
    "ax2.set_ylabel(r'$\\exp(x)$', fontsize=12)\n",
    "ax2.set_xlabel(r'$x$', fontsize=12)\n",
    "ax2.set_title(\"(b)\", y=0.90, x=0.05, fontsize=14, horizontalalignment=\"left\")\n",
    "ax2.legend(loc='center left', bbox_to_anchor=(0.0, 0.8))\n",
    "\n",
    "ax3 = fig.add_subplot(1, 3, 3)                              # ax3 is the second element of the figure\n",
    "im = ax3.imshow(res_property)                               # Creating an image showing res_property in a grid\n",
    "fig.colorbar(im, ax=ax3)                                    # Creating a color bar for ax3\n",
    "ax3.set_title(\"A reservoir model\", fontsize=14)             # Defining a title\n",
    "\n",
    "plt.tight_layout(True)                                      # Removing some extra spacing in the figure\n",
    "\n",
    "plt.show()                                                  # Showing the figure"
   ]
  },
  {
   "cell_type": "markdown",
   "metadata": {
    "colab_type": "text",
    "id": "SiujU7U2Uj8R"
   },
   "source": [
    "Again, looking for plot examples, go to Matplotlib official gallery (https://matplotlib.org/3.1.1/gallery/index.html)."
   ]
  },
  {
   "cell_type": "markdown",
   "metadata": {
    "colab_type": "text",
    "id": "U0v6mPWqUj8S"
   },
   "source": [
    "# Working with Arrays"
   ]
  },
  {
   "cell_type": "markdown",
   "metadata": {
    "colab_type": "text",
    "id": "i9nngyU3OOTc"
   },
   "source": [
    "We have worked with lists previously and you may notice that this data type is very flexible. You can see a list as a vector and since it is possible to build a list of lists. This last one can be seen as a matrix. Lets see a simple example of how to build a list of lists."
   ]
  },
  {
   "cell_type": "code",
   "execution_count": null,
   "metadata": {
    "colab": {
     "base_uri": "https://localhost:8080/",
     "height": 34
    },
    "colab_type": "code",
    "id": "wPBl2zZ1PHUr",
    "outputId": "cfccb031-4d77-4f4f-b048-bad753c80a96",
    "pycharm": {
     "is_executing": false
    }
   },
   "outputs": [],
   "source": [
    "a = [1, 2, 4]     # creating list a with 3 elements\n",
    "b = [7, 9, 3]     # creating list b with 3 elements\n",
    "\n",
    "W = [a , b]       # creating a list W that contains a and b\n",
    "print(W)"
   ]
  },
  {
   "cell_type": "markdown",
   "metadata": {
    "colab_type": "text",
    "id": "4dysQ-INP4pf"
   },
   "source": [
    "The list W contains the elements of two lists (a and b). We can see this list W as a matrix with dimensions 2 x 3. We can use this concept of list of lists to build a matrix; however, when doing operations with vectors and matrices, we should always make sure we are using the NumPy array data-type. This data-type has all matrix-vector operations we need and is the standard input for most of the numerical libraries available.\n",
    "\n",
    "We have used NumPy previously without introduction, so let's spend some words talking about it. NumPy is the most used library in python to handle numerical problems (https://numpy.org/). The documentation available on the official NumPy website is excellent and usually sufficient (https://numpy.org/doc/1.17/user/index.html). In a quick web search, you will find many tutorials to learn how to do a specific task using NumPy.\n",
    "\n",
    "It is straightforward to change from a list (or list of lists) to a NumPy array, as you can see in the following code:\n"
   ]
  },
  {
   "cell_type": "code",
   "execution_count": null,
   "metadata": {
    "colab": {
     "base_uri": "https://localhost:8080/",
     "height": 51
    },
    "colab_type": "code",
    "id": "Xizo7iCzQU6P",
    "outputId": "82b1599b-0c70-4328-871d-a7e0b95e25c9",
    "pycharm": {
     "is_executing": false
    }
   },
   "outputs": [],
   "source": [
    "import numpy as np          # Importing numpy library \n",
    "\n",
    "W_array = np.array(W)\n",
    "print(W_array)"
   ]
  },
  {
   "cell_type": "markdown",
   "metadata": {
    "colab_type": "text",
    "id": "B2fH1BjdUAzU"
   },
   "source": [
    "The differences between W and W_array starts with the presentation while printing. But this is only the beginning. All the operations and broadcast are implemented in the array elements. For example, if I would like to multiply all the elements of a array by 2:"
   ]
  },
  {
   "cell_type": "code",
   "execution_count": null,
   "metadata": {
    "colab": {
     "base_uri": "https://localhost:8080/",
     "height": 51
    },
    "colab_type": "code",
    "id": "so0v1YADUalK",
    "outputId": "9a1e5228-2f77-4184-afdd-e3e2dd341547",
    "pycharm": {
     "is_executing": false
    }
   },
   "outputs": [],
   "source": [
    "print(2 * W_array)"
   ]
  },
  {
   "cell_type": "markdown",
   "metadata": {
    "colab_type": "text",
    "id": "W8acIxuvUnVL"
   },
   "source": [
    "Or if I would like to apply the exponential element-wise (that's it, to all the elements) to the array W_array :\n"
   ]
  },
  {
   "cell_type": "code",
   "execution_count": null,
   "metadata": {
    "colab": {
     "base_uri": "https://localhost:8080/",
     "height": 51
    },
    "colab_type": "code",
    "id": "PZRCBnchXKDh",
    "outputId": "38df0522-4037-4169-d5c0-70b4144aed2f",
    "pycharm": {
     "is_executing": false
    }
   },
   "outputs": [],
   "source": [
    "print(np.exp(W_array))"
   ]
  },
  {
   "cell_type": "markdown",
   "metadata": {
    "colab_type": "text",
    "id": "7SSLvvjhXUz5"
   },
   "source": [
    "When working with vectors, to avoid problems in computations we should be aware of two main points, both related to the shape of the element used to store this vector. The method shape() is very useful while coding and we will use this method bellow. \n",
    "\n",
    "The first point we should take care is when we are trying to define a vector, we usually use column vectors in our operations. So, we need to make sure we have the correct shape of the array to represent these columns vectors."
   ]
  },
  {
   "cell_type": "code",
   "execution_count": null,
   "metadata": {
    "colab": {
     "base_uri": "https://localhost:8080/",
     "height": 51
    },
    "colab_type": "code",
    "id": "_jCPRFQiUwPD",
    "outputId": "5df6d4ba-a6e2-4277-9103-feaa9ecb1403",
    "pycharm": {
     "is_executing": false
    }
   },
   "outputs": [],
   "source": [
    "x = np.array([[4, 7, 9, 5]])                                       # Defining array x\n",
    "print(x)\n",
    "print(\"Shape of x: ({:d},{:d})\".format(x.shape[0],x.shape[1]))     # The shape of x is (1 x 4). 1 row and 4 columns. "
   ]
  },
  {
   "cell_type": "markdown",
   "metadata": {
    "colab_type": "text",
    "id": "PZE0vdCwYlI3"
   },
   "source": [
    "As you can see, this is not a properly vector, since we would expect to have a 4 x 1 array to represent a vector of 4 elements. To reshape this array to what we expected, we can take the transpose of x or reshape the x vector. Both ways are shown bellow."
   ]
  },
  {
   "cell_type": "code",
   "execution_count": null,
   "metadata": {
    "colab": {
     "base_uri": "https://localhost:8080/",
     "height": 221
    },
    "colab_type": "code",
    "id": "cL8uGBXtYlr9",
    "outputId": "9c508a81-b771-4061-98d9-c9da664fefed",
    "pycharm": {
     "is_executing": false
    }
   },
   "outputs": [],
   "source": [
    "x_vector = x.T                                                     # Taking the transporse of x\n",
    "print(x_vector)\n",
    "print(\"Shape of x_vector: ({:d},{:d})\".format(x_vector.shape[0],x_vector.shape[1]))\n",
    "print()\n",
    "\n",
    "x_vector = x.reshape((4,1))                                        # Reshaping x\n",
    "print(x_vector)\n",
    "print(\"Shape of x_vector: ({:d},{:d})\".format(x_vector.shape[0],x_vector.shape[1]))\n",
    "print()\n",
    "\n",
    "x_vector = x.reshape((-1,1))                                       # Reshaping x without explicitly knowing the vector size\n",
    "print(x_vector)\n",
    "print(\"Shape of x_vector: ({:d},{:d})\".format(x_vector.shape[0],x_vector.shape[1]))\n",
    "print()"
   ]
  },
  {
   "cell_type": "markdown",
   "metadata": {
    "colab_type": "text",
    "id": "SEj2Cx2QaHCD"
   },
   "source": [
    "It is also possible to build a vector in the correct shape from the beginning by:"
   ]
  },
  {
   "cell_type": "code",
   "execution_count": null,
   "metadata": {
    "colab": {
     "base_uri": "https://localhost:8080/",
     "height": 102
    },
    "colab_type": "code",
    "id": "w6sJKgpCaIsq",
    "outputId": "79007b93-70a6-456b-fc55-239d56e1ef29",
    "pycharm": {
     "is_executing": false
    }
   },
   "outputs": [],
   "source": [
    "y = np.array([[4], [7], [9], [5]])\n",
    "print(y)\n",
    "print(\"Shape of y: {:}\".format(y.shape))"
   ]
  },
  {
   "cell_type": "markdown",
   "metadata": {
    "colab_type": "text",
    "id": "YcJN48JHaNCS"
   },
   "source": [
    "The second point you should take care is, that you should avoid to work with arrays defined only with one dimension. In the following code you can see that the shape of z is (4,) indicating that only one dimension was defined for z. This can cause some problems while working with vector-matrix operations, so should not be used. If in your code you have an array defined like this, you should reshaped for a 2 dimensional array. It is quite usual that some functions already implemented in some libraries get as output an array with only one dimension."
   ]
  },
  {
   "cell_type": "code",
   "execution_count": null,
   "metadata": {
    "colab": {
     "base_uri": "https://localhost:8080/",
     "height": 51
    },
    "colab_type": "code",
    "id": "KdLNkJYMaYjJ",
    "outputId": "2c3e8f25-6646-44e2-ecd2-fe45ddd088fc",
    "pycharm": {
     "is_executing": false
    }
   },
   "outputs": [],
   "source": [
    "z = np.array([4, 7, 9, 5])                                       # Defining array z with only one dimension\n",
    "print(z.shape)\n",
    "\n",
    "# reshapeing z to a 2 dimensions array.\n",
    "z_2d = np.reshape(z, (4,1))\n",
    "print(z_2d.shape)"
   ]
  },
  {
   "cell_type": "markdown",
   "metadata": {
    "colab_type": "text",
    "id": "RTbz6_emgBr6"
   },
   "source": [
    "## Operations with Arrays\n",
    "\n",
    "Defining matrix A and adding identity matrix to it:"
   ]
  },
  {
   "cell_type": "code",
   "execution_count": null,
   "metadata": {
    "colab": {
     "base_uri": "https://localhost:8080/",
     "height": 255
    },
    "colab_type": "code",
    "id": "pfZWGG16gZIB",
    "outputId": "ca878bd2-0392-47c3-bde8-85e99f58418c",
    "pycharm": {
     "is_executing": false
    }
   },
   "outputs": [],
   "source": [
    "A = np.array([[2, 5, 0], [3, 9, 1], [4, 7, 5]])\n",
    "print(\"Matrix A\")\n",
    "print(A)\n",
    "\n",
    "print()\n",
    "I = np.eye(3)\n",
    "print(\"Matrix I (identity 3x3)\")\n",
    "print(I)\n",
    "\n",
    "print()\n",
    "print(\"A + I = \")\n",
    "print(A + I)"
   ]
  },
  {
   "cell_type": "markdown",
   "metadata": {
    "colab_type": "text",
    "id": "5s1mpx9ahVfm"
   },
   "source": [
    " Attention to the \"*\" usually associated to multiplication. In NumPy the \"*\" is used for Element-wise Multiplication (or Schur product). For a matrix multiplication, we should use \"@\"."
   ]
  },
  {
   "cell_type": "code",
   "execution_count": null,
   "metadata": {
    "colab": {
     "base_uri": "https://localhost:8080/",
     "height": 170
    },
    "colab_type": "code",
    "id": "Tb0fjApXhb3V",
    "outputId": "690dc1a7-9693-4950-8846-53726d6281f3",
    "pycharm": {
     "is_executing": false
    }
   },
   "outputs": [],
   "source": [
    "print(\"Element-wise Multiplication:\")\n",
    "print(A * I)\n",
    "print()\n",
    "\n",
    "print(\"Matrix multiplication\")\n",
    "print(A @ I)"
   ]
  },
  {
   "cell_type": "markdown",
   "metadata": {
    "colab_type": "text",
    "id": "3kMnPJ5yiXS-"
   },
   "source": [
    "Another example of matrix multiplication."
   ]
  },
  {
   "cell_type": "code",
   "execution_count": null,
   "metadata": {
    "colab": {
     "base_uri": "https://localhost:8080/",
     "height": 51
    },
    "colab_type": "code",
    "id": "70uGcvmpii6Y",
    "outputId": "6ec4845c-6fa5-453f-ef32-1d2354ff4222",
    "pycharm": {
     "is_executing": false
    }
   },
   "outputs": [],
   "source": [
    "A = np.array([[3, 6, 7], [5, -3, 0]])\n",
    "B = np.array([[1, 1], [2, 1], [3, -3]])\n",
    "print(A @ B)                             # same as np.matmul(A, B)"
   ]
  },
  {
   "cell_type": "markdown",
   "metadata": {
    "colab_type": "text",
    "id": "TVVp63VgjmCD"
   },
   "source": [
    "In the next code we will show how to define a matrix 5 x 5 with all elements equal to zero and then applying the result of the A B multiplication to the first elements of this matrix."
   ]
  },
  {
   "cell_type": "code",
   "execution_count": null,
   "metadata": {
    "colab": {
     "base_uri": "https://localhost:8080/",
     "height": 187
    },
    "colab_type": "code",
    "id": "KLWWqUUaj1Ob",
    "outputId": "f87f73ab-dde3-453f-eea9-6e4b75c48d0c",
    "pycharm": {
     "is_executing": false
    }
   },
   "outputs": [],
   "source": [
    "C = np.zeros((5, 5))     # Defining C matrix as a 5x5 zero matrix\n",
    "print(C)\n",
    "\n",
    "C[0:2, 0:2] = A @ B      # replace the first 2x2 elements of C by the multiplication of A and B\n",
    "print(C)"
   ]
  },
  {
   "cell_type": "markdown",
   "metadata": {
    "colab_type": "text",
    "id": "DBGKroIIlkrP"
   },
   "source": [
    "The previous example introduces an often used feature, the array slicing. Here, some tips in how to slices (or get a subset of the data in the arrays). First, the indexing in python starts with 0, like in C or C++. Not with 1, like in MatLab or Fortran. So if I would like to know what is the element in the first like and first column of matrix C, I should look of r index [0,0]:\n"
   ]
  },
  {
   "cell_type": "code",
   "execution_count": null,
   "metadata": {
    "colab": {
     "base_uri": "https://localhost:8080/",
     "height": 34
    },
    "colab_type": "code",
    "id": "k4er41TDmO6p",
    "outputId": "6f2fede4-a83b-44bc-ec2d-c54f8e5921d4",
    "pycharm": {
     "is_executing": false
    }
   },
   "outputs": [],
   "source": [
    "print(C[0,0])"
   ]
  },
  {
   "cell_type": "markdown",
   "metadata": {
    "colab_type": "text",
    "id": "Vzvb3g4JmXFC"
   },
   "source": [
    "When looking for range of indexes, the upper bound index informed is excluded. For example, If I would like to see the 3 first elements of the first line of C, I should look for [0:1, 0:3]:"
   ]
  },
  {
   "cell_type": "code",
   "execution_count": null,
   "metadata": {
    "colab": {
     "base_uri": "https://localhost:8080/",
     "height": 34
    },
    "colab_type": "code",
    "id": "8Ff0id-jmudS",
    "outputId": "8d9996fb-607e-4697-d9ac-63d799b2ffbb",
    "pycharm": {
     "is_executing": false
    }
   },
   "outputs": [],
   "source": [
    "print(C[0:1, 0:3])"
   ]
  },
  {
   "cell_type": "markdown",
   "metadata": {
    "colab_type": "text",
    "id": "aPYF5udZon_E"
   },
   "source": [
    "We can write the slicing above by only using [0, 0:3], the result looks like the same but this last way generates a 1 dimensional array and was said here before that this should be avoided. "
   ]
  },
  {
   "cell_type": "code",
   "execution_count": null,
   "metadata": {
    "colab": {
     "base_uri": "https://localhost:8080/",
     "height": 51
    },
    "colab_type": "code",
    "id": "7f6MX1dTo7jy",
    "outputId": "3da6db2e-bccb-4359-b8c1-ad0bcc4ad520",
    "pycharm": {
     "is_executing": false
    }
   },
   "outputs": [],
   "source": [
    "print(C[0:1, 0:3].shape)   # Generates a 2D array\n",
    "print(C[0, 0:3].shape)     # Generates a 1D array (should be avoided)"
   ]
  },
  {
   "cell_type": "markdown",
   "metadata": {
    "colab_type": "text",
    "id": "8b1sGAwspNUQ"
   },
   "source": [
    "Other slicing formats:"
   ]
  },
  {
   "cell_type": "code",
   "execution_count": null,
   "metadata": {
    "colab": {
     "base_uri": "https://localhost:8080/",
     "height": 272
    },
    "colab_type": "code",
    "id": "MMa_FXOUm2b6",
    "outputId": "cd91ddab-5975-4e56-d16a-dd72b1bd671f",
    "pycharm": {
     "is_executing": false
    }
   },
   "outputs": [],
   "source": [
    "print(C[:, 1:2])          # all rows and second collum\n",
    "print(C[3:4, :])          # 4th line and all collums\n",
    "print(C[1:4, :])          # 2nd to 4th lines and all collums\n",
    "print(C[1:4, 0:3])        # 2nd to 4th lines and 1st to 3rd collums"
   ]
  },
  {
   "cell_type": "markdown",
   "metadata": {},
   "source": [
    "If you are familiar with MatLab you may find some similarities and differences between NumPy/Scipy and MatLab at https://docs.scipy.org/doc/numpy/user/numpy-for-matlab-users.html."
   ]
  },
  {
   "cell_type": "markdown",
   "metadata": {
    "colab_type": "text",
    "id": "kCPZXI8oUj8T"
   },
   "source": [
    "# Working with text files\n",
    "\n",
    "One very common task when dealing with engineering problems is to read and write text files. The input data is usually provided by text files and also the output can be easily written in this type of files.\n",
    "\n",
    "There is no standard format for all areas of study. Each area develops it's own format (or formats) or, the scenario with no predefined format is also very common. Because of this, it is important to understand how to read text file and how to personalize the reader to the format used in your problem.\n",
    "\n",
    "There is a very powerful Python library to handle datasets called Pandas. This library has a very good reader for specific formats. We will begin our explanation with a more basic (and not so efficient) way to read text files. But some times, this can be necessary, for example to read reservoir simulator input files."
   ]
  },
  {
   "cell_type": "markdown",
   "metadata": {
    "colab_type": "text",
    "id": "AXtPn-Vu-jEu"
   },
   "source": [
    "## Reading Files\n",
    "\n",
    "We will introduce this session with an hypothetical example where we would like to read a permeability file and store it's values in a diagonal sparse matrix. We will use the standard way of reading text files in python. First we will open the file and the read it line by line."
   ]
  },
  {
   "cell_type": "code",
   "execution_count": 21,
   "metadata": {
    "colab": {
     "base_uri": "https://localhost:8080/",
     "height": 54
    },
    "colab_type": "code",
    "id": "bWGNJlpqCBM7",
    "outputId": "aa0cc6ae-87b2-4d05-8e3c-c492563428bc",
    "pycharm": {
     "is_executing": false
    }
   },
   "outputs": [
    {
     "name": "stdout",
     "output_type": "stream",
     "text": [
      "[298.165037067, 247.643495497, 138.912059411, 401.743243245, 195.614435351, 139.611018934, 91.7158114289, 209.748677824, 335.091890106, 251.188444334, 175.386904063, 223.221017835, 294.84027393, 330.999795084, 222.43837163, 237.459910132, 236.132670499, 326.872241686, 152.592999972, 164.157720692, 64.801017674, 218.749629841, 306.066235276, 187.542984271, 219.88211735, 224.131762701, 251.503836109, 278.986037941, 325.476332307, 157.624289609, 283.652859921, 242.727872869, 184.152132299, 79.9453314329, 92.5493207707, 173.800847783, 250.026468075, 198.408369838, 253.822951367, 120.656575134, 244.306861867, 354.037203979, 376.365810952, 285.283144003, 222.475177135, 212.395019331, 292.740495582, 92.2606980121, 89.8547210882, 106.230655218, 228.20965707, 259.588930871, 345.782891704, 172.834551939, 179.411567435, 336.316511837, 258.230254942, 350.92454106, 305.41032057, 199.582746336, 252.59718989, 106.967164268, 94.4357318653, 114.537553832, 209.802565191, 228.411297725, 285.93370264, 231.283905273, 137.430136042, 314.00357033, 370.877254034, 388.675488004, 289.503954347, 228.237470969, 84.3518700225, 168.648345831, 108.855864604, 139.598870883, 208.431743224, 176.231472388, 245.818596798, 219.331094794, 300.164544056, 173.123200461, 429.95351426, 451.79927939, 430.058270384, 283.895520672, 165.815972505, 84.9228491542, 173.124682807, 160.403480455, 327.664577064, 406.845790897, 407.975479394, 249.223637272, 292.055795522, 233.904449869, 571.279952536, 528.747203081, 288.102711854, 381.230136258, 101.519318908, 68.5593837958, 44.5687683929, 248.23362829, 620.67289074, 578.104816441, 370.752499011, 338.390589161, 378.033439903, 287.798856852, 577.689212933, 542.252059972, 297.124801983, 264.990555585, 141.531107665, 65.2516448281, 43.6678001851, 40.5620599475, 748.773571635, 452.752198776, 327.626709156, 568.406153844, 615.126729673, 318.252073894, 708.782554427, 650.63581796, 226.394389347, 368.255037893, 147.762523367, 81.8571457573, 45.1605487194, 41.8381696306, 31.7183679305, 733.643006975, 329.782802458, 554.38562593, 496.406617057, 374.643657552, 550.096613741, 655.518546752, 246.794459904, 265.058707711, 258.64994077, 63.0816768734, 59.091712922, 47.5206848876, 33.3441384347, 29.3301095179, 378.611267212, 567.218309522, 531.030680665, 627.260836871, 592.156227728, 561.755257844, 414.021440258, 375.364658528, 226.358081802, 65.0295622411, 71.9410208429, 59.3438536997, 40.2343931229, 23.5909004422, 33.949036566, 403.603547432, 440.378020583, 696.904271769, 519.231112287, 537.959730285, 532.205599777, 561.54711895, 211.996402524, 93.0679611836, 110.274693199, 53.9233990536, 52.8019246124, 31.6320151926, 37.7230238265, 42.0469313175, 290.88378499, 613.180700046, 400.494752201, 492.253837161, 551.875841368, 800.552156193, 331.517310708, 135.350852182, 82.4301083968, 53.7344956387, 45.4841976544, 66.9589341124, 30.9336313901, 41.0591159105, 87.0728649423, 422.917551878, 327.591640992, 292.310187583, 403.22685716, 503.592242658, 569.616946792, 156.936080331, 70.8198325062, 90.7368077978, 64.5949762875, 43.2085402531, 30.5054638212, 45.4276354857, 61.8360766591, 36.4011151963, 424.280182023, 340.811557118, 275.459616375, 519.794845054, 330.49710192, 142.546662433, 81.2314259379, 82.1941082526, 55.7133118964, 64.4906332618, 66.8798395038, 52.5137569879, 67.3331888278, 48.1575438181, 50.3173578705, 236.940795345, 270.648268772, 573.055577611, 356.594154789, 141.862254388, 137.935836795, 105.010565953, 82.1070222067, 60.8012238003, 75.2781110668, 60.3117445019, 50.6247067747, 67.8107200411, 40.419674882, 37.4047650614, 387.455785708, 490.679277248, 402.760377087, 305.367097169, 221.837584463, 183.703683619, 147.836764511, 60.5975838746, 44.2332499612, 41.5642188406, 38.76013195, 47.216192758, 37.0764727226, 38.4344583548, 19.1164443983, 468.866675733, 297.639619419, 326.704210274, 340.091832447, 221.347462084, 154.054878618, 89.8761241229, 75.0915290585, 46.4887392155, 34.2764420695, 32.626902791, 56.5246730438, 40.514249351, 35.2670621929, 42.0471383608, 444.097859009, 335.858570771, 350.587607166, 252.184643566, 157.554793396, 241.001408363, 141.347587111, 85.9023833077, 26.3284063533, 25.1145990367, 51.6848547402, 27.7786166345, 39.5972492664, 48.5570724266, 39.0976925092, 324.166383092, 237.263485657, 345.689504729, 153.183179512, 308.843329306, 111.100756388, 117.781041845, 49.9183558047, 19.3717173345, 36.5561977179, 40.7592849596, 38.1576128549, 34.9716914843, 27.6950496667, 41.2027707338, 190.045720005, 293.243538113, 315.954990926, 458.62184564, 136.926209709, 117.272032358, 45.193570179, 25.8519194554, 27.2294434947, 48.1138069139, 31.2402404133, 34.3838482643, 39.3105371255, 42.632253154, 51.286663203, 292.353310878, 371.989869885, 417.718883653, 175.158624654, 78.8199017838, 56.7089020491, 38.9830850593, 23.0950270767, 39.2660401874, 41.1478754284, 38.1804466655, 65.0511011679, 34.353785411, 42.187902599, 56.8477341431, 311.459220664, 350.046046789, 172.389195263, 77.5651800964, 70.0711404034, 64.2397258801, 28.644449244, 35.870616093, 43.9157963793, 59.183714162, 36.8100822336, 34.3013070981, 43.0601167998, 46.1059239079, 67.4373215959, 380.501861266, 189.893720319, 62.4808100727, 61.8767862161, 68.1305669699, 46.7505700898, 31.5041787355, 57.798550849, 67.7156848791, 48.3702475561, 31.7546475761, 57.3874544472, 28.1781388707, 47.605865416, 78.5762200168, 214.245712391, 172.283589579, 59.1587607281, 61.5947004268, 78.3276287585, 42.2340060519, 57.6560444297, 49.8426767197, 36.816575045, 39.8006173676, 41.3503757853, 26.7605293868, 31.997521129, 50.4682962838, 101.135792455, 204.861915706, 91.1767231045, 61.4778077675, 35.9031446023, 40.0241719224, 29.1751282552, 49.7493471974, 44.8692278624, 33.5841031137, 27.9375416967, 13.0393704463, 34.1504345342, 51.0703004846, 88.2924881318, 91.01580037, 153.561839915, 76.5912633644, 37.0385031522, 20.2969497485, 26.4723132063, 38.9114621727, 36.8516813281, 26.8576737018, 36.8340184458, 18.0338191501, 21.8058465657, 57.2284071984, 75.357720324, 93.042727368, 227.653676226, 92.2145605677, 50.8208795372, 25.467915309, 39.1930566173, 49.1380401917, 63.5899138621, 33.2768851406, 17.6570897049, 16.5654738055, 21.72486533, 43.8927737953, 56.8813556536, 63.5026976078, 179.996331728, 418.283841128, 68.4663959911, 24.8789421788, 24.2921854118, 43.5855713475, 60.1673448433, 30.7626153222, 16.6682505166, 10.837339386, 22.7872899909, 36.4282869147, 47.6111039581, 69.2385807425, 102.533953229, 195.866626733, 231.28048103, 39.4356082243, 29.2217959116, 36.9645190675, 56.636691126, 19.6067590911, 29.8433191995, 17.2012406631, 19.765601658, 22.8688523516, 49.6449965905, 48.7492727313, 62.3749949142, 150.127242268, 159.134321413, 139.422825784]\n"
     ]
    }
   ],
   "source": [
    "file1 = open(\"PERMI.inc\",\"r\")                                           # Open the text file\n",
    "\n",
    "list_perm = []\n",
    "for line in file1:                                                      # Loop in all lines of the file\n",
    "    if \"PERMX\" in line:                                                 # Look for the text PERMX in each line, if found do not execute the following commands\n",
    "        continue\n",
    "    \n",
    "    list_perm.append(float(line))                                       # Convert the value found to float\n",
    "\n",
    "file1.close()                                                           # Close the file to release memory\n",
    "\n",
    "print(list_perm) "
   ]
  },
  {
   "cell_type": "markdown",
   "metadata": {
    "colab_type": "text",
    "id": "H_DYWBs4ARzo"
   },
   "source": [
    "Now, we have all permeability values in a list. But we would like to have this values in a diagonal sparse matrix."
   ]
  },
  {
   "cell_type": "code",
   "execution_count": null,
   "metadata": {
    "colab": {
     "base_uri": "https://localhost:8080/",
     "height": 102
    },
    "colab_type": "code",
    "id": "ZXjUFNvNAxhx",
    "outputId": "43cc74d8-3589-4070-aef7-3a1747950dbb",
    "pycharm": {
     "is_executing": false
    }
   },
   "outputs": [],
   "source": [
    "import numpy as np\n",
    "import sys\n",
    "from scipy import sparse\n",
    "\n",
    "dense_perm = np.diag(list_perm)                                                                  # Generating a dense diagonal matrix\n",
    "sparse_perm = sparse.diags(list_perm)                                                            # Generating a sparse diagonal matrix\n",
    "\n",
    "print(\"Dense matrix shape: \", dense_perm.shape)\n",
    "print(\"Sparse matrix shape: \", sparse_perm.shape)\n",
    "print(\"Dense matrix number of elements: \", dense_perm.shape[0]*dense_perm.shape[1])\n",
    "print(\"Memory used to store the dense matrix: {} bytes\".format(sys.getsizeof(dense_perm)))       # Comparing the memory used for each matrix \n",
    "print(\"Memory used to store the sparse matrix: {} bytes\".format(sys.getsizeof(sparse_perm)))\n",
    "\n",
    "random_vector = np.random.rand(len(list_perm))\n",
    "\n",
    "dense_multiplication = dense_perm @ random_vector                                                # Multiplying the dense matrix by a random vector\n",
    "sparse_multiplication = sparse_perm @ random_vector                                              # Multiplying the sparse matrix by the same random vector\n",
    "\n",
    "if (dense_multiplication == sparse_multiplication).all():                                        # Checking if all values in both multiplications are the same\n",
    "    print(\"Multiplication using Sparse and Dense matrices produces the same results!!\")"
   ]
  },
  {
   "cell_type": "markdown",
   "metadata": {
    "colab_type": "text",
    "id": "W-PU_GTTlBxa"
   },
   "source": [
    "On the next code, we will introduce another way to read a text files. Here we are going to use the command readlines(). This command will read all the lines of the text file and will storage them in a list. We will this list to generate a column vector. "
   ]
  },
  {
   "cell_type": "code",
   "execution_count": null,
   "metadata": {
    "colab": {
     "base_uri": "https://localhost:8080/",
     "height": 34
    },
    "colab_type": "code",
    "id": "Cat3hlFlAOpb",
    "outputId": "522f342b-b3bd-46ea-e39b-6f06adca52d1",
    "pycharm": {
     "is_executing": false
    }
   },
   "outputs": [],
   "source": [
    "file2 = open(\"PERMI.inc\",\"r\")                                                                    # Open the text file\n",
    "\n",
    "list_perm2 = file2.readlines()                                                                   # Reading all lines\n",
    "\n",
    "file2.close()                                                                                    # Closing the file\n",
    "\n",
    "for line in list_perm2:                                                                          # Loop in the lines list\n",
    "    if \"PERM\" in line:                                                                           # If the text \"PERM\" is found, remove this item from list\n",
    "        list_perm2.remove(line)\n",
    "        break\n",
    "\n",
    "array_perm2 = np.array(list_perm2, dtype=np.dtype(float))                                        # Converting the list in to an array and forcing the conversion of each line to float\n",
    "if len(array_perm2.shape) == 1:                                                                  # Checking the shape or the array. If the dimension is 1, reshape it to be a 2d Array\n",
    "    array_perm2 = np.reshape(array_perm2, (array_perm2.shape[0],1))\n",
    "\n",
    "print(\"Dimension of the collum vector: \", array_perm2.shape)"
   ]
  },
  {
   "cell_type": "markdown",
   "metadata": {
    "colab_type": "text",
    "id": "k9wBKxUZVWn9"
   },
   "source": [
    "## Writing Files\n",
    "\n",
    "The procedure to write a text file can be done using the command write. In the next code we will use this command to write the content of the array_perm in a format close to the used by CMG reservoir simulators. The second code is an alternative way using a NumPy command that avoid the explicit loop in the array. Is it possible to choosing the print format by adding another argument to the np.savetxt command (fmt=\"%.6f\", for example)."
   ]
  },
  {
   "cell_type": "code",
   "execution_count": null,
   "metadata": {
    "colab": {},
    "colab_type": "code",
    "id": "G3W_brGrrVNq",
    "pycharm": {
     "is_executing": false
    }
   },
   "outputs": [],
   "source": [
    "file3 = open(\"file_to_write.txt\",\"w\")                                                           # Openning the file\n",
    "\n",
    "# writing files using the command write\n",
    "file3.write(\"permi all\\n\")                                                                      # Writing the text \"permi all\" and adding a new line brake \"\\n\"\n",
    "for value in array_perm2[:,0]:                                                                  # Looping for all itens in the array_perm2\n",
    "    file3.write(\"{:.6f}\\n\".format(value))                                                       # Writing the each value formatted as a float with 6 decimal digits\n",
    "file3.close()                                                                                   # Closing the file\n",
    "\n",
    "# writing files using the NumPy command savetxt\n",
    "file4 = open(\"file_to_write2.txt\",\"w\")                                                          # Openning another file\n",
    "\n",
    "file4.write(\"permi all\\n\")                                                                      # Writing the text \"permi all\" and adding a new line brake \"\\n\"\n",
    "np.savetxt(file4, array_perm2)                                                                  # Writing all values in the array into file\n",
    "file4.close()                                                                                   # Closing the files"
   ]
  },
  {
   "cell_type": "markdown",
   "metadata": {},
   "source": [
    "## PANDAS\n",
    "### Pandas vs. Numpy\n",
    "\n",
    "Pandas DataFrames are 2-dimensional:\n",
    "\n",
    "> Pandas is designed for tabular data. This differs from NumPy, which supports N-dimensional arrays.\n",
    "\n",
    "Pandas DataFrames are heterogenous:\n",
    "\n",
    "> You can store many types of data in the same DataFrame. Each column of the dataframe has its own type. This differs NumPy, which has homogeneous arrays: a single datatype for every element of the N-dimensional array."
   ]
  },
  {
   "cell_type": "code",
   "execution_count": null,
   "metadata": {},
   "outputs": [],
   "source": [
    "import pandas as pd # data structures"
   ]
  },
  {
   "cell_type": "markdown",
   "metadata": {},
   "source": [
    "### Read flight data from the US Bureau of Transportation and Statistics.\n",
    "\n",
    "##### The CSV includes all the flights from New York airports in January 2014."
   ]
  },
  {
   "cell_type": "code",
   "execution_count": null,
   "metadata": {},
   "outputs": [],
   "source": [
    "fdata1 = pd.read_csv(\"ny-flights.csv.gz\")\n",
    "fdata1.head()\n",
    "\n",
    "# row index vs column index\n",
    "\n",
    "# sequential index 0, 1, 2 ... are default index"
   ]
  },
  {
   "cell_type": "code",
   "execution_count": null,
   "metadata": {},
   "outputs": [],
   "source": [
    "# parsing dates to remove the extra info\n",
    "\n",
    "fdata = pd.read_csv(\"ny-flights.csv.gz\",parse_dates=[\"fl_date\",'arr',\"dep\"])\n",
    "fdata.head()"
   ]
  },
  {
   "cell_type": "code",
   "execution_count": null,
   "metadata": {},
   "outputs": [],
   "source": [
    "fdata.tail()"
   ]
  },
  {
   "cell_type": "code",
   "execution_count": null,
   "metadata": {},
   "outputs": [],
   "source": [
    "# access data using labels\n",
    "\n",
    "fdata['airline_id']"
   ]
  },
  {
   "cell_type": "code",
   "execution_count": null,
   "metadata": {},
   "outputs": [],
   "source": [
    "# make airline_id an index\n",
    "\n",
    "fdata.set_index('airline_id',inplace=True)"
   ]
  },
  {
   "cell_type": "code",
   "execution_count": null,
   "metadata": {},
   "outputs": [],
   "source": [
    "# access data using iloc\n",
    "\n",
    "fdata.iloc[2:4,1:3] ## always needs integers"
   ]
  },
  {
   "cell_type": "code",
   "execution_count": null,
   "metadata": {},
   "outputs": [],
   "source": [
    "# access data using loc\n",
    "\n",
    "fdata.loc[19805,['unique_carrier','tail_num','origin']] ## can use flags/boolean"
   ]
  },
  {
   "cell_type": "code",
   "execution_count": null,
   "metadata": {},
   "outputs": [],
   "source": [
    "# access data using loc\n",
    "\n",
    "fdata.loc[fdata['origin']!='JFK',['unique_carrier','tail_num','origin']] ## can use flags/boolean/conditions"
   ]
  },
  {
   "cell_type": "code",
   "execution_count": null,
   "metadata": {},
   "outputs": [],
   "source": [
    "fdata.loc[fdata['origin']=='JFK'].head()"
   ]
  },
  {
   "cell_type": "code",
   "execution_count": null,
   "metadata": {},
   "outputs": [],
   "source": [
    "# column labels\n",
    "\n",
    "fdata.columns\n",
    "\n",
    "# object here means it is python string"
   ]
  },
  {
   "cell_type": "code",
   "execution_count": null,
   "metadata": {},
   "outputs": [],
   "source": [
    "# row index\n",
    "\n",
    "fdata.index"
   ]
  },
  {
   "cell_type": "markdown",
   "metadata": {},
   "source": [
    "**How many flights leaving from JFK?**"
   ]
  },
  {
   "cell_type": "code",
   "execution_count": null,
   "metadata": {},
   "outputs": [],
   "source": [
    "np.bincount(fdata['origin']=='JFK')\n",
    "# 7878 flew"
   ]
  },
  {
   "cell_type": "code",
   "execution_count": null,
   "metadata": {},
   "outputs": [],
   "source": [
    "(fdata['origin']=='JFK').value_counts()"
   ]
  },
  {
   "cell_type": "code",
   "execution_count": null,
   "metadata": {},
   "outputs": [],
   "source": [
    "np.bincount(fdata['origin']=='JFK')[1]\n",
    "\n",
    "# 7878 flew"
   ]
  },
  {
   "cell_type": "markdown",
   "metadata": {},
   "source": [
    "**How many flights didnt leave from JFK?**"
   ]
  },
  {
   "cell_type": "code",
   "execution_count": null,
   "metadata": {},
   "outputs": [],
   "source": [
    "np.bincount(fdata['origin']!='JFK')\n",
    "(fdata['origin']!='JFK').value_counts()\n",
    "# 12939 didnt fly"
   ]
  },
  {
   "cell_type": "markdown",
   "metadata": {},
   "source": [
    "**Find details of all cancelled flights**"
   ]
  },
  {
   "cell_type": "code",
   "execution_count": null,
   "metadata": {},
   "outputs": [],
   "source": [
    "fdata.head()"
   ]
  },
  {
   "cell_type": "code",
   "execution_count": null,
   "metadata": {},
   "outputs": [],
   "source": [
    "fdata[fdata[\"cancelled\"]==1]"
   ]
  },
  {
   "cell_type": "markdown",
   "metadata": {},
   "source": [
    "**How many flights per origin airport?**"
   ]
  },
  {
   "cell_type": "code",
   "execution_count": null,
   "metadata": {},
   "outputs": [],
   "source": [
    "# Get the counts for `flights.origin`\n",
    "fdata['origin'].value_counts()"
   ]
  },
  {
   "cell_type": "code",
   "execution_count": null,
   "metadata": {},
   "outputs": [],
   "source": [
    "fdata.origin.value_counts()"
   ]
  },
  {
   "cell_type": "markdown",
   "metadata": {},
   "source": [
    "**How many carriers fly from NY Airports?**"
   ]
  },
  {
   "cell_type": "code",
   "execution_count": null,
   "metadata": {},
   "outputs": [],
   "source": [
    "fdata[fdata.origin=='JFK'].unique_carrier.value_counts()"
   ]
  },
  {
   "cell_type": "markdown",
   "metadata": {},
   "source": [
    "**See the details of all flights of the top 5 carriers flying from JFK?**"
   ]
  },
  {
   "cell_type": "code",
   "execution_count": null,
   "metadata": {},
   "outputs": [],
   "source": [
    "carcount=fdata[fdata.origin=='JFK'].unique_carrier.value_counts()"
   ]
  },
  {
   "cell_type": "code",
   "execution_count": null,
   "metadata": {},
   "outputs": [],
   "source": [
    "# Get the counts for `flights.origin`\n",
    "top5 = carcount[:5] \n",
    "top5.index"
   ]
  },
  {
   "cell_type": "code",
   "execution_count": null,
   "metadata": {},
   "outputs": [],
   "source": [
    "mask = (fdata.origin=='JFK') & (fdata[\"unique_carrier\"].isin(top5.index))\n",
    "mask"
   ]
  },
  {
   "cell_type": "code",
   "execution_count": null,
   "metadata": {},
   "outputs": [],
   "source": [
    "np.bincount(mask)"
   ]
  },
  {
   "cell_type": "code",
   "execution_count": null,
   "metadata": {},
   "outputs": [],
   "source": [
    "fdata.loc[mask]"
   ]
  },
  {
   "cell_type": "code",
   "execution_count": null,
   "metadata": {},
   "outputs": [],
   "source": [
    "fdata.loc[mask,['origin','dest']]"
   ]
  },
  {
   "cell_type": "markdown",
   "metadata": {},
   "source": [
    "**Plot total number of flights from NY airports every 12 hours.**"
   ]
  },
  {
   "cell_type": "code",
   "execution_count": null,
   "metadata": {},
   "outputs": [],
   "source": [
    "fdata['dep'].value_counts().resample('H').sum()"
   ]
  },
  {
   "cell_type": "code",
   "execution_count": null,
   "metadata": {},
   "outputs": [],
   "source": [
    "fdata['dep'].value_counts().resample('H').sum().rolling(12).mean()"
   ]
  },
  {
   "cell_type": "code",
   "execution_count": null,
   "metadata": {},
   "outputs": [],
   "source": [
    "fdata['dep'].value_counts().resample('H').sum().rolling(12).mean().plot(figsize=(12, 6),\n",
    "          title=\"Number of Flights from NY Every 12 H\")"
   ]
  },
  {
   "cell_type": "markdown",
   "metadata": {},
   "source": [
    "## More ?"
   ]
  },
  {
   "attachments": {
    "b5ebe340-aaa6-4e7c-a6df-80bed27882c7.png": {
     "image/png": "[encoded data removed]"
    }
   },
   "cell_type": "markdown",
   "metadata": {},
   "source": [
    "Take a look on this \"A Crash Course in Python for Scientists\" by Rick Muller (Sandia National Laboratories).  https://nbviewer.jupyter.org/gist/rpmuller/5920182 \n",
    "\n",
    "\n",
    "![image.png](attachment:b5ebe340-aaa6-4e7c-a6df-80bed27882c7.png)"
   ]
  }
 ],
 "metadata": {
  "colab": {
   "collapsed_sections": [
    "PtkOysqdUj7s",
    "cQ_atV6BUj8B",
    "WJuN7RAjUj8F"
   ],
   "name": "First steps in Python_v3.ipynb",
   "provenance": [],
   "toc_visible": true
  },
  "kernelspec": {
   "display_name": "Python 3",
   "language": "python",
   "name": "python3"
  },
  "language_info": {
   "codemirror_mode": {
    "name": "ipython",
    "version": 3
   },
   "file_extension": ".py",
   "mimetype": "text/x-python",
   "name": "python",
   "nbconvert_exporter": "python",
   "pygments_lexer": "ipython3",
   "version": "3.7.6"
  },
  "latex_envs": {
   "LaTeX_envs_menu_present": true,
   "autoclose": false,
   "autocomplete": true,
   "bibliofile": "biblio.bib",
   "cite_by": "apalike",
   "current_citInitial": 1,
   "eqLabelWithNumbers": true,
   "eqNumInitial": 1,
   "hotkeys": {
    "equation": "Ctrl-E",
    "itemize": "Ctrl-I"
   },
   "labels_anchors": false,
   "latex_user_defs": false,
   "report_style_numbering": false,
   "user_envs_cfg": false
  },
  "pycharm": {
   "stem_cell": {
    "cell_type": "raw",
    "metadata": {
     "collapsed": false
    },
    "source": []
   }
  },
  "toc": {
   "base_numbering": 1,
   "nav_menu": {},
   "number_sections": true,
   "sideBar": true,
   "skip_h1_title": false,
   "title_cell": "Table of Contents",
   "title_sidebar": "Contents",
   "toc_cell": false,
   "toc_position": {},
   "toc_section_display": true,
   "toc_window_display": false
  }
 },
 "nbformat": 4,
 "nbformat_minor": 4
}
