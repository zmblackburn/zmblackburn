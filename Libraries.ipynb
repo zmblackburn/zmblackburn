{
 "cells": [
  {
   "cell_type": "markdown",
   "metadata": {
    "colab_type": "text",
    "id": "hPtyKnEQUt85"
   },
   "source": [
    "Mount Google Drive (to access data files)"
   ]
  },
  {
   "cell_type": "code",
   "execution_count": null,
   "metadata": {
    "colab": {
     "base_uri": "https://localhost:8080/",
     "height": 122
    },
    "colab_type": "code",
    "executionInfo": {
     "elapsed": 40715,
     "status": "ok",
     "timestamp": 1585168334168,
     "user": {
      "displayName": "Narendra Vishnumolakala",
      "photoUrl": "",
      "userId": "05474597894283672694"
     },
     "user_tz": 300
    },
    "id": "5NvWSfWlUtbU",
    "outputId": "b66d485e-9de9-4a84-8eb5-0acd693f143e"
   },
   "outputs": [
    {
     "name": "stdout",
     "output_type": "stream",
     "text": [
      "Go to this URL in a browser: https://accounts.google.com/o/oauth2/auth?client_id=947318989803-6bn6qk8qdgf4n4g3pfee6491hc0brc4i.apps.googleusercontent.com&redirect_uri=urn%3aietf%3awg%3aoauth%3a2.0%3aoob&response_type=code&scope=email%20https%3a%2f%2fwww.googleapis.com%2fauth%2fdocs.test%20https%3a%2f%2fwww.googleapis.com%2fauth%2fdrive%20https%3a%2f%2fwww.googleapis.com%2fauth%2fdrive.photos.readonly%20https%3a%2f%2fwww.googleapis.com%2fauth%2fpeopleapi.readonly\n",
      "\n",
      "Enter your authorization code:\n",
      "··········\n",
      "Mounted at /content/gdrive\n"
     ]
    }
   ],
   "source": [
    "from google.colab import drive\n",
    "drive.mount('/content/gdrive')"
   ]
  },
  {
   "cell_type": "markdown",
   "metadata": {
    "colab_type": "text",
    "id": "Xh87_nBqQgnm"
   },
   "source": [
    "## **Pandas**"
   ]
  },
  {
   "cell_type": "code",
   "execution_count": null,
   "metadata": {
    "colab": {},
    "colab_type": "code",
    "id": "G7NckYmqUXUW"
   },
   "outputs": [],
   "source": [
    "import pandas as pd"
   ]
  },
  {
   "cell_type": "markdown",
   "metadata": {
    "colab_type": "text",
    "id": "cElirz-irNIm"
   },
   "source": [
    "Import Dataset"
   ]
  },
  {
   "cell_type": "code",
   "execution_count": null,
   "metadata": {
    "colab": {},
    "colab_type": "code",
    "id": "h5BTytKoUXXC"
   },
   "outputs": [],
   "source": [
    "sal_raw = pd.read_csv('/content/gdrive/My Drive/Colab Notebooks/PETE_225/Salaries.csv')"
   ]
  },
  {
   "cell_type": "code",
   "execution_count": null,
   "metadata": {
    "colab": {
     "base_uri": "https://localhost:8080/",
     "height": 204
    },
    "colab_type": "code",
    "executionInfo": {
     "elapsed": 431,
     "status": "ok",
     "timestamp": 1585168656348,
     "user": {
      "displayName": "Narendra Vishnumolakala",
      "photoUrl": "",
      "userId": "05474597894283672694"
     },
     "user_tz": 300
    },
    "id": "-QqtKZV-UXZi",
    "outputId": "61ba09f5-45fc-4c3d-86ed-e9b683e5f9c5"
   },
   "outputs": [
    {
     "data": {
      "text/html": [
       "<div>\n",
       "<style scoped>\n",
       "    .dataframe tbody tr th:only-of-type {\n",
       "        vertical-align: middle;\n",
       "    }\n",
       "\n",
       "    .dataframe tbody tr th {\n",
       "        vertical-align: top;\n",
       "    }\n",
       "\n",
       "    .dataframe thead th {\n",
       "        text-align: right;\n",
       "    }\n",
       "</style>\n",
       "<table border=\"1\" class=\"dataframe\">\n",
       "  <thead>\n",
       "    <tr style=\"text-align: right;\">\n",
       "      <th></th>\n",
       "      <th>EmployeeName</th>\n",
       "      <th>JobTitle</th>\n",
       "      <th>BasePay</th>\n",
       "      <th>OvertimePay</th>\n",
       "      <th>Benefits</th>\n",
       "      <th>TotalPay</th>\n",
       "      <th>Year</th>\n",
       "    </tr>\n",
       "  </thead>\n",
       "  <tbody>\n",
       "    <tr>\n",
       "      <th>0</th>\n",
       "      <td>NATHANIEL FORD</td>\n",
       "      <td>GENERAL MANAGER-METROPOLITAN TRANSIT AUTHORITY</td>\n",
       "      <td>167411.18</td>\n",
       "      <td>0.00</td>\n",
       "      <td>400184.25</td>\n",
       "      <td>567595.43</td>\n",
       "      <td>2019.0</td>\n",
       "    </tr>\n",
       "    <tr>\n",
       "      <th>1</th>\n",
       "      <td>GARY JIMENEZ</td>\n",
       "      <td>CAPTAIN III (POLICE DEPARTMENT)</td>\n",
       "      <td>155966.02</td>\n",
       "      <td>245131.88</td>\n",
       "      <td>137811.38</td>\n",
       "      <td>538909.28</td>\n",
       "      <td>2019.0</td>\n",
       "    </tr>\n",
       "    <tr>\n",
       "      <th>2</th>\n",
       "      <td>ALBERT PARDINI</td>\n",
       "      <td>CAPTAIN III (POLICE DEPARTMENT)</td>\n",
       "      <td>212739.13</td>\n",
       "      <td>106088.18</td>\n",
       "      <td>16452.60</td>\n",
       "      <td>335279.91</td>\n",
       "      <td>2019.0</td>\n",
       "    </tr>\n",
       "    <tr>\n",
       "      <th>3</th>\n",
       "      <td>CHRISTOPHER CHONG</td>\n",
       "      <td>WIRE ROPE CABLE MAINTENANCE MECHANIC</td>\n",
       "      <td>77916.00</td>\n",
       "      <td>56120.71</td>\n",
       "      <td>198306.90</td>\n",
       "      <td>332343.61</td>\n",
       "      <td>2019.0</td>\n",
       "    </tr>\n",
       "    <tr>\n",
       "      <th>4</th>\n",
       "      <td>PATRICK GARDNER</td>\n",
       "      <td>DEPUTY CHIEF OF DEPARTMENT,(FIRE DEPARTMENT)</td>\n",
       "      <td>134401.60</td>\n",
       "      <td>9737.00</td>\n",
       "      <td>182234.59</td>\n",
       "      <td>326373.19</td>\n",
       "      <td>2019.0</td>\n",
       "    </tr>\n",
       "  </tbody>\n",
       "</table>\n",
       "</div>"
      ],
      "text/plain": [
       "        EmployeeName  ...    Year\n",
       "0     NATHANIEL FORD  ...  2019.0\n",
       "1       GARY JIMENEZ  ...  2019.0\n",
       "2     ALBERT PARDINI  ...  2019.0\n",
       "3  CHRISTOPHER CHONG  ...  2019.0\n",
       "4    PATRICK GARDNER  ...  2019.0\n",
       "\n",
       "[5 rows x 7 columns]"
      ]
     },
     "execution_count": 29,
     "metadata": {
      "tags": []
     },
     "output_type": "execute_result"
    }
   ],
   "source": [
    "sal_raw.head()"
   ]
  },
  {
   "cell_type": "code",
   "execution_count": null,
   "metadata": {
    "colab": {
     "base_uri": "https://localhost:8080/",
     "height": 221
    },
    "colab_type": "code",
    "executionInfo": {
     "elapsed": 411,
     "status": "ok",
     "timestamp": 1585168700349,
     "user": {
      "displayName": "Narendra Vishnumolakala",
      "photoUrl": "",
      "userId": "05474597894283672694"
     },
     "user_tz": 300
    },
    "id": "YffNA6WaUXdC",
    "outputId": "76b173ca-e0fe-4319-f77e-7d80d76a4d9a"
   },
   "outputs": [
    {
     "name": "stdout",
     "output_type": "stream",
     "text": [
      "<class 'pandas.core.frame.DataFrame'>\n",
      "RangeIndex: 1089 entries, 0 to 1088\n",
      "Data columns (total 7 columns):\n",
      "EmployeeName    1088 non-null object\n",
      "JobTitle        1089 non-null object\n",
      "BasePay         1081 non-null float64\n",
      "OvertimePay     1086 non-null float64\n",
      "Benefits        1077 non-null float64\n",
      "TotalPay        1088 non-null float64\n",
      "Year            1088 non-null float64\n",
      "dtypes: float64(5), object(2)\n",
      "memory usage: 59.7+ KB\n"
     ]
    }
   ],
   "source": [
    "sal_raw.info()"
   ]
  },
  {
   "cell_type": "code",
   "execution_count": null,
   "metadata": {
    "colab": {
     "base_uri": "https://localhost:8080/",
     "height": 68
    },
    "colab_type": "code",
    "executionInfo": {
     "elapsed": 353,
     "status": "ok",
     "timestamp": 1585169526119,
     "user": {
      "displayName": "Narendra Vishnumolakala",
      "photoUrl": "",
      "userId": "05474597894283672694"
     },
     "user_tz": 300
    },
    "id": "UxjAJlXZUXgZ",
    "outputId": "daa796c9-5029-413a-dc2d-38ef7a1b3e85"
   },
   "outputs": [
    {
     "data": {
      "text/plain": [
       "Index(['EmployeeName', 'JobTitle', 'BasePay', 'OvertimePay', 'Benefits',\n",
       "       'TotalPay', 'Year'],\n",
       "      dtype='object')"
      ]
     },
     "execution_count": 49,
     "metadata": {
      "tags": []
     },
     "output_type": "execute_result"
    }
   ],
   "source": [
    "sal_raw.columns"
   ]
  },
  {
   "cell_type": "markdown",
   "metadata": {
    "colab_type": "text",
    "id": "EOE_c112rQ0v"
   },
   "source": [
    "Data Cleaning"
   ]
  },
  {
   "cell_type": "code",
   "execution_count": null,
   "metadata": {
    "colab": {},
    "colab_type": "code",
    "id": "2NYKDx3Xa_MU"
   },
   "outputs": [],
   "source": [
    "sal_clean = sal_raw.dropna()"
   ]
  },
  {
   "cell_type": "code",
   "execution_count": null,
   "metadata": {
    "colab": {
     "base_uri": "https://localhost:8080/",
     "height": 221
    },
    "colab_type": "code",
    "executionInfo": {
     "elapsed": 307,
     "status": "ok",
     "timestamp": 1585168889136,
     "user": {
      "displayName": "Narendra Vishnumolakala",
      "photoUrl": "",
      "userId": "05474597894283672694"
     },
     "user_tz": 300
    },
    "id": "VOYHFk3aa_QF",
    "outputId": "9349857c-93a6-4eac-a0ba-21cb14e5b6ca"
   },
   "outputs": [
    {
     "name": "stdout",
     "output_type": "stream",
     "text": [
      "<class 'pandas.core.frame.DataFrame'>\n",
      "Int64Index: 1065 entries, 0 to 1088\n",
      "Data columns (total 7 columns):\n",
      "EmployeeName    1065 non-null object\n",
      "JobTitle        1065 non-null object\n",
      "BasePay         1065 non-null float64\n",
      "OvertimePay     1065 non-null float64\n",
      "Benefits        1065 non-null float64\n",
      "TotalPay        1065 non-null float64\n",
      "Year            1065 non-null float64\n",
      "dtypes: float64(5), object(2)\n",
      "memory usage: 66.6+ KB\n"
     ]
    }
   ],
   "source": [
    "sal_clean.info()"
   ]
  },
  {
   "cell_type": "code",
   "execution_count": null,
   "metadata": {
    "colab": {
     "base_uri": "https://localhost:8080/",
     "height": 221
    },
    "colab_type": "code",
    "executionInfo": {
     "elapsed": 349,
     "status": "ok",
     "timestamp": 1585169001510,
     "user": {
      "displayName": "Narendra Vishnumolakala",
      "photoUrl": "",
      "userId": "05474597894283672694"
     },
     "user_tz": 300
    },
    "id": "pTJLmPwba_SA",
    "outputId": "494e31f1-7fcc-477d-f66d-b334c1c9b636"
   },
   "outputs": [
    {
     "data": {
      "text/plain": [
       "0       167411.18\n",
       "1       155966.02\n",
       "2       212739.13\n",
       "3        77916.00\n",
       "4       134401.60\n",
       "          ...    \n",
       "1084    112401.08\n",
       "1085     86547.75\n",
       "1086    117303.69\n",
       "1087     98396.76\n",
       "1088    149044.45\n",
       "Name: BasePay, Length: 1065, dtype: float64"
      ]
     },
     "execution_count": 35,
     "metadata": {
      "tags": []
     },
     "output_type": "execute_result"
    }
   ],
   "source": [
    "sal_clean['BasePay'] # Access a particular column"
   ]
  },
  {
   "cell_type": "code",
   "execution_count": null,
   "metadata": {
    "colab": {
     "base_uri": "https://localhost:8080/",
     "height": 204
    },
    "colab_type": "code",
    "executionInfo": {
     "elapsed": 343,
     "status": "ok",
     "timestamp": 1585169053389,
     "user": {
      "displayName": "Narendra Vishnumolakala",
      "photoUrl": "",
      "userId": "05474597894283672694"
     },
     "user_tz": 300
    },
    "id": "wPDz6zM2a_U4",
    "outputId": "793bec29-372b-41e5-f4e5-2e105e381acb"
   },
   "outputs": [
    {
     "data": {
      "text/html": [
       "<div>\n",
       "<style scoped>\n",
       "    .dataframe tbody tr th:only-of-type {\n",
       "        vertical-align: middle;\n",
       "    }\n",
       "\n",
       "    .dataframe tbody tr th {\n",
       "        vertical-align: top;\n",
       "    }\n",
       "\n",
       "    .dataframe thead th {\n",
       "        text-align: right;\n",
       "    }\n",
       "</style>\n",
       "<table border=\"1\" class=\"dataframe\">\n",
       "  <thead>\n",
       "    <tr style=\"text-align: right;\">\n",
       "      <th></th>\n",
       "      <th>EmployeeName</th>\n",
       "      <th>JobTitle</th>\n",
       "      <th>BasePay</th>\n",
       "      <th>OvertimePay</th>\n",
       "      <th>Benefits</th>\n",
       "      <th>TotalPay</th>\n",
       "      <th>Year</th>\n",
       "    </tr>\n",
       "  </thead>\n",
       "  <tbody>\n",
       "    <tr>\n",
       "      <th>0</th>\n",
       "      <td>NATHANIEL FORD</td>\n",
       "      <td>GENERAL MANAGER-METROPOLITAN TRANSIT AUTHORITY</td>\n",
       "      <td>167411.18</td>\n",
       "      <td>0.00</td>\n",
       "      <td>400184.25</td>\n",
       "      <td>567595.43</td>\n",
       "      <td>2019.0</td>\n",
       "    </tr>\n",
       "    <tr>\n",
       "      <th>1</th>\n",
       "      <td>GARY JIMENEZ</td>\n",
       "      <td>CAPTAIN III (POLICE DEPARTMENT)</td>\n",
       "      <td>155966.02</td>\n",
       "      <td>245131.88</td>\n",
       "      <td>137811.38</td>\n",
       "      <td>538909.28</td>\n",
       "      <td>2019.0</td>\n",
       "    </tr>\n",
       "    <tr>\n",
       "      <th>2</th>\n",
       "      <td>ALBERT PARDINI</td>\n",
       "      <td>CAPTAIN III (POLICE DEPARTMENT)</td>\n",
       "      <td>212739.13</td>\n",
       "      <td>106088.18</td>\n",
       "      <td>16452.60</td>\n",
       "      <td>335279.91</td>\n",
       "      <td>2019.0</td>\n",
       "    </tr>\n",
       "    <tr>\n",
       "      <th>3</th>\n",
       "      <td>CHRISTOPHER CHONG</td>\n",
       "      <td>WIRE ROPE CABLE MAINTENANCE MECHANIC</td>\n",
       "      <td>77916.00</td>\n",
       "      <td>56120.71</td>\n",
       "      <td>198306.90</td>\n",
       "      <td>332343.61</td>\n",
       "      <td>2019.0</td>\n",
       "    </tr>\n",
       "    <tr>\n",
       "      <th>4</th>\n",
       "      <td>PATRICK GARDNER</td>\n",
       "      <td>DEPUTY CHIEF OF DEPARTMENT,(FIRE DEPARTMENT)</td>\n",
       "      <td>134401.60</td>\n",
       "      <td>9737.00</td>\n",
       "      <td>182234.59</td>\n",
       "      <td>326373.19</td>\n",
       "      <td>2019.0</td>\n",
       "    </tr>\n",
       "  </tbody>\n",
       "</table>\n",
       "</div>"
      ],
      "text/plain": [
       "        EmployeeName  ...    Year\n",
       "0     NATHANIEL FORD  ...  2019.0\n",
       "1       GARY JIMENEZ  ...  2019.0\n",
       "2     ALBERT PARDINI  ...  2019.0\n",
       "3  CHRISTOPHER CHONG  ...  2019.0\n",
       "4    PATRICK GARDNER  ...  2019.0\n",
       "\n",
       "[5 rows x 7 columns]"
      ]
     },
     "execution_count": 36,
     "metadata": {
      "tags": []
     },
     "output_type": "execute_result"
    }
   ],
   "source": [
    "sal_clean.head()"
   ]
  },
  {
   "cell_type": "code",
   "execution_count": null,
   "metadata": {
    "colab": {
     "base_uri": "https://localhost:8080/",
     "height": 80
    },
    "colab_type": "code",
    "executionInfo": {
     "elapsed": 367,
     "status": "ok",
     "timestamp": 1585169160741,
     "user": {
      "displayName": "Narendra Vishnumolakala",
      "photoUrl": "",
      "userId": "05474597894283672694"
     },
     "user_tz": 300
    },
    "id": "UoNBxT8rcGXM",
    "outputId": "66cf1a16-b47f-41c2-c11a-e162e0307788"
   },
   "outputs": [
    {
     "data": {
      "text/html": [
       "<div>\n",
       "<style scoped>\n",
       "    .dataframe tbody tr th:only-of-type {\n",
       "        vertical-align: middle;\n",
       "    }\n",
       "\n",
       "    .dataframe tbody tr th {\n",
       "        vertical-align: top;\n",
       "    }\n",
       "\n",
       "    .dataframe thead th {\n",
       "        text-align: right;\n",
       "    }\n",
       "</style>\n",
       "<table border=\"1\" class=\"dataframe\">\n",
       "  <thead>\n",
       "    <tr style=\"text-align: right;\">\n",
       "      <th></th>\n",
       "      <th>EmployeeName</th>\n",
       "      <th>JobTitle</th>\n",
       "      <th>BasePay</th>\n",
       "      <th>OvertimePay</th>\n",
       "      <th>Benefits</th>\n",
       "      <th>TotalPay</th>\n",
       "      <th>Year</th>\n",
       "    </tr>\n",
       "  </thead>\n",
       "  <tbody>\n",
       "    <tr>\n",
       "      <th>3</th>\n",
       "      <td>CHRISTOPHER CHONG</td>\n",
       "      <td>WIRE ROPE CABLE MAINTENANCE MECHANIC</td>\n",
       "      <td>77916.0</td>\n",
       "      <td>56120.71</td>\n",
       "      <td>198306.9</td>\n",
       "      <td>332343.61</td>\n",
       "      <td>2019.0</td>\n",
       "    </tr>\n",
       "  </tbody>\n",
       "</table>\n",
       "</div>"
      ],
      "text/plain": [
       "        EmployeeName                              JobTitle  ...   TotalPay    Year\n",
       "3  CHRISTOPHER CHONG  WIRE ROPE CABLE MAINTENANCE MECHANIC  ...  332343.61  2019.0\n",
       "\n",
       "[1 rows x 7 columns]"
      ]
     },
     "execution_count": 39,
     "metadata": {
      "tags": []
     },
     "output_type": "execute_result"
    }
   ],
   "source": [
    "sal_clean[sal_clean['EmployeeName']=='CHRISTOPHER CHONG'] # Access a particular row"
   ]
  },
  {
   "cell_type": "code",
   "execution_count": null,
   "metadata": {
    "colab": {},
    "colab_type": "code",
    "id": "RQcxGhOYriMq"
   },
   "outputs": [],
   "source": [
    "sal_2019 = sal_clean[sal_clean['Year']==2019.0] # Access all rows for year 2019"
   ]
  },
  {
   "cell_type": "code",
   "execution_count": null,
   "metadata": {
    "colab": {},
    "colab_type": "code",
    "id": "0DbxJiS7rpf4"
   },
   "outputs": [],
   "source": [
    "sal_2019.head()"
   ]
  },
  {
   "cell_type": "markdown",
   "metadata": {
    "colab_type": "text",
    "id": "V1VM-mwFrbr3"
   },
   "source": [
    "Data Grouping"
   ]
  },
  {
   "cell_type": "code",
   "execution_count": null,
   "metadata": {
    "colab": {},
    "colab_type": "code",
    "id": "EFRwiSVlcHfK"
   },
   "outputs": [],
   "source": [
    "sal_grp = sal_clean.groupby('Year').mean()"
   ]
  },
  {
   "cell_type": "code",
   "execution_count": null,
   "metadata": {
    "colab": {
     "base_uri": "https://localhost:8080/",
     "height": 359
    },
    "colab_type": "code",
    "executionInfo": {
     "elapsed": 280,
     "status": "ok",
     "timestamp": 1585169409636,
     "user": {
      "displayName": "Narendra Vishnumolakala",
      "photoUrl": "",
      "userId": "05474597894283672694"
     },
     "user_tz": 300
    },
    "id": "UKEkygZkcHiM",
    "outputId": "ff1b77a3-6412-437f-ee28-2c77237e858e"
   },
   "outputs": [
    {
     "data": {
      "text/html": [
       "<div>\n",
       "<style scoped>\n",
       "    .dataframe tbody tr th:only-of-type {\n",
       "        vertical-align: middle;\n",
       "    }\n",
       "\n",
       "    .dataframe tbody tr th {\n",
       "        vertical-align: top;\n",
       "    }\n",
       "\n",
       "    .dataframe thead th {\n",
       "        text-align: right;\n",
       "    }\n",
       "</style>\n",
       "<table border=\"1\" class=\"dataframe\">\n",
       "  <thead>\n",
       "    <tr style=\"text-align: right;\">\n",
       "      <th></th>\n",
       "      <th>BasePay</th>\n",
       "      <th>OvertimePay</th>\n",
       "      <th>Benefits</th>\n",
       "      <th>TotalPay</th>\n",
       "    </tr>\n",
       "    <tr>\n",
       "      <th>Year</th>\n",
       "      <th></th>\n",
       "      <th></th>\n",
       "      <th></th>\n",
       "      <th></th>\n",
       "    </tr>\n",
       "  </thead>\n",
       "  <tbody>\n",
       "    <tr>\n",
       "      <th>2011.0</th>\n",
       "      <td>127689.905429</td>\n",
       "      <td>14158.558286</td>\n",
       "      <td>14440.346286</td>\n",
       "      <td>156288.810000</td>\n",
       "    </tr>\n",
       "    <tr>\n",
       "      <th>2012.0</th>\n",
       "      <td>125600.486552</td>\n",
       "      <td>16581.263793</td>\n",
       "      <td>13401.096379</td>\n",
       "      <td>155582.846724</td>\n",
       "    </tr>\n",
       "    <tr>\n",
       "      <th>2013.0</th>\n",
       "      <td>123890.702500</td>\n",
       "      <td>15485.835326</td>\n",
       "      <td>14980.779239</td>\n",
       "      <td>154357.317065</td>\n",
       "    </tr>\n",
       "    <tr>\n",
       "      <th>2014.0</th>\n",
       "      <td>124630.493750</td>\n",
       "      <td>19258.601250</td>\n",
       "      <td>14448.634420</td>\n",
       "      <td>158337.729420</td>\n",
       "    </tr>\n",
       "    <tr>\n",
       "      <th>2015.0</th>\n",
       "      <td>135920.137439</td>\n",
       "      <td>9005.052683</td>\n",
       "      <td>8217.304756</td>\n",
       "      <td>153142.494878</td>\n",
       "    </tr>\n",
       "    <tr>\n",
       "      <th>2016.0</th>\n",
       "      <td>119221.022500</td>\n",
       "      <td>14250.761250</td>\n",
       "      <td>19295.398125</td>\n",
       "      <td>152767.181875</td>\n",
       "    </tr>\n",
       "    <tr>\n",
       "      <th>2017.0</th>\n",
       "      <td>134708.330053</td>\n",
       "      <td>15499.829733</td>\n",
       "      <td>12683.063262</td>\n",
       "      <td>162891.223048</td>\n",
       "    </tr>\n",
       "    <tr>\n",
       "      <th>2018.0</th>\n",
       "      <td>131565.506176</td>\n",
       "      <td>12951.430588</td>\n",
       "      <td>16118.287059</td>\n",
       "      <td>160635.223824</td>\n",
       "    </tr>\n",
       "    <tr>\n",
       "      <th>2019.0</th>\n",
       "      <td>155519.517745</td>\n",
       "      <td>26513.913680</td>\n",
       "      <td>21194.340237</td>\n",
       "      <td>203227.771662</td>\n",
       "    </tr>\n",
       "  </tbody>\n",
       "</table>\n",
       "</div>"
      ],
      "text/plain": [
       "              BasePay   OvertimePay      Benefits       TotalPay\n",
       "Year                                                            \n",
       "2011.0  127689.905429  14158.558286  14440.346286  156288.810000\n",
       "2012.0  125600.486552  16581.263793  13401.096379  155582.846724\n",
       "2013.0  123890.702500  15485.835326  14980.779239  154357.317065\n",
       "2014.0  124630.493750  19258.601250  14448.634420  158337.729420\n",
       "2015.0  135920.137439   9005.052683   8217.304756  153142.494878\n",
       "2016.0  119221.022500  14250.761250  19295.398125  152767.181875\n",
       "2017.0  134708.330053  15499.829733  12683.063262  162891.223048\n",
       "2018.0  131565.506176  12951.430588  16118.287059  160635.223824\n",
       "2019.0  155519.517745  26513.913680  21194.340237  203227.771662"
      ]
     },
     "execution_count": 46,
     "metadata": {
      "tags": []
     },
     "output_type": "execute_result"
    }
   ],
   "source": [
    "sal_grp"
   ]
  },
  {
   "cell_type": "markdown",
   "metadata": {
    "colab_type": "text",
    "id": "zZbewfAWQkWI"
   },
   "source": [
    "## **Matplotlib**"
   ]
  },
  {
   "cell_type": "code",
   "execution_count": null,
   "metadata": {
    "colab": {},
    "colab_type": "code",
    "id": "bGqCFlVURpIh"
   },
   "outputs": [],
   "source": [
    "import matplotlib.pyplot as plt\n",
    "%matplotlib inline"
   ]
  },
  {
   "cell_type": "code",
   "execution_count": null,
   "metadata": {
    "colab": {},
    "colab_type": "code",
    "id": "PXZHdu_Pewln"
   },
   "outputs": [],
   "source": [
    "y = sal_grp['BasePay']\n",
    "x = sal_grp.index"
   ]
  },
  {
   "cell_type": "code",
   "execution_count": null,
   "metadata": {
    "colab": {
     "base_uri": "https://localhost:8080/",
     "height": 68
    },
    "colab_type": "code",
    "executionInfo": {
     "elapsed": 432,
     "status": "ok",
     "timestamp": 1585169941796,
     "user": {
      "displayName": "Narendra Vishnumolakala",
      "photoUrl": "",
      "userId": "05474597894283672694"
     },
     "user_tz": 300
    },
    "id": "Fn-ut8TOfb1-",
    "outputId": "68e5e964-2316-4353-928b-b4bf54d1e7f9"
   },
   "outputs": [
    {
     "data": {
      "text/plain": [
       "Float64Index([2011.0, 2012.0, 2013.0, 2014.0, 2015.0, 2016.0, 2017.0, 2018.0,\n",
       "              2019.0],\n",
       "             dtype='float64', name='Year')"
      ]
     },
     "execution_count": 53,
     "metadata": {
      "tags": []
     },
     "output_type": "execute_result"
    }
   ],
   "source": [
    "x"
   ]
  },
  {
   "cell_type": "code",
   "execution_count": null,
   "metadata": {
    "colab": {
     "base_uri": "https://localhost:8080/",
     "height": 204
    },
    "colab_type": "code",
    "executionInfo": {
     "elapsed": 393,
     "status": "ok",
     "timestamp": 1585169950344,
     "user": {
      "displayName": "Narendra Vishnumolakala",
      "photoUrl": "",
      "userId": "05474597894283672694"
     },
     "user_tz": 300
    },
    "id": "NXWhkXOKfd0D",
    "outputId": "421ee5a8-b3c3-4c53-cd24-6a7b768637c9"
   },
   "outputs": [
    {
     "data": {
      "text/plain": [
       "Year\n",
       "2011.0    127689.905429\n",
       "2012.0    125600.486552\n",
       "2013.0    123890.702500\n",
       "2014.0    124630.493750\n",
       "2015.0    135920.137439\n",
       "2016.0    119221.022500\n",
       "2017.0    134708.330053\n",
       "2018.0    131565.506176\n",
       "2019.0    155519.517745\n",
       "Name: BasePay, dtype: float64"
      ]
     },
     "execution_count": 54,
     "metadata": {
      "tags": []
     },
     "output_type": "execute_result"
    }
   ],
   "source": [
    "y"
   ]
  },
  {
   "cell_type": "code",
   "execution_count": null,
   "metadata": {
    "colab": {
     "base_uri": "https://localhost:8080/",
     "height": 383
    },
    "colab_type": "code",
    "executionInfo": {
     "elapsed": 440,
     "status": "ok",
     "timestamp": 1585170055042,
     "user": {
      "displayName": "Narendra Vishnumolakala",
      "photoUrl": "",
      "userId": "05474597894283672694"
     },
     "user_tz": 300
    },
    "id": "8n5tuoS6ewo2",
    "outputId": "dd4949b5-04bc-40b1-a7de-6a6a4cacaf31"
   },
   "outputs": [
    {
     "data": {
      "text/plain": [
       "Text(0.5, 1.0, 'MBP vs Year')"
      ]
     },
     "execution_count": 56,
     "metadata": {
      "tags": []
     },
     "output_type": "execute_result"
    },
    {
     "data": {
      "image/png": "[encoded data removed]",
      "text/plain": [
       "<Figure size 432x288 with 1 Axes>"
      ]
     },
     "metadata": {
      "tags": []
     },
     "output_type": "display_data"
    }
   ],
   "source": [
    "fig = plt.figure()\n",
    "ax = fig.add_axes([0,0,1,1])\n",
    "ax.plot(x,y)\n",
    "ax.set_xlabel('Year')\n",
    "ax.set_ylabel('Mean Base Pay')\n",
    "ax.set_title('MBP vs Year')"
   ]
  },
  {
   "cell_type": "markdown",
   "metadata": {
    "colab_type": "text",
    "id": "xqFc5jb5UjpU"
   },
   "source": [
    "## **Seaborn**"
   ]
  },
  {
   "cell_type": "code",
   "execution_count": null,
   "metadata": {
    "colab": {},
    "colab_type": "code",
    "id": "UAsr4-93Um48"
   },
   "outputs": [],
   "source": [
    "import seaborn as sns"
   ]
  },
  {
   "cell_type": "code",
   "execution_count": null,
   "metadata": {
    "colab": {
     "base_uri": "https://localhost:8080/",
     "height": 298
    },
    "colab_type": "code",
    "executionInfo": {
     "elapsed": 572,
     "status": "ok",
     "timestamp": 1585170244603,
     "user": {
      "displayName": "Narendra Vishnumolakala",
      "photoUrl": "",
      "userId": "05474597894283672694"
     },
     "user_tz": 300
    },
    "id": "3IMqeFg-gEjl",
    "outputId": "56efb873-d401-44f9-8d03-784eab21da8a"
   },
   "outputs": [
    {
     "data": {
      "text/plain": [
       "<matplotlib.axes._subplots.AxesSubplot at 0x7fb28c11f198>"
      ]
     },
     "execution_count": 58,
     "metadata": {
      "tags": []
     },
     "output_type": "execute_result"
    },
    {
     "data": {
      "image/png": "[encoded data removed]",
      "text/plain": [
       "<Figure size 432x288 with 1 Axes>"
      ]
     },
     "metadata": {
      "tags": []
     },
     "output_type": "display_data"
    }
   ],
   "source": [
    "sns.countplot(x='Year',data=sal_clean)"
   ]
  },
  {
   "cell_type": "code",
   "execution_count": null,
   "metadata": {
    "colab": {
     "base_uri": "https://localhost:8080/",
     "height": 764
    },
    "colab_type": "code",
    "executionInfo": {
     "elapsed": 4045,
     "status": "ok",
     "timestamp": 1585170354331,
     "user": {
      "displayName": "Narendra Vishnumolakala",
      "photoUrl": "",
      "userId": "05474597894283672694"
     },
     "user_tz": 300
    },
    "id": "VzJd82R4gmFl",
    "outputId": "ed8b4a2f-d4af-486e-b3e0-88bd66129760"
   },
   "outputs": [
    {
     "data": {
      "text/plain": [
       "<seaborn.axisgrid.PairGrid at 0x7fb28c8a0550>"
      ]
     },
     "execution_count": 59,
     "metadata": {
      "tags": []
     },
     "output_type": "execute_result"
    },
    {
     "data": {
      "image/png": "[encoded data removed]",
      "text/plain": [
       "<Figure size 720x720 with 20 Axes>"
      ]
     },
     "metadata": {
      "tags": []
     },
     "output_type": "display_data"
    }
   ],
   "source": [
    "sns.pairplot(sal_grp)"
   ]
  },
  {
   "cell_type": "markdown",
   "metadata": {
    "colab_type": "text",
    "id": "MRdC_rYqrvd9"
   },
   "source": [
    "Thank You !"
   ]
  }
 ],
 "metadata": {
  "colab": {
   "authorship_tag": "ABX9TyPO4eXtSCXzjc799ba/TM9o",
   "collapsed_sections": [],
   "name": "Libraries.ipynb",
   "provenance": []
  },
  "kernelspec": {
   "display_name": "Python 3",
   "language": "python",
   "name": "python3"
  },
  "language_info": {
   "codemirror_mode": {
    "name": "ipython",
    "version": 3
   },
   "file_extension": ".py",
   "mimetype": "text/x-python",
   "name": "python",
   "nbconvert_exporter": "python",
   "pygments_lexer": "ipython3",
   "version": "3.8.5"
  }
 },
 "nbformat": 4,
 "nbformat_minor": 4
}
