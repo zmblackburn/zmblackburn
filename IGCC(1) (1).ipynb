{
 "cells": [
  {
   "cell_type": "code",
   "execution_count": 1,
   "metadata": {
    "collapsed": true,
    "jupyter": {
     "outputs_hidden": true
    }
   },
   "outputs": [],
   "source": [
    "from matplotlib import pyplot as plt\n",
    "from IPython.core.display import display\n",
    "from gurobipy import Model, GRB, quicksum\n",
    "from pandas import DataFrame\n",
    "from numpy import linspace"
   ]
  },
  {
   "cell_type": "markdown",
   "metadata": {},
   "source": [
    "## Integrated Gasification Combined Cycle Problem\n",
    "\n",
    "### Problem Definition\n",
    "\n",
    "A power company is considering to construct a new IGCC power plant. Two processes are available:\n",
    "process I with F-class gas turbine and process II with H-class gas turbine. Both processes use\n",
    "synthesis gas (syngas) as the main fuel. Syngas can be purchased from a nearby chemical plant or\n",
    "produced with a gasifier which uses coal as a raw material.\n",
    "\n",
    "Given the specification below, construct a mixed-integer linear programming model to maximize the\n",
    "IGCC power plant’s profit.\n",
    "\n",
    "Process Parameters:\n",
    "\n",
    "| Process | Fixed Cost (&#0036;/hr) | Variable Cost (&#0036;/basis) | CO$_2$ (kg/basis) | Conv. Coal | Conv. Syngas | Conv. Electricity |\n",
    "|:-:|:-:|:-:|:-:|:-:|:-:|:-:|\n",
    "| Process 1 | 1000 | 25 | 300 | 0 | -1 | 3.0 |\n",
    "| Process 2 | 1500 | 30 | 200 | 0 | -1 | 3.2 |\n",
    "| Gasifer | 2000 | 55 | 0 | -1 | 0.95 | 0 |\n",
    "\n",
    "Material Parameters:\n",
    "\n",
    "| Material | Purchase Price | Supply LB | Supply UB | Demand LB | Demand UB |\n",
    "|:-:|:-:|:-:|:-:|:-:|:-:|\n",
    "| Coal | &#0036;70/ton | 0 tons\\hr | 200 tons/hr | 0 tons/hr | 0 tons/hr |\n",
    "| Syngas | &#0036;200/ton | 0 tons\\hr | &#8734; tons/hr | 0 tons/hr | 0 tons/hr |\n",
    "| Electricity | &#0036;0/ton | 0 MWh | 0 MWh | 0 MWh | 300 MWh|"
   ]
  },
  {
   "cell_type": "markdown",
   "metadata": {
    "pycharm": {
     "name": "#%% md\n"
    }
   },
   "source": [
    "#### Sets\n",
    "\n",
    "There are three different processes, $\\mathcal{P}$, and there are three different materials,\n",
    "$\\mathcal{M}$."
   ]
  },
  {
   "cell_type": "code",
   "execution_count": 2,
   "metadata": {
    "collapsed": false,
    "jupyter": {
     "outputs_hidden": false
    },
    "pycharm": {
     "name": "#%%\n"
    }
   },
   "outputs": [],
   "source": [
    "P = [\"Process 1\", \"Process 2\", \"Gasifer\"]\n",
    "M = [\"Coal\", \"Syngas\", \"Electricity\"]\n"
   ]
  },
  {
   "cell_type": "markdown",
   "metadata": {
    "pycharm": {
     "name": "#%% md\n"
    }
   },
   "source": [
    "#### Process Parameters"
   ]
  },
  {
   "cell_type": "code",
   "execution_count": 3,
   "metadata": {
    "collapsed": false,
    "jupyter": {
     "outputs_hidden": false
    },
    "pycharm": {
     "name": "#%%\n"
    }
   },
   "outputs": [],
   "source": [
    "pp = DataFrame({\"Process 1\": [1000, 25, 150, 0, -1, 3.0], \"Process 2\": [1500, 30, 300, 0, -1, 3.2],\n",
    "                \"Gasifer\": [2000, 55, 0, -1, 0.95, 0.0]}, index=[\"Fixed Cost\", \"Variable Cost\",\n",
    "                \"CO_2\", \"Conv. Coal\", \"Conv. Syngas\", \"Conv. Electricity\"]).transpose()\n",
    "\n",
    "get_fixed_cost = lambda j: pp[\"Fixed Cost\"][j]\n",
    "get_variable_cost = lambda j: pp[\"Variable Cost\"][j]\n",
    "get_co_2 = lambda j: pp[\"CO_2\"][j]\n",
    "get_conversion = lambda i, j: pp[\"Conv. \" + i][j]"
   ]
  },
  {
   "cell_type": "markdown",
   "metadata": {},
   "source": [
    "#### Material Parameters"
   ]
  },
  {
   "cell_type": "code",
   "execution_count": 4,
   "metadata": {
    "collapsed": false,
    "jupyter": {
     "outputs_hidden": false
    },
    "pycharm": {
     "name": "#%%\n"
    }
   },
   "outputs": [],
   "source": [
    "mp = DataFrame({\"Coal\": [70, 0, 200, 0, 0], \"Syngas\": [200, 0, GRB.INFINITY, 0, 0],\n",
    "                \"Electricity\": [0, 0, 0, 300, GRB.INFINITY]}, index=[\"Purchasing Price\",\n",
    "                \"Supply LB\", \"Supply UB\", \"Demand LB\", \"Demand UB\"]).transpose()\n",
    "\n",
    "get_purchasing_price = lambda i: mp[\"Purchasing Price\"][i]\n",
    "get_supply_lb = lambda i: mp[\"Supply LB\"][i]\n",
    "get_supply_ub = lambda i: mp[\"Supply UB\"][i]\n",
    "get_demand_lb = lambda i: mp[\"Demand LB\"][i]\n",
    "get_demand_ub = lambda i: mp[\"Demand UB\"][i]"
   ]
  },
  {
   "cell_type": "markdown",
   "metadata": {
    "pycharm": {
     "name": "#%% md\n"
    }
   },
   "source": [
    "#### Gurobi Model"
   ]
  },
  {
   "cell_type": "code",
   "execution_count": 5,
   "metadata": {
    "collapsed": false,
    "jupyter": {
     "outputs_hidden": false
    },
    "pycharm": {
     "name": "#%%\n"
    }
   },
   "outputs": [
    {
     "name": "stdout",
     "output_type": "stream",
     "text": [
      "Using license file /Users/richardallen/gurobi.lic\n",
      "Academic license - for non-commercial use only\n"
     ]
    }
   ],
   "source": [
    "m = Model()"
   ]
  },
  {
   "cell_type": "markdown",
   "metadata": {},
   "source": [
    "##### Positive Variables\n",
    "\n",
    "\\begin{equation}\n",
    "p_{i} \\in [\\text{get\\_supply\\_lb}(i), \\, \\text{get\\_supply\\_ub}(i)] \\; \\; \\forall \\; i \\in \\mathcal{M}\n",
    "\\end{equation}\n",
    "\n",
    "\\begin{equation}\n",
    "s_{i} \\in [\\text{get\\_demand\\_lb}(i), \\, \\text{get\\_demand\\_ub}(i)] \\; \\; \\forall \\; i \\in \\mathcal{M}\n",
    "\\end{equation}\n",
    "\n",
    "\\begin{equation}\n",
    "x_{j} \\in [0, \\infty] \\; \\; \\forall \\; j \\in \\mathcal{P}\n",
    "\\end{equation}"
   ]
  },
  {
   "cell_type": "code",
   "execution_count": 6,
   "metadata": {
    "collapsed": false,
    "jupyter": {
     "outputs_hidden": false
    },
    "pycharm": {
     "name": "#%%\n"
    }
   },
   "outputs": [],
   "source": [
    "p = m.addVars(M, lb={i: get_supply_lb(i) for i in M}, ub={i: get_supply_ub(i) for i in M}, vtype=GRB.CONTINUOUS)\n",
    "s = m.addVars(M, lb={i: get_demand_lb(i) for i in M}, ub={i: get_demand_ub(i) for i in M}, vtype=GRB.CONTINUOUS)\n",
    "x = m.addVars(P, lb=0, vtype=GRB.CONTINUOUS)"
   ]
  },
  {
   "cell_type": "markdown",
   "metadata": {
    "pycharm": {
     "name": "#%% md\n"
    }
   },
   "source": [
    "##### Binary Variables\n",
    "\n",
    "\\begin{equation}\n",
    "y_{j} \\in \\{0, 1\\} \\; \\; \\forall \\; j \\in \\mathcal{P}\n",
    "\\end{equation}"
   ]
  },
  {
   "cell_type": "code",
   "execution_count": 7,
   "metadata": {
    "collapsed": false,
    "jupyter": {
     "outputs_hidden": false
    },
    "pycharm": {
     "name": "#%%\n"
    }
   },
   "outputs": [],
   "source": [
    "y = m.addVars(P, vtype=GRB.BINARY, name=\"y\")"
   ]
  },
  {
   "cell_type": "markdown",
   "metadata": {
    "pycharm": {
     "name": "#%% md\n"
    }
   },
   "source": [
    "##### Constraints\n",
    "\n",
    "\\begin{equation}\n",
    "p_{i} + \\displaystyle\\sum_{j \\in \\mathcal{P}} \\text{get\\_conversion}(i,j) \\cdot x_{j} = s_{i} \\; \\; \\forall \\; i \\in \\mathcal{M}\n",
    "\\end{equation}"
   ]
  },
  {
   "cell_type": "code",
   "execution_count": 8,
   "metadata": {
    "collapsed": false,
    "jupyter": {
     "outputs_hidden": false
    },
    "pycharm": {
     "name": "#%%\n"
    }
   },
   "outputs": [],
   "source": [
    "m.addConstrs(p[i] + quicksum(get_conversion(i,j) * x[j] for j in P) == s[i] for i in M);"
   ]
  },
  {
   "cell_type": "markdown",
   "metadata": {
    "pycharm": {
     "name": "#%% md\n"
    }
   },
   "source": [
    "\\begin{equation}\n",
    "x_{j} \\le \\textit{M} \\cdot y_{j} \\; \\; \\forall \\; j \\in \\mathcal{P}\n",
    "\\end{equation}"
   ]
  },
  {
   "cell_type": "code",
   "execution_count": 9,
   "metadata": {
    "collapsed": false,
    "jupyter": {
     "outputs_hidden": false
    },
    "pycharm": {
     "name": "#%%\n"
    }
   },
   "outputs": [],
   "source": [
    "m.addConstrs(x[j] <= 1e6 * y[j] for j in P);\n"
   ]
  },
  {
   "cell_type": "markdown",
   "metadata": {},
   "source": [
    "##### Objective Function\n",
    "\n",
    "\\begin{equation}\n",
    "\\min\n",
    "\\displaystyle\\sum_{j \\in \\mathcal{M}} \\text{get\\_purchasing\\_price}(j) \\cdot p_{j} +\n",
    "\\displaystyle\\sum_{i \\in \\mathcal{P}} \\text{get\\_fixed\\_cost}(i) \\cdot y_{i} +\n",
    "\\displaystyle\\sum_{i \\in \\mathcal{P}} \\text{get\\_variable\\_cost}(i) \\cdot x_{i}\n",
    "\\end{equation}"
   ]
  },
  {
   "cell_type": "code",
   "execution_count": 10,
   "metadata": {
    "collapsed": false,
    "jupyter": {
     "outputs_hidden": false
    },
    "pycharm": {
     "name": "#%%\n"
    }
   },
   "outputs": [],
   "source": [
    "m.setObjective(quicksum(get_purchasing_price(k) * v for (k, v) in p.items()) +\n",
    "               quicksum(get_fixed_cost(k) * v for (k, v) in y.items()) +\n",
    "               quicksum(get_variable_cost(k) * v for (k, v) in x.items()), GRB.MINIMIZE)"
   ]
  },
  {
   "cell_type": "markdown",
   "metadata": {},
   "source": [
    "##### Optimize"
   ]
  },
  {
   "cell_type": "code",
   "execution_count": 11,
   "metadata": {
    "collapsed": false,
    "jupyter": {
     "outputs_hidden": false
    },
    "pycharm": {
     "name": "#%%\n"
    }
   },
   "outputs": [
    {
     "name": "stdout",
     "output_type": "stream",
     "text": [
      "Gurobi Optimizer version 9.0.3 build v9.0.3rc0 (mac64)\n",
      "Optimize a model with 6 rows, 12 columns and 18 nonzeros\n",
      "Model fingerprint: 0xa1f0e658\n",
      "Variable types: 9 continuous, 3 integer (3 binary)\n",
      "Coefficient statistics:\n",
      "  Matrix range     [9e-01, 1e+06]\n",
      "  Objective range  [2e+01, 2e+03]\n",
      "  Bounds range     [1e+00, 3e+02]\n",
      "  RHS range        [0e+00, 0e+00]\n",
      "Presolve removed 1 rows and 5 columns\n",
      "Presolve time: 0.00s\n",
      "Presolved: 5 rows, 7 columns, 12 nonzeros\n",
      "Variable types: 4 continuous, 3 integer (3 binary)\n",
      "\n",
      "Root relaxation: objective 1.613501e+04, 5 iterations, 0.00 seconds\n",
      "\n",
      "    Nodes    |    Current Node    |     Objective Bounds      |     Work\n",
      " Expl Unexpl |  Obj  Depth IntInf | Incumbent    BestBd   Gap | It/Node Time\n",
      "\n",
      "     0     0 16135.0090    0    2          - 16135.0090      -     -    0s\n",
      "H    0     0                    18648.026316 16135.0090  13.5%     -    0s\n",
      "     0     0     cutoff    0      18648.0263 18648.0263  0.00%     -    0s\n",
      "\n",
      "Cutting planes:\n",
      "  Implied bound: 2\n",
      "  Clique: 1\n",
      "\n",
      "Explored 1 nodes (8 simplex iterations) in 0.03 seconds\n",
      "Thread count was 8 (of 8 available processors)\n",
      "\n",
      "Solution count 1: 18648 \n",
      "\n",
      "Optimal solution found (tolerance 1.00e-04)\n",
      "Best objective 1.864802631579e+04, best bound 1.864802631579e+04, gap 0.0000%\n"
     ]
    }
   ],
   "source": [
    "m.optimize()"
   ]
  },
  {
   "cell_type": "markdown",
   "metadata": {},
   "source": [
    "##### Results"
   ]
  },
  {
   "cell_type": "code",
   "execution_count": 12,
   "metadata": {
    "collapsed": false,
    "jupyter": {
     "outputs_hidden": false
    },
    "pycharm": {
     "name": "#%%\n"
    }
   },
   "outputs": [
    {
     "data": {
      "text/html": [
       "<div>\n",
       "<style scoped>\n",
       "    .dataframe tbody tr th:only-of-type {\n",
       "        vertical-align: middle;\n",
       "    }\n",
       "\n",
       "    .dataframe tbody tr th {\n",
       "        vertical-align: top;\n",
       "    }\n",
       "\n",
       "    .dataframe thead th {\n",
       "        text-align: right;\n",
       "    }\n",
       "</style>\n",
       "<table border=\"1\" class=\"dataframe\">\n",
       "  <thead>\n",
       "    <tr style=\"text-align: right;\">\n",
       "      <th></th>\n",
       "      <th>x_star</th>\n",
       "    </tr>\n",
       "    <tr>\n",
       "      <th>Process</th>\n",
       "      <th></th>\n",
       "    </tr>\n",
       "  </thead>\n",
       "  <tbody>\n",
       "    <tr>\n",
       "      <th>Process 1</th>\n",
       "      <td>0.000000</td>\n",
       "    </tr>\n",
       "    <tr>\n",
       "      <th>Process 2</th>\n",
       "      <td>93.750000</td>\n",
       "    </tr>\n",
       "    <tr>\n",
       "      <th>Gasifer</th>\n",
       "      <td>98.684211</td>\n",
       "    </tr>\n",
       "  </tbody>\n",
       "</table>\n",
       "</div>"
      ],
      "text/plain": [
       "              x_star\n",
       "Process             \n",
       "Process 1   0.000000\n",
       "Process 2  93.750000\n",
       "Gasifer    98.684211"
      ]
     },
     "metadata": {},
     "output_type": "display_data"
    }
   ],
   "source": [
    "x_star = DataFrame({j: x[j].x for j in P}, index=['x_star']).transpose().rename_axis(['Process'])\n",
    "display(x_star)"
   ]
  },
  {
   "cell_type": "markdown",
   "metadata": {},
   "source": [
    "##### Material Results"
   ]
  },
  {
   "cell_type": "code",
   "execution_count": 13,
   "metadata": {
    "collapsed": false,
    "jupyter": {
     "outputs_hidden": false
    },
    "pycharm": {
     "name": "#%%\n"
    }
   },
   "outputs": [
    {
     "data": {
      "text/html": [
       "<div>\n",
       "<style scoped>\n",
       "    .dataframe tbody tr th:only-of-type {\n",
       "        vertical-align: middle;\n",
       "    }\n",
       "\n",
       "    .dataframe tbody tr th {\n",
       "        vertical-align: top;\n",
       "    }\n",
       "\n",
       "    .dataframe thead th {\n",
       "        text-align: right;\n",
       "    }\n",
       "</style>\n",
       "<table border=\"1\" class=\"dataframe\">\n",
       "  <thead>\n",
       "    <tr style=\"text-align: right;\">\n",
       "      <th></th>\n",
       "      <th>p_star</th>\n",
       "      <th>s_star</th>\n",
       "    </tr>\n",
       "    <tr>\n",
       "      <th>Process</th>\n",
       "      <th></th>\n",
       "      <th></th>\n",
       "    </tr>\n",
       "  </thead>\n",
       "  <tbody>\n",
       "    <tr>\n",
       "      <th>Coal</th>\n",
       "      <td>98.684211</td>\n",
       "      <td>0.0</td>\n",
       "    </tr>\n",
       "    <tr>\n",
       "      <th>Syngas</th>\n",
       "      <td>0.000000</td>\n",
       "      <td>0.0</td>\n",
       "    </tr>\n",
       "    <tr>\n",
       "      <th>Electricity</th>\n",
       "      <td>0.000000</td>\n",
       "      <td>300.0</td>\n",
       "    </tr>\n",
       "  </tbody>\n",
       "</table>\n",
       "</div>"
      ],
      "text/plain": [
       "                p_star  s_star\n",
       "Process                       \n",
       "Coal         98.684211     0.0\n",
       "Syngas        0.000000     0.0\n",
       "Electricity   0.000000   300.0"
      ]
     },
     "metadata": {},
     "output_type": "display_data"
    }
   ],
   "source": [
    "ps_star = DataFrame({i: [p[i].x, s[i].x] for i in M}, index=['p_star', 's_star']).transpose().rename_axis(['Process'])\n",
    "display(ps_star)"
   ]
  },
  {
   "cell_type": "markdown",
   "metadata": {
    "pycharm": {
     "name": "#%% md\n"
    }
   },
   "source": [
    "##### Pareto Front\n",
    "\n",
    "##### Objective Function\n",
    "\n",
    "\\begin{equation}\n",
    "\\min\n",
    "e \\cdot \\displaystyle\\sum_{j \\in \\mathcal{M}} \\text{get\\_purchasing\\_price}(j) \\cdot p_{j} +\n",
    "e \\cdot \\displaystyle\\sum_{i \\in \\mathcal{P}} \\text{get\\_fixed\\_cost}(i) \\cdot y_{i} +\n",
    "e \\cdot \\displaystyle\\sum_{i \\in \\mathcal{P}} \\text{get\\_variable\\_cost}(i) \\cdot x_{i} +\n",
    "(1 - e ) \\cdot e \\cdot \\displaystyle\\sum_{i \\in \\mathcal{P}} \\text{get\\_co\\_2}(i) \\cdot x_{i}\n",
    "\\end{equation}"
   ]
  },
  {
   "cell_type": "code",
   "execution_count": 14,
   "metadata": {
    "collapsed": false,
    "jupyter": {
     "outputs_hidden": false
    },
    "pycharm": {
     "name": "#%%\n"
    }
   },
   "outputs": [
    {
     "data": {
      "image/png": "[encoded data removed]",
      "text/plain": [
       "<Figure size 432x288 with 1 Axes>"
      ]
     },
     "metadata": {
      "needs_background": "light"
     },
     "output_type": "display_data"
    }
   ],
   "source": [
    "m.Params.OutputFlag = 0\n",
    "\n",
    "j_1 = []\n",
    "j_2 = []\n",
    "for e in linspace(1e-6, 1-1e-6, 100):\n",
    "    m.setObjective(e * quicksum(get_purchasing_price(k) * v for (k, v) in p.items()) +\n",
    "                   e * quicksum(get_fixed_cost(k) * v for (k, v) in y.items()) +\n",
    "                   e * quicksum(get_variable_cost(k) * v for (k, v) in x.items()) +\n",
    "                   (1 - e) * quicksum(get_co_2(k) * v for (k, v) in x.items()), GRB.MINIMIZE)\n",
    "    m.optimize()\n",
    "    j_1.append(sum(get_purchasing_price(k) * v.x for (k, v) in p.items()) +\n",
    "               sum(get_fixed_cost(k) * v.x for (k, v) in y.items()) +\n",
    "               sum(get_variable_cost(k) * v.x for (k, v) in x.items()))\n",
    "    j_2.append(sum(get_co_2(k) * v.x for (k, v) in x.items()))\n",
    "\n",
    "fig, ax = plt.subplots()\n",
    "ax.plot(j_1, j_2)\n",
    "ax.set_title('Pareto Front')\n",
    "ax.set_ylabel(\"CO_2 [kg]\")\n",
    "ax.set_xlabel(\"Economic Cost [$]\")\n",
    "plt.show()"
   ]
  }
 ],
 "metadata": {
  "kernelspec": {
   "display_name": "Python 3",
   "language": "python",
   "name": "python3"
  },
  "language_info": {
   "codemirror_mode": {
    "name": "ipython",
    "version": 3
   },
   "file_extension": ".py",
   "mimetype": "text/x-python",
   "name": "python",
   "nbconvert_exporter": "python",
   "pygments_lexer": "ipython3",
   "version": "3.7.6"
  }
 },
 "nbformat": 4,
 "nbformat_minor": 4
}
